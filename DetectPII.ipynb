{
  "nbformat": 4,
  "nbformat_minor": 0,
  "metadata": {
    "colab": {
      "provenance": []
    },
    "kernelspec": {
      "name": "python3",
      "display_name": "Python 3"
    },
    "language_info": {
      "name": "python"
    }
  },
  "cells": [
    {
      "cell_type": "markdown",
      "source": [
        "## PII validator built using Presidio"
      ],
      "metadata": {
        "id": "pBnO93UKb59n"
      }
    },
    {
      "cell_type": "code",
      "source": [
        "!pip install presidio_analyzer"
      ],
      "metadata": {
        "colab": {
          "base_uri": "https://localhost:8080/"
        },
        "id": "gX_nsLO_YJPO",
        "outputId": "78d428cd-fe52-440c-ca4c-92f9c09c8f19"
      },
      "execution_count": 1,
      "outputs": [
        {
          "output_type": "stream",
          "name": "stdout",
          "text": [
            "Collecting presidio_analyzer\n",
            "  Downloading presidio_analyzer-2.2.357-py3-none-any.whl.metadata (3.3 kB)\n",
            "Collecting phonenumbers<9.0.0,>=8.12 (from presidio_analyzer)\n",
            "  Downloading phonenumbers-8.13.53-py2.py3-none-any.whl.metadata (11 kB)\n",
            "Requirement already satisfied: pyyaml in /usr/local/lib/python3.11/dist-packages (from presidio_analyzer) (6.0.2)\n",
            "Requirement already satisfied: regex in /usr/local/lib/python3.11/dist-packages (from presidio_analyzer) (2024.11.6)\n",
            "Requirement already satisfied: spacy!=3.7.0,<4.0.0,>=3.4.4 in /usr/local/lib/python3.11/dist-packages (from presidio_analyzer) (3.7.5)\n",
            "Collecting tldextract (from presidio_analyzer)\n",
            "  Downloading tldextract-5.1.3-py3-none-any.whl.metadata (11 kB)\n",
            "Requirement already satisfied: spacy-legacy<3.1.0,>=3.0.11 in /usr/local/lib/python3.11/dist-packages (from spacy!=3.7.0,<4.0.0,>=3.4.4->presidio_analyzer) (3.0.12)\n",
            "Requirement already satisfied: spacy-loggers<2.0.0,>=1.0.0 in /usr/local/lib/python3.11/dist-packages (from spacy!=3.7.0,<4.0.0,>=3.4.4->presidio_analyzer) (1.0.5)\n",
            "Requirement already satisfied: murmurhash<1.1.0,>=0.28.0 in /usr/local/lib/python3.11/dist-packages (from spacy!=3.7.0,<4.0.0,>=3.4.4->presidio_analyzer) (1.0.11)\n",
            "Requirement already satisfied: cymem<2.1.0,>=2.0.2 in /usr/local/lib/python3.11/dist-packages (from spacy!=3.7.0,<4.0.0,>=3.4.4->presidio_analyzer) (2.0.10)\n",
            "Requirement already satisfied: preshed<3.1.0,>=3.0.2 in /usr/local/lib/python3.11/dist-packages (from spacy!=3.7.0,<4.0.0,>=3.4.4->presidio_analyzer) (3.0.9)\n",
            "Requirement already satisfied: thinc<8.3.0,>=8.2.2 in /usr/local/lib/python3.11/dist-packages (from spacy!=3.7.0,<4.0.0,>=3.4.4->presidio_analyzer) (8.2.5)\n",
            "Requirement already satisfied: wasabi<1.2.0,>=0.9.1 in /usr/local/lib/python3.11/dist-packages (from spacy!=3.7.0,<4.0.0,>=3.4.4->presidio_analyzer) (1.1.3)\n",
            "Requirement already satisfied: srsly<3.0.0,>=2.4.3 in /usr/local/lib/python3.11/dist-packages (from spacy!=3.7.0,<4.0.0,>=3.4.4->presidio_analyzer) (2.5.0)\n",
            "Requirement already satisfied: catalogue<2.1.0,>=2.0.6 in /usr/local/lib/python3.11/dist-packages (from spacy!=3.7.0,<4.0.0,>=3.4.4->presidio_analyzer) (2.0.10)\n",
            "Requirement already satisfied: weasel<0.5.0,>=0.1.0 in /usr/local/lib/python3.11/dist-packages (from spacy!=3.7.0,<4.0.0,>=3.4.4->presidio_analyzer) (0.4.1)\n",
            "Requirement already satisfied: typer<1.0.0,>=0.3.0 in /usr/local/lib/python3.11/dist-packages (from spacy!=3.7.0,<4.0.0,>=3.4.4->presidio_analyzer) (0.15.1)\n",
            "Requirement already satisfied: tqdm<5.0.0,>=4.38.0 in /usr/local/lib/python3.11/dist-packages (from spacy!=3.7.0,<4.0.0,>=3.4.4->presidio_analyzer) (4.67.1)\n",
            "Requirement already satisfied: requests<3.0.0,>=2.13.0 in /usr/local/lib/python3.11/dist-packages (from spacy!=3.7.0,<4.0.0,>=3.4.4->presidio_analyzer) (2.32.3)\n",
            "Requirement already satisfied: pydantic!=1.8,!=1.8.1,<3.0.0,>=1.7.4 in /usr/local/lib/python3.11/dist-packages (from spacy!=3.7.0,<4.0.0,>=3.4.4->presidio_analyzer) (2.10.5)\n",
            "Requirement already satisfied: jinja2 in /usr/local/lib/python3.11/dist-packages (from spacy!=3.7.0,<4.0.0,>=3.4.4->presidio_analyzer) (3.1.5)\n",
            "Requirement already satisfied: setuptools in /usr/local/lib/python3.11/dist-packages (from spacy!=3.7.0,<4.0.0,>=3.4.4->presidio_analyzer) (75.1.0)\n",
            "Requirement already satisfied: packaging>=20.0 in /usr/local/lib/python3.11/dist-packages (from spacy!=3.7.0,<4.0.0,>=3.4.4->presidio_analyzer) (24.2)\n",
            "Requirement already satisfied: langcodes<4.0.0,>=3.2.0 in /usr/local/lib/python3.11/dist-packages (from spacy!=3.7.0,<4.0.0,>=3.4.4->presidio_analyzer) (3.5.0)\n",
            "Requirement already satisfied: numpy>=1.19.0 in /usr/local/lib/python3.11/dist-packages (from spacy!=3.7.0,<4.0.0,>=3.4.4->presidio_analyzer) (1.26.4)\n",
            "Requirement already satisfied: idna in /usr/local/lib/python3.11/dist-packages (from tldextract->presidio_analyzer) (3.10)\n",
            "Collecting requests-file>=1.4 (from tldextract->presidio_analyzer)\n",
            "  Downloading requests_file-2.1.0-py2.py3-none-any.whl.metadata (1.7 kB)\n",
            "Requirement already satisfied: filelock>=3.0.8 in /usr/local/lib/python3.11/dist-packages (from tldextract->presidio_analyzer) (3.16.1)\n",
            "Requirement already satisfied: language-data>=1.2 in /usr/local/lib/python3.11/dist-packages (from langcodes<4.0.0,>=3.2.0->spacy!=3.7.0,<4.0.0,>=3.4.4->presidio_analyzer) (1.3.0)\n",
            "Requirement already satisfied: annotated-types>=0.6.0 in /usr/local/lib/python3.11/dist-packages (from pydantic!=1.8,!=1.8.1,<3.0.0,>=1.7.4->spacy!=3.7.0,<4.0.0,>=3.4.4->presidio_analyzer) (0.7.0)\n",
            "Requirement already satisfied: pydantic-core==2.27.2 in /usr/local/lib/python3.11/dist-packages (from pydantic!=1.8,!=1.8.1,<3.0.0,>=1.7.4->spacy!=3.7.0,<4.0.0,>=3.4.4->presidio_analyzer) (2.27.2)\n",
            "Requirement already satisfied: typing-extensions>=4.12.2 in /usr/local/lib/python3.11/dist-packages (from pydantic!=1.8,!=1.8.1,<3.0.0,>=1.7.4->spacy!=3.7.0,<4.0.0,>=3.4.4->presidio_analyzer) (4.12.2)\n",
            "Requirement already satisfied: charset-normalizer<4,>=2 in /usr/local/lib/python3.11/dist-packages (from requests<3.0.0,>=2.13.0->spacy!=3.7.0,<4.0.0,>=3.4.4->presidio_analyzer) (3.4.1)\n",
            "Requirement already satisfied: urllib3<3,>=1.21.1 in /usr/local/lib/python3.11/dist-packages (from requests<3.0.0,>=2.13.0->spacy!=3.7.0,<4.0.0,>=3.4.4->presidio_analyzer) (2.3.0)\n",
            "Requirement already satisfied: certifi>=2017.4.17 in /usr/local/lib/python3.11/dist-packages (from requests<3.0.0,>=2.13.0->spacy!=3.7.0,<4.0.0,>=3.4.4->presidio_analyzer) (2024.12.14)\n",
            "Requirement already satisfied: blis<0.8.0,>=0.7.8 in /usr/local/lib/python3.11/dist-packages (from thinc<8.3.0,>=8.2.2->spacy!=3.7.0,<4.0.0,>=3.4.4->presidio_analyzer) (0.7.11)\n",
            "Requirement already satisfied: confection<1.0.0,>=0.0.1 in /usr/local/lib/python3.11/dist-packages (from thinc<8.3.0,>=8.2.2->spacy!=3.7.0,<4.0.0,>=3.4.4->presidio_analyzer) (0.1.5)\n",
            "Requirement already satisfied: click>=8.0.0 in /usr/local/lib/python3.11/dist-packages (from typer<1.0.0,>=0.3.0->spacy!=3.7.0,<4.0.0,>=3.4.4->presidio_analyzer) (8.1.8)\n",
            "Requirement already satisfied: shellingham>=1.3.0 in /usr/local/lib/python3.11/dist-packages (from typer<1.0.0,>=0.3.0->spacy!=3.7.0,<4.0.0,>=3.4.4->presidio_analyzer) (1.5.4)\n",
            "Requirement already satisfied: rich>=10.11.0 in /usr/local/lib/python3.11/dist-packages (from typer<1.0.0,>=0.3.0->spacy!=3.7.0,<4.0.0,>=3.4.4->presidio_analyzer) (13.9.4)\n",
            "Requirement already satisfied: cloudpathlib<1.0.0,>=0.7.0 in /usr/local/lib/python3.11/dist-packages (from weasel<0.5.0,>=0.1.0->spacy!=3.7.0,<4.0.0,>=3.4.4->presidio_analyzer) (0.20.0)\n",
            "Requirement already satisfied: smart-open<8.0.0,>=5.2.1 in /usr/local/lib/python3.11/dist-packages (from weasel<0.5.0,>=0.1.0->spacy!=3.7.0,<4.0.0,>=3.4.4->presidio_analyzer) (7.1.0)\n",
            "Requirement already satisfied: MarkupSafe>=2.0 in /usr/local/lib/python3.11/dist-packages (from jinja2->spacy!=3.7.0,<4.0.0,>=3.4.4->presidio_analyzer) (3.0.2)\n",
            "Requirement already satisfied: marisa-trie>=1.1.0 in /usr/local/lib/python3.11/dist-packages (from language-data>=1.2->langcodes<4.0.0,>=3.2.0->spacy!=3.7.0,<4.0.0,>=3.4.4->presidio_analyzer) (1.2.1)\n",
            "Requirement already satisfied: markdown-it-py>=2.2.0 in /usr/local/lib/python3.11/dist-packages (from rich>=10.11.0->typer<1.0.0,>=0.3.0->spacy!=3.7.0,<4.0.0,>=3.4.4->presidio_analyzer) (3.0.0)\n",
            "Requirement already satisfied: pygments<3.0.0,>=2.13.0 in /usr/local/lib/python3.11/dist-packages (from rich>=10.11.0->typer<1.0.0,>=0.3.0->spacy!=3.7.0,<4.0.0,>=3.4.4->presidio_analyzer) (2.18.0)\n",
            "Requirement already satisfied: wrapt in /usr/local/lib/python3.11/dist-packages (from smart-open<8.0.0,>=5.2.1->weasel<0.5.0,>=0.1.0->spacy!=3.7.0,<4.0.0,>=3.4.4->presidio_analyzer) (1.17.0)\n",
            "Requirement already satisfied: mdurl~=0.1 in /usr/local/lib/python3.11/dist-packages (from markdown-it-py>=2.2.0->rich>=10.11.0->typer<1.0.0,>=0.3.0->spacy!=3.7.0,<4.0.0,>=3.4.4->presidio_analyzer) (0.1.2)\n",
            "Downloading presidio_analyzer-2.2.357-py3-none-any.whl (112 kB)\n",
            "\u001b[2K   \u001b[90m━━━━━━━━━━━━━━━━━━━━━━━━━━━━━━━━━━━━━━━━\u001b[0m \u001b[32m112.3/112.3 kB\u001b[0m \u001b[31m3.4 MB/s\u001b[0m eta \u001b[36m0:00:00\u001b[0m\n",
            "\u001b[?25hDownloading phonenumbers-8.13.53-py2.py3-none-any.whl (2.6 MB)\n",
            "\u001b[2K   \u001b[90m━━━━━━━━━━━━━━━━━━━━━━━━━━━━━━━━━━━━━━━━\u001b[0m \u001b[32m2.6/2.6 MB\u001b[0m \u001b[31m28.9 MB/s\u001b[0m eta \u001b[36m0:00:00\u001b[0m\n",
            "\u001b[?25hDownloading tldextract-5.1.3-py3-none-any.whl (104 kB)\n",
            "\u001b[2K   \u001b[90m━━━━━━━━━━━━━━━━━━━━━━━━━━━━━━━━━━━━━━━━\u001b[0m \u001b[32m104.9/104.9 kB\u001b[0m \u001b[31m7.4 MB/s\u001b[0m eta \u001b[36m0:00:00\u001b[0m\n",
            "\u001b[?25hDownloading requests_file-2.1.0-py2.py3-none-any.whl (4.2 kB)\n",
            "Installing collected packages: phonenumbers, requests-file, tldextract, presidio_analyzer\n",
            "Successfully installed phonenumbers-8.13.53 presidio_analyzer-2.2.357 requests-file-2.1.0 tldextract-5.1.3\n"
          ]
        }
      ]
    },
    {
      "cell_type": "code",
      "source": [
        "import pandas as pd\n",
        "from piidetective import *"
      ],
      "metadata": {
        "id": "tI2Bbkq2VWgQ"
      },
      "execution_count": 2,
      "outputs": []
    },
    {
      "cell_type": "code",
      "source": [
        "checksenstiveinfo(contextstr=\"its is a great day john\")"
      ],
      "metadata": {
        "colab": {
          "base_uri": "https://localhost:8080/"
        },
        "id": "eF8aHZKJmpA-",
        "outputId": "a6967a68-bf52-4194-f74f-865a102c004f"
      },
      "execution_count": 3,
      "outputs": [
        {
          "output_type": "execute_result",
          "data": {
            "text/plain": [
              "{'result': [type: PERSON, start: 19, end: 23, score: 0.85],\n",
              " 'piidetected': True,\n",
              " 'contextstr': 'its is a great day john',\n",
              " 'detectedtext': ['john']}"
            ]
          },
          "metadata": {},
          "execution_count": 3
        }
      ]
    },
    {
      "cell_type": "markdown",
      "source": [
        "# Check Conventional Naming Case"
      ],
      "metadata": {
        "id": "Sx_OJ0EcOUZN"
      }
    },
    {
      "cell_type": "code",
      "source": [
        "checksenstiveinfo(contextstr=\"Emily Carter received a call from her bank, Greenfield Savings, about suspicious activity on her credit card ending in 6789. The call came at 2 PM while she was at her office on Elm Street.\")"
      ],
      "metadata": {
        "colab": {
          "base_uri": "https://localhost:8080/"
        },
        "id": "bu3ab6csK0TZ",
        "outputId": "314fd83a-81b2-4266-d8dd-7eecc3efe508"
      },
      "execution_count": 4,
      "outputs": [
        {
          "output_type": "execute_result",
          "data": {
            "text/plain": [
              "{'result': [type: PERSON, start: 0, end: 12, score: 0.85,\n",
              "  type: DATE_TIME, start: 142, end: 146, score: 0.85,\n",
              "  type: LOCATION, start: 178, end: 188, score: 0.85],\n",
              " 'piidetected': True,\n",
              " 'contextstr': 'Emily Carter received a call from her bank, Greenfield Savings, about suspicious activity on her credit card ending in 6789. The call came at 2 PM while she was at her office on Elm Street.',\n",
              " 'detectedtext': ['Emily Carter', '2 PM', 'Elm Street']}"
            ]
          },
          "metadata": {},
          "execution_count": 4
        }
      ]
    },
    {
      "cell_type": "markdown",
      "source": [
        "# Check lower case"
      ],
      "metadata": {
        "id": "l6FXxIvGOZJE"
      }
    },
    {
      "cell_type": "code",
      "source": [
        "checksenstiveinfo(contextstr=\"emily carter received a call from her bank, Greenfield Savings, about suspicious activity on her credit card ending in 6789. The call came at 2 PM while she was at her office on Elm Street.\")"
      ],
      "metadata": {
        "colab": {
          "base_uri": "https://localhost:8080/"
        },
        "id": "hG2ex1kzBill",
        "outputId": "b91911b4-0cda-40fc-c696-f8616374861d"
      },
      "execution_count": 5,
      "outputs": [
        {
          "output_type": "execute_result",
          "data": {
            "text/plain": [
              "{'result': [type: PERSON, start: 0, end: 12, score: 0.85,\n",
              "  type: DATE_TIME, start: 142, end: 146, score: 0.85,\n",
              "  type: LOCATION, start: 178, end: 188, score: 0.85],\n",
              " 'piidetected': True,\n",
              " 'contextstr': 'emily carter received a call from her bank, Greenfield Savings, about suspicious activity on her credit card ending in 6789. The call came at 2 PM while she was at her office on Elm Street.',\n",
              " 'detectedtext': ['emily carter', '2 PM', 'Elm Street']}"
            ]
          },
          "metadata": {},
          "execution_count": 5
        }
      ]
    },
    {
      "cell_type": "markdown",
      "source": [
        "# Check Camel Case"
      ],
      "metadata": {
        "id": "qEgAT1utOg34"
      }
    },
    {
      "cell_type": "code",
      "source": [
        "checksenstiveinfo(contextstr=\"emilyCarter received a call from her bank, Greenfield Savings, about suspicious activity on her credit card ending in 6789. The call came at 2 PM while she was at her office on Elm Street.\")"
      ],
      "metadata": {
        "colab": {
          "base_uri": "https://localhost:8080/"
        },
        "id": "GlGbDiquCW8_",
        "outputId": "e54471b2-896a-4a9e-acbc-b064a08f5446"
      },
      "execution_count": 6,
      "outputs": [
        {
          "output_type": "execute_result",
          "data": {
            "text/plain": [
              "{'result': [type: PERSON, start: 0, end: 11, score: 0.85,\n",
              "  type: DATE_TIME, start: 141, end: 145, score: 0.85,\n",
              "  type: LOCATION, start: 177, end: 187, score: 0.85],\n",
              " 'piidetected': True,\n",
              " 'contextstr': 'emilyCarter received a call from her bank, Greenfield Savings, about suspicious activity on her credit card ending in 6789. The call came at 2 PM while she was at her office on Elm Street.',\n",
              " 'detectedtext': ['emilyCarter', '2 PM', 'Elm Street']}"
            ]
          },
          "metadata": {},
          "execution_count": 6
        }
      ]
    },
    {
      "cell_type": "markdown",
      "source": [
        "# Check Pascal Case"
      ],
      "metadata": {
        "id": "etaObk8pO7Du"
      }
    },
    {
      "cell_type": "code",
      "source": [
        "checksenstiveinfo(contextstr=\"EmilyCarter received a call from her bank, Greenfield Savings, about suspicious activity on her credit card ending in 6789. The call came at 2 PM while she was at her office on Elm Street.\")"
      ],
      "metadata": {
        "colab": {
          "base_uri": "https://localhost:8080/"
        },
        "id": "34PSPeE_PAXx",
        "outputId": "19e791c2-1585-4069-abb0-a6d56f401436"
      },
      "execution_count": 7,
      "outputs": [
        {
          "output_type": "execute_result",
          "data": {
            "text/plain": [
              "{'result': [type: PERSON, start: 0, end: 11, score: 0.85,\n",
              "  type: DATE_TIME, start: 141, end: 145, score: 0.85,\n",
              "  type: LOCATION, start: 177, end: 187, score: 0.85],\n",
              " 'piidetected': True,\n",
              " 'contextstr': 'EmilyCarter received a call from her bank, Greenfield Savings, about suspicious activity on her credit card ending in 6789. The call came at 2 PM while she was at her office on Elm Street.',\n",
              " 'detectedtext': ['EmilyCarter', '2 PM', 'Elm Street']}"
            ]
          },
          "metadata": {},
          "execution_count": 7
        }
      ]
    },
    {
      "cell_type": "markdown",
      "source": [
        "# Check  Kebab Case\tuser-profile\n"
      ],
      "metadata": {
        "id": "o1iQiYG0PkiJ"
      }
    },
    {
      "cell_type": "code",
      "source": [
        "checksenstiveinfo(contextstr=\"emily-carter received a call from her bank, Greenfield Savings, about suspicious activity on her credit card ending in 6789. The call came at 2 PM while she was at her office on Elm Street.\")"
      ],
      "metadata": {
        "colab": {
          "base_uri": "https://localhost:8080/"
        },
        "id": "DXaUIUtrPjCn",
        "outputId": "09a5d59a-e2d3-43c4-f5f9-e5bf04ba04ed"
      },
      "execution_count": 9,
      "outputs": [
        {
          "output_type": "execute_result",
          "data": {
            "text/plain": [
              "{'result': [type: PERSON, start: 0, end: 12, score: 0.85,\n",
              "  type: DATE_TIME, start: 142, end: 146, score: 0.85,\n",
              "  type: LOCATION, start: 178, end: 188, score: 0.85],\n",
              " 'piidetected': True,\n",
              " 'contextstr': 'emily-carter received a call from her bank, Greenfield Savings, about suspicious activity on her credit card ending in 6789. The call came at 2 PM while she was at her office on Elm Street.',\n",
              " 'detectedtext': ['emily-carter', '2 PM', 'Elm Street']}"
            ]
          },
          "metadata": {},
          "execution_count": 9
        }
      ]
    },
    {
      "cell_type": "code",
      "source": [
        "from datasets import load_dataset\n",
        "ds = load_dataset(\"E3-JSI/synthetic-multi-pii-ner-v1\",split=\"train\").filter(lambda l: l['language'] == 'English')"
      ],
      "metadata": {
        "id": "JKwTsIjUq7_z"
      },
      "execution_count": 11,
      "outputs": []
    },
    {
      "cell_type": "code",
      "source": [
        "df = ds.to_pandas()"
      ],
      "metadata": {
        "id": "IF0GRzV7tv2E"
      },
      "execution_count": 12,
      "outputs": []
    },
    {
      "cell_type": "code",
      "source": [
        "from hutil import *\n",
        "result = benchmark_timeresult(df=df)"
      ],
      "metadata": {
        "colab": {
          "base_uri": "https://localhost:8080/"
        },
        "id": "w3CLOx06vyLJ",
        "outputId": "ee23b5fd-9070-40e5-e8da-72bf599ffabf"
      },
      "execution_count": 60,
      "outputs": [
        {
          "output_type": "stream",
          "name": "stdout",
          "text": [
            "Observed Latency Duration for base df: 0:00:00.124461\n"
          ]
        }
      ]
    },
    {
      "cell_type": "code",
      "source": [
        "result[56:87]"
      ],
      "metadata": {
        "colab": {
          "base_uri": "https://localhost:8080/",
          "height": 1000
        },
        "id": "N9c86sELoFoR",
        "outputId": "14e4abc2-f4c1-463b-c559-380bc16b456d"
      },
      "execution_count": 70,
      "outputs": [
        {
          "output_type": "execute_result",
          "data": {
            "text/plain": [
              "                                                                                                                                                                                                                                                                                                                                                                                                                        text  \\\n",
              "56  Jane Doe, residing at 123 Maple Street, Springfield, IL 62704, applied for a legal name change. Her social security number is 123-45-6789. As part of the application process, her attorney, John Smith, from Smith & Associates, located at 456 Elm Street, Springfield, IL 62701, submitted the required forms on August 1, 2023. The case was filed in the Springfield County Court, with case number 2023-CV-001234.   \n",
              "57                                                                                      Jane Doe recently updated her contact details with Bank of America. Her account number is 123456789 and her social security number is 987-65-4321. She can be reached at her email, jane.doe@example.com, or on her phone at (555) 123-4567. For correspondence, please use her mailing address: 123 Main St, Springfield, IL 62701.   \n",
              "58                                                                                                                                                                 John Smith has applied for a new credit card from Chase Bank. His social security number is 123-45-6789, and his current mailing address is 456 Elm St, Denver, CO 80203. For any questions, he can be contacted at johnsmith@mail.com or (303) 987-6543.   \n",
              "59                                                                                                                                                                                                    Jane Doe visited her primary care physician, Dr. Smith, on October 15, 2023, for a routine check-up. During the appointment, she provided her health insurance ID number, A123456789, issued by HealthFirst Insurance.   \n",
              "60                                                                                                                                                                    Michael Johnson's health insurance ID number is B987654321, issued by United Health Group. He was hospitalized on September 20, 2023, due to a severe case of pneumonia and was treated by Dr. Emily Wong in the critical care unit at Mercy Hospital.   \n",
              "61                        John Doe, a finance manager at BlueCorp Investments, recently updated his health insurance ID to 9821-745-1234 during the company's annual benefits review. His primary role involves managing client portfolios and advising on investment strategies. John ensures that his family is also covered under the comprehensive plan provided by their health insurance provider, UnitedHealth Group.   \n",
              "62                                                       Emily Clark, who works as an accountant for SilverFinances, recently discovered an error in her health insurance ID number, 2345-678-9012, when processing her family's claims. She swiftly contacted the HR department to rectify the issue. Emily has been with the company for over five years and handles the preparation of financial statements and auditing.   \n",
              "63                                                             John Doe visited his lawyer to discuss a potential lawsuit related to his recent car accident. He presented his health insurance ID number, which is HI123456789, to cover his medical expenses. The lawyer advised that they could pursue compensation for his injuries and would require all relevant documentation including the health insurance details.   \n",
              "64                                                                                                                                                    John Smith, who resides at 123 Maple Avenue, took a new loan from Bank of America. His health insurance ID number is H123456789 issued by UnitedHealth Group. He made an initial deposit of $10,000 into his checking account number 987654321 at the New York branch.   \n",
              "65                                                                                                                                                                                                                    John Doe recently visited Dr. Amelia Clark for his annual check-up. His health insurance ID number is 12345-6789 and he is insured with Blue Shield. The appointment was scheduled for March 15, 2023.   \n",
              "66                                                                                                                                                                                                                            Emily Johnson, carrying the health insurance ID number 98765-4321, visited the clinic for a routine blood test. She is covered by United HealthCare and her appointment was on April 10, 2023.   \n",
              "67                                                                                                                                                                                                                                    Michael Smith booked an appointment with Dr. Sarah Lee. His health insurance ID number is 11223-4455, and he holds a policy with Aetna. The consultation was set for January 21, 2023.   \n",
              "68                                                                                                John Smith was born on January 15, 1980. During his visit to the hospital on August 25, 2022, he was diagnosed with hypertension and prescribed medication. His blood pressure readings at that time were consistently above 140/90 mmHg. He visited Dr. Emily Johnson at the City Health Clinic for his routine check-up.   \n",
              "69                                                                                                                                     Sarah Miller, born on March 3, 1992, came to the emergency room on July 10, 2021, with severe abdominal pain. She was quickly assessed by Dr. James Wilson and underwent an ultrasound that revealed gallstones. She was admitted to the Green Valley Hospital for further treatment.   \n",
              "70                                                                                   Emma Johnson was born on April 17, 1985, and currently works as a financial analyst at Morgan Stanley. She holds a Bachelor's degree in Economics from Harvard University and obtained her Certified Financial Planner (CFP) designation in 2010. Emma started her career at Goldman Sachs in 2007, specializing in investment banking.   \n",
              "71                                                                                                                                                                                                                      Jessica Marie Thompson, born on April 15, 1980, is a plaintiff in the lawsuit filed on January 3, 2023, against Smith & Associates Law Firm. She claims the firm neglected her personal injury case.   \n",
              "72                                                                                                                                                                                                                                                                               Michael Jonathan White, who was born on December 12, 1975, has been charged with tax evasion on March 22, 2022, in the state of California.   \n",
              "73                                                                                                                                                                                                                                                             On February 14, 2021, the contract between Ethan Clark, born on August 9, 1990, and Greenfield Corp. was terminated. Ethan claims the termination was unjust.   \n",
              "74                                                                                                                                                                                                                                                                                                       James Bryant, born on April 15, 1980, visited the main branch of First National Bank to open a new savings account.   \n",
              "75                                                                                                                                                                                                                                                                                                                 Linda Foster, whose date of birth is February 28, 1975, recently applied for a personal loan at CitiBank.   \n",
              "76                                                                                                                                                                                                                                                                                                                           On June 3, 1985, David Green was born. He currently manages his checking account at Chase Bank.   \n",
              "77                                                                                                                                                                                                                                                                                                            Jennifer Watson, who was born on December 12, 1990, transferred funds from her savings account at Wells Fargo.   \n",
              "78                                                                                                                                                                                              Jessica Marie Thompson was born on July 18, 1985, in Seattle, Washington. She currently works as a software engineer at TechInnovate Inc. She graduated from the University of Washington with a degree in Computer Science.   \n",
              "79                                       Dr. Lisa Thompson, a renowned cardiologist at Riverbend Medical Center, can be reached at (555) 123-4567. Her office is located at 123 Elm Street, Springfield. If you need to book an appointment, please call her office number or email her at lisa.thompson@riverbendmc.com. In case of emergencies, you can directly contact her through her mobile phone number 555-987-6543.   \n",
              "80                                                                         For any queries regarding your recent lab results, you can contact Dr. Andrew Mitchell at (555) 987-1234, or visit his clinic located at 456 Maple Avenue, Seattle. Alternatively, you can reach him on his personal mobile number 555-654-3210. For more detailed inquiries, you may also email his assistant at am.assistant@seattleclinic.com.   \n",
              "81                                                                                                                                                                                                                    John received a call from his financial advisor, Mary Thompson, regarding the recent changes in his investment portfolio. Mary can be reached at +1-555-123-4567 for further queries about his assets.   \n",
              "82                                                                                                                                                                                                                                                                                             Sarah contacted her bank manager, Michael Green, on +1-555-987-6543 to discuss the interest rates on her new savings account.   \n",
              "83                                                                                                                                                                                                                                                                                      David's loan officer, Jennifer White, informed him via phone call at +1-555-321-6789 about the approval of his mortgage application.   \n",
              "84                                                                                                                                                                                                  On January 12, 2022, John Smith contacted our law firm via his mobile phone number +1-555-123-4567. He requested legal assistance regarding a property dispute. John resides at 123 Maple Street, Springfield, IL 62704.   \n",
              "85                                                                                                                                                                                                                         Hello, my name is Sarah Jones and I recently opened a new account with Bank of America. My account number is 1234567890 and if you need to contact me, my mobile phone number is +1-234-567-8901.   \n",
              "86                                                                                                                                                                                                                                                                     Hi, this is John Doe. If you need to reach me, my mobile phone number is 555-123-4567. I live in San Francisco, California, and work at TechCorp Inc.   \n",
              "\n",
              "                                                                                                                                                                                                                                                                                                                                                                                                                                                                                                                                                                                                                                                                                                                                                                                                                                                                                                                                                                                                                                                                                                                                                                                                                        eval  \\\n",
              "56                                                                                                           {'result': [type: PERSON, start: 0, end: 8, score: 0.85, type: LOCATION, start: 26, end: 38, score: 0.85, type: LOCATION, start: 40, end: 51, score: 0.85, type: PERSON, start: 189, end: 199, score: 0.85, type: LOCATION, start: 237, end: 251, score: 0.85, type: LOCATION, start: 253, end: 264, score: 0.85, type: DATE_TIME, start: 308, end: 322, score: 0.85, type: DATE_TIME, start: 393, end: 407, score: 0.85, type: US_DRIVER_LICENSE, start: 401, end: 407, score: 0.01], 'piidetected': True, 'contextstr': 'Jane Doe, residing at 123 Maple Street, Springfield, IL 62704, applied for a legal name change. Her social security number is 123-45-6789. As part of the application process, her attorney, John Smith, from Smith & Associates, located at 456 Elm Street, Springfield, IL 62701, submitted the required forms on August 1, 2023. The case was filed in the Springfield County Court, with case number 2023-CV-001234.', 'detectedtext': ['Jane Doe', 'Maple Street', 'Springfield', 'John Smith', '456 Elm Street', 'Springfield', 'August 1, 2023', '2023-CV-001234', '001234']}   \n",
              "57  {'result': [type: EMAIL_ADDRESS, start: 180, end: 200, score: 1.0, type: PERSON, start: 0, end: 8, score: 0.85, type: DATE_TIME, start: 90, end: 99, score: 0.85, type: LOCATION, start: 293, end: 300, score: 0.85, type: LOCATION, start: 302, end: 313, score: 0.85, type: PHONE_NUMBER, start: 221, end: 235, score: 0.75, type: US_ITIN, start: 134, end: 145, score: 0.5, type: URL, start: 180, end: 187, score: 0.5, type: URL, start: 189, end: 200, score: 0.5, type: US_BANK_NUMBER, start: 90, end: 99, score: 0.4, type: US_PASSPORT, start: 90, end: 99, score: 0.05, type: US_DRIVER_LICENSE, start: 90, end: 99, score: 0.01], 'piidetected': True, 'contextstr': 'Jane Doe recently updated her contact details with Bank of America. Her account number is 123456789 and her social security number is 987-65-4321. She can be reached at her email, jane.doe@example.com, or on her phone at (555) 123-4567. For correspondence, please use her mailing address: 123 Main St, Springfield, IL 62701.', 'detectedtext': ['jane.doe@example.com', 'Jane Doe', '123456789', 'Main St', 'Springfield', '(555) 123-4567', '987-65-4321', 'jane.do', 'example.com', '123456789', '123456789', '123456789']}   \n",
              "58                                                                                                                                                                                                                                                                                                                                                                                                                           {'result': [type: EMAIL_ADDRESS, start: 212, end: 230, score: 1.0, type: PERSON, start: 0, end: 10, score: 0.85, type: LOCATION, start: 144, end: 150, score: 0.85, type: LOCATION, start: 152, end: 158, score: 0.85, type: DATE_TIME, start: 163, end: 168, score: 0.85, type: URL, start: 222, end: 230, score: 0.5, type: PHONE_NUMBER, start: 234, end: 248, score: 0.4], 'piidetected': True, 'contextstr': 'John Smith has applied for a new credit card from Chase Bank. His social security number is 123-45-6789, and his current mailing address is 456 Elm St, Denver, CO 80203. For any questions, he can be contacted at johnsmith@mail.com or (303) 987-6543.', 'detectedtext': ['johnsmith@mail.com', 'John Smith', 'Elm St', 'Denver', '80203', 'mail.com', '(303) 987-6543']}   \n",
              "59                                                                                                                                                                                                                                                                                                                                                                                                                                                                                                                                                                                                                                                               {'result': [type: PERSON, start: 0, end: 8, score: 0.85, type: PERSON, start: 49, end: 54, score: 0.85, type: DATE_TIME, start: 59, end: 75, score: 0.85, type: US_DRIVER_LICENSE, start: 170, end: 180, score: 0.3], 'piidetected': True, 'contextstr': 'Jane Doe visited her primary care physician, Dr. Smith, on October 15, 2023, for a routine check-up. During the appointment, she provided her health insurance ID number, A123456789, issued by HealthFirst Insurance.', 'detectedtext': ['Jane Doe', 'Smith', 'October 15, 2023', 'A123456789']}   \n",
              "60                                                                                                                                                                                                                                                                                                                                                                                                                                                                                                                                                                                                            {'result': [type: PERSON, start: 0, end: 17, score: 0.85, type: DATE_TIME, start: 114, end: 132, score: 0.85, type: PERSON, start: 191, end: 201, score: 0.85, type: US_DRIVER_LICENSE, start: 48, end: 58, score: 0.3], 'piidetected': True, 'contextstr': 'Michael Johnson's health insurance ID number is B987654321, issued by United Health Group. He was hospitalized on September 20, 2023, due to a severe case of pneumonia and was treated by Dr. Emily Wong in the critical care unit at Mercy Hospital.', 'detectedtext': ['Michael Johnson's', 'September 20, 2023', 'Emily Wong', 'B987654321']}   \n",
              "61                                                                                                                                                                                                                                                                                                                                                                                                                                                                                                                                                                   {'result': [type: PERSON, start: 0, end: 8, score: 0.85, type: DATE_TIME, start: 132, end: 138, score: 0.85, type: PERSON, start: 248, end: 252, score: 0.85], 'piidetected': True, 'contextstr': 'John Doe, a finance manager at BlueCorp Investments, recently updated his health insurance ID to 9821-745-1234 during the company's annual benefits review. His primary role involves managing client portfolios and advising on investment strategies. John ensures that his family is also covered under the comprehensive plan provided by their health insurance provider, UnitedHealth Group.', 'detectedtext': ['John Doe', 'annual', 'John']}   \n",
              "62                                                                                                                                                                                                                                                                                                                                                                                                                                                                                                                                                                                         {'result': [type: PERSON, start: 0, end: 11, score: 0.85, type: PERSON, start: 238, end: 243, score: 0.85, type: DATE_TIME, start: 279, end: 289, score: 0.85], 'piidetected': True, 'contextstr': 'Emily Clark, who works as an accountant for SilverFinances, recently discovered an error in her health insurance ID number, 2345-678-9012, when processing her family's claims. She swiftly contacted the HR department to rectify the issue. Emily has been with the company for over five years and handles the preparation of financial statements and auditing.', 'detectedtext': ['Emily Clark', 'Emily', 'five years']}   \n",
              "63                                                                                                                                                                                                                                                                                                                                                                                                                                                                                                                                                                                                                                                                                                                               {'result': [type: PERSON, start: 0, end: 8, score: 0.85], 'piidetected': True, 'contextstr': 'John Doe visited his lawyer to discuss a potential lawsuit related to his recent car accident. He presented his health insurance ID number, which is HI123456789, to cover his medical expenses. The lawyer advised that they could pursue compensation for his injuries and would require all relevant documentation including the health insurance details.', 'detectedtext': ['John Doe']}   \n",
              "64                                                                                                                                                                                                                                                      {'result': [type: PERSON, start: 0, end: 10, score: 0.85, type: LOCATION, start: 27, end: 43, score: 0.85, type: LOCATION, start: 117, end: 127, score: 0.85, type: LOCATION, start: 246, end: 254, score: 0.85, type: US_BANK_NUMBER, start: 229, end: 238, score: 0.4, type: US_DRIVER_LICENSE, start: 117, end: 127, score: 0.3, type: US_ITIN, start: 229, end: 238, score: 0.3, type: US_PASSPORT, start: 229, end: 238, score: 0.05, type: US_DRIVER_LICENSE, start: 229, end: 238, score: 0.01], 'piidetected': True, 'contextstr': 'John Smith, who resides at 123 Maple Avenue, took a new loan from Bank of America. His health insurance ID number is H123456789 issued by UnitedHealth Group. He made an initial deposit of $10,000 into his checking account number 987654321 at the New York branch.', 'detectedtext': ['John Smith', '123 Maple Avenue', 'H123456789', 'New York', '987654321', 'H123456789', '987654321', '987654321', '987654321']}   \n",
              "65                                                                                                                                                                                                                                                                                                                                                                                                                                                                                                                                                                                                                                                                                     {'result': [type: PERSON, start: 0, end: 8, score: 0.85, type: PERSON, start: 30, end: 42, score: 0.85, type: DATE_TIME, start: 51, end: 57, score: 0.85, type: DATE_TIME, start: 183, end: 197, score: 0.85], 'piidetected': True, 'contextstr': 'John Doe recently visited Dr. Amelia Clark for his annual check-up. His health insurance ID number is 12345-6789 and he is insured with Blue Shield. The appointment was scheduled for March 15, 2023.', 'detectedtext': ['John Doe', 'Amelia Clark', 'annual', 'March 15, 2023']}   \n",
              "66                                                                                                                                                                                                                                                                                                                                                                                                                                                                                                                                                                                                                                                                                                                                                    {'result': [type: PERSON, start: 0, end: 13, score: 0.85, type: DATE_TIME, start: 175, end: 189, score: 0.85, type: US_ITIN, start: 55, end: 65, score: 0.05], 'piidetected': True, 'contextstr': 'Emily Johnson, carrying the health insurance ID number 98765-4321, visited the clinic for a routine blood test. She is covered by United HealthCare and her appointment was on April 10, 2023.', 'detectedtext': ['Emily Johnson', 'April 10, 2023', '98765-4321']}   \n",
              "67                                                                                                                                                                                                                                                                                                                                                                                                                                                                                                                                                                                                                                                                                              {'result': [type: PERSON, start: 0, end: 13, score: 0.85, type: PERSON, start: 45, end: 54, score: 0.85, type: DATE_TIME, start: 165, end: 181, score: 0.85, type: US_SSN, start: 90, end: 100, score: 0.05], 'piidetected': True, 'contextstr': 'Michael Smith booked an appointment with Dr. Sarah Lee. His health insurance ID number is 11223-4455, and he holds a policy with Aetna. The consultation was set for January 21, 2023.', 'detectedtext': ['Michael Smith', 'Sarah Lee', 'January 21, 2023', '11223-4455']}   \n",
              "68                                                                                                                                                                                                                                                                                                                                                                                                                                                                                                                                                  {'result': [type: PERSON, start: 0, end: 10, score: 0.85, type: DATE_TIME, start: 23, end: 39, score: 0.85, type: DATE_TIME, start: 77, end: 92, score: 0.85, type: PERSON, start: 249, end: 262, score: 0.85], 'piidetected': True, 'contextstr': 'John Smith was born on January 15, 1980. During his visit to the hospital on August 25, 2022, he was diagnosed with hypertension and prescribed medication. His blood pressure readings at that time were consistently above 140/90 mmHg. He visited Dr. Emily Johnson at the City Health Clinic for his routine check-up.', 'detectedtext': ['John Smith', 'January 15, 1980', 'August 25, 2022', 'Emily Johnson']}   \n",
              "69                                                                                                                                                                                                                                                                                                                                                                                                                                                                                                                                                                                           {'result': [type: PERSON, start: 0, end: 12, score: 0.85, type: DATE_TIME, start: 22, end: 35, score: 0.85, type: DATE_TIME, start: 67, end: 80, score: 0.85, type: PERSON, start: 142, end: 154, score: 0.85], 'piidetected': True, 'contextstr': 'Sarah Miller, born on March 3, 1992, came to the emergency room on July 10, 2021, with severe abdominal pain. She was quickly assessed by Dr. James Wilson and underwent an ultrasound that revealed gallstones. She was admitted to the Green Valley Hospital for further treatment.', 'detectedtext': ['Sarah Miller', 'March 3, 1992', 'July 10, 2021', 'James Wilson']}   \n",
              "70                                                                                                                                                                                                                                                                                                                                                                                                                                                                                           {'result': [type: PERSON, start: 0, end: 12, score: 0.85, type: DATE_TIME, start: 25, end: 39, score: 0.85, type: DATE_TIME, start: 236, end: 240, score: 0.85, type: PERSON, start: 242, end: 246, score: 0.85, type: DATE_TIME, start: 286, end: 290, score: 0.85], 'piidetected': True, 'contextstr': 'Emma Johnson was born on April 17, 1985, and currently works as a financial analyst at Morgan Stanley. She holds a Bachelor's degree in Economics from Harvard University and obtained her Certified Financial Planner (CFP) designation in 2010. Emma started her career at Goldman Sachs in 2007, specializing in investment banking.', 'detectedtext': ['Emma Johnson', 'April 17, 1985', '2010', 'Emma', '2007']}   \n",
              "71                                                                                                                                                                                                                                                                                                                                                                                                                                                                                                                                                                                                                                                                                                                               {'result': [type: PERSON, start: 0, end: 22, score: 0.85, type: DATE_TIME, start: 32, end: 46, score: 0.85, type: DATE_TIME, start: 87, end: 102, score: 0.85], 'piidetected': True, 'contextstr': 'Jessica Marie Thompson, born on April 15, 1980, is a plaintiff in the lawsuit filed on January 3, 2023, against Smith & Associates Law Firm. She claims the firm neglected her personal injury case.', 'detectedtext': ['Jessica Marie Thompson', 'April 15, 1980', 'January 3, 2023']}   \n",
              "72                                                                                                                                                                                                                                                                                                                                                                                                                                                                                                                                                                                                                                                                                                                     {'result': [type: PERSON, start: 0, end: 22, score: 0.85, type: DATE_TIME, start: 40, end: 57, score: 0.85, type: DATE_TIME, start: 96, end: 110, score: 0.85, type: LOCATION, start: 128, end: 138, score: 0.85], 'piidetected': True, 'contextstr': 'Michael Jonathan White, who was born on December 12, 1975, has been charged with tax evasion on March 22, 2022, in the state of California.', 'detectedtext': ['Michael Jonathan White', 'December 12, 1975', 'March 22, 2022', 'California']}   \n",
              "73                                                                                                                                                                                                                                                                                                                                                                                                                                                                                                                                                                                                                                                                                                                      {'result': [type: DATE_TIME, start: 3, end: 20, score: 0.85, type: PERSON, start: 43, end: 54, score: 0.85, type: DATE_TIME, start: 64, end: 78, score: 0.85, type: PERSON, start: 117, end: 122, score: 0.85], 'piidetected': True, 'contextstr': 'On February 14, 2021, the contract between Ethan Clark, born on August 9, 1990, and Greenfield Corp. was terminated. Ethan claims the termination was unjust.', 'detectedtext': ['February 14, 2021', 'Ethan Clark', 'August 9, 1990', 'Ethan']}   \n",
              "74                                                                                                                                                                                                                                                                                                                                                                                                                                                                                                                                                                                                                                                                                                                                                                                                                                                                                                {'result': [type: PERSON, start: 0, end: 12, score: 0.85, type: DATE_TIME, start: 22, end: 36, score: 0.85], 'piidetected': True, 'contextstr': 'James Bryant, born on April 15, 1980, visited the main branch of First National Bank to open a new savings account.', 'detectedtext': ['James Bryant', 'April 15, 1980']}   \n",
              "75                                                                                                                                                                                                                                                                                                                                                                                                                                                                                                                                                                                                                                                                                                                                                                                                                                                                                                       {'result': [type: PERSON, start: 0, end: 12, score: 0.85, type: DATE_TIME, start: 37, end: 54, score: 0.85], 'piidetected': True, 'contextstr': 'Linda Foster, whose date of birth is February 28, 1975, recently applied for a personal loan at CitiBank.', 'detectedtext': ['Linda Foster', 'February 28, 1975']}   \n",
              "76                                                                                                                                                                                                                                                                                                                                                                                                                                                                                                                                                                                                                                                                                                                                                                                                                                                                                                                       {'result': [type: DATE_TIME, start: 3, end: 15, score: 0.85, type: PERSON, start: 17, end: 28, score: 0.85], 'piidetected': True, 'contextstr': 'On June 3, 1985, David Green was born. He currently manages his checking account at Chase Bank.', 'detectedtext': ['June 3, 1985', 'David Green']}   \n",
              "77                                                                                                                                                                                                                                                                                                                                                                                                                                                                                                                                                                                                                                                                                                                                                                                                                                                                                               {'result': [type: PERSON, start: 0, end: 15, score: 0.85, type: DATE_TIME, start: 33, end: 50, score: 0.85], 'piidetected': True, 'contextstr': 'Jennifer Watson, who was born on December 12, 1990, transferred funds from her savings account at Wells Fargo.', 'detectedtext': ['Jennifer Watson', 'December 12, 1990']}   \n",
              "78                                                                                                                                                                                                                                                                                                                                                                                                                                                                                                                                                                                                                                                   {'result': [type: PERSON, start: 0, end: 22, score: 0.85, type: DATE_TIME, start: 35, end: 48, score: 0.85, type: LOCATION, start: 53, end: 60, score: 0.85, type: LOCATION, start: 62, end: 72, score: 0.85], 'piidetected': True, 'contextstr': 'Jessica Marie Thompson was born on July 18, 1985, in Seattle, Washington. She currently works as a software engineer at TechInnovate Inc. She graduated from the University of Washington with a degree in Computer Science.', 'detectedtext': ['Jessica Marie Thompson', 'July 18, 1985', 'Seattle', 'Washington']}   \n",
              "79                                                                                                                                                                                              {'result': [type: EMAIL_ADDRESS, start: 242, end: 271, score: 1.0, type: PERSON, start: 4, end: 17, score: 0.85, type: LOCATION, start: 131, end: 145, score: 0.85, type: LOCATION, start: 147, end: 158, score: 0.85, type: PHONE_NUMBER, start: 358, end: 370, score: 0.75, type: URL, start: 242, end: 249, score: 0.5, type: URL, start: 256, end: 271, score: 0.5, type: PHONE_NUMBER, start: 90, end: 104, score: 0.4], 'piidetected': True, 'contextstr': 'Dr. Lisa Thompson, a renowned cardiologist at Riverbend Medical Center, can be reached at (555) 123-4567. Her office is located at 123 Elm Street, Springfield. If you need to book an appointment, please call her office number or email her at lisa.thompson@riverbendmc.com. In case of emergencies, you can directly contact her through her mobile phone number 555-987-6543.', 'detectedtext': ['lisa.thompson@riverbendmc.com', 'Lisa Thompson', '123 Elm Street', 'Springfield', '555-987-6543', 'lisa.th', 'riverbendmc.com', '(555) 123-4567']}   \n",
              "80                                                                                                                                                                                                                              {'result': [type: EMAIL_ADDRESS, start: 306, end: 336, score: 1.0, type: PERSON, start: 71, end: 86, score: 0.85, type: LOCATION, start: 137, end: 153, score: 0.85, type: LOCATION, start: 155, end: 162, score: 0.85, type: PHONE_NUMBER, start: 227, end: 239, score: 0.75, type: URL, start: 306, end: 311, score: 0.5, type: URL, start: 319, end: 336, score: 0.5, type: PHONE_NUMBER, start: 90, end: 104, score: 0.4], 'piidetected': True, 'contextstr': 'For any queries regarding your recent lab results, you can contact Dr. Andrew Mitchell at (555) 987-1234, or visit his clinic located at 456 Maple Avenue, Seattle. Alternatively, you can reach him on his personal mobile number 555-654-3210. For more detailed inquiries, you may also email his assistant at am.assistant@seattleclinic.com.', 'detectedtext': ['am.assistant@seattleclinic.com', 'Andrew Mitchell', '456 Maple Avenue', 'Seattle', '555-654-3210', 'am.as', 'seattleclinic.com', '(555) 987-1234']}   \n",
              "81                                                                                                                                                                                                                                                                                                                                                                                                                                                                                                                                                                                                                                                                                                                                                                 {'result': [type: PERSON, start: 0, end: 4, score: 0.85, type: PERSON, start: 49, end: 62, score: 0.85, type: PERSON, start: 122, end: 126, score: 0.85], 'piidetected': True, 'contextstr': 'John received a call from his financial advisor, Mary Thompson, regarding the recent changes in his investment portfolio. Mary can be reached at +1-555-123-4567 for further queries about his assets.', 'detectedtext': ['John', 'Mary Thompson', 'Mary']}   \n",
              "82                                                                                                                                                                                                                                                                                                                                                                                                                                                                                                                                                                                                                                                                                                                                                                                                                                                                                                  {'result': [type: PERSON, start: 0, end: 5, score: 0.85, type: PERSON, start: 34, end: 47, score: 0.85], 'piidetected': True, 'contextstr': 'Sarah contacted her bank manager, Michael Green, on +1-555-987-6543 to discuss the interest rates on her new savings account.', 'detectedtext': ['Sarah', 'Michael Green']}   \n",
              "83                                                                                                                                                                                                                                                                                                                                                                                                                                                                                                                                                                                                                                                                                                                                                                                                                                                                                          {'result': [type: PERSON, start: 0, end: 5, score: 0.85, type: PERSON, start: 22, end: 36, score: 0.85], 'piidetected': True, 'contextstr': 'David's loan officer, Jennifer White, informed him via phone call at +1-555-321-6789 about the approval of his mortgage application.', 'detectedtext': ['David', 'Jennifer White']}   \n",
              "84                                                                                                                                                                                                                                                                                                                                                                                                                                                                                                                                                                                         {'result': [type: DATE_TIME, start: 3, end: 19, score: 0.85, type: PERSON, start: 21, end: 31, score: 0.85, type: PERSON, start: 160, end: 164, score: 0.85, type: LOCATION, start: 176, end: 192, score: 0.85, type: LOCATION, start: 194, end: 205, score: 0.85], 'piidetected': True, 'contextstr': 'On January 12, 2022, John Smith contacted our law firm via his mobile phone number +1-555-123-4567. He requested legal assistance regarding a property dispute. John resides at 123 Maple Street, Springfield, IL 62704.', 'detectedtext': ['January 12, 2022', 'John Smith', 'John', '123 Maple Street', 'Springfield']}   \n",
              "85                                                                                                                                                                                                                                                                                                                                                                                                                                                                                                                                                                                       {'result': [type: PERSON, start: 18, end: 29, score: 0.85, type: PHONE_NUMBER, start: 109, end: 119, score: 0.75, type: PHONE_NUMBER, start: 177, end: 192, score: 0.75, type: US_BANK_NUMBER, start: 109, end: 119, score: 0.4, type: US_DRIVER_LICENSE, start: 109, end: 119, score: 0.01], 'piidetected': True, 'contextstr': 'Hello, my name is Sarah Jones and I recently opened a new account with Bank of America. My account number is 1234567890 and if you need to contact me, my mobile phone number is +1-234-567-8901.', 'detectedtext': ['Sarah Jones', '1234567890', '+1-234-567-8901', '1234567890', '1234567890']}   \n",
              "86                                                                                                                                                                                                                                                                                                                                                                                                                                                                                                                                                                                                                                                                                                                            {'result': [type: PERSON, start: 12, end: 20, score: 0.85, type: LOCATION, start: 97, end: 110, score: 0.85, type: LOCATION, start: 112, end: 122, score: 0.85, type: PHONE_NUMBER, start: 73, end: 85, score: 0.75], 'piidetected': True, 'contextstr': 'Hi, this is John Doe. If you need to reach me, my mobile phone number is 555-123-4567. I live in San Francisco, California, and work at TechCorp Inc.', 'detectedtext': ['John Doe', 'San Francisco', 'California', '555-123-4567']}   \n",
              "\n",
              "                                                                                                                                                                                                                                                                                                                                                                                                                                                                                                                                                                                                                                result  \\\n",
              "56                                                                                                                                                          [type: PERSON, start: 0, end: 8, score: 0.85, type: LOCATION, start: 26, end: 38, score: 0.85, type: LOCATION, start: 40, end: 51, score: 0.85, type: PERSON, start: 189, end: 199, score: 0.85, type: LOCATION, start: 237, end: 251, score: 0.85, type: LOCATION, start: 253, end: 264, score: 0.85, type: DATE_TIME, start: 308, end: 322, score: 0.85, type: DATE_TIME, start: 393, end: 407, score: 0.85, type: US_DRIVER_LICENSE, start: 401, end: 407, score: 0.01]   \n",
              "57  [type: EMAIL_ADDRESS, start: 180, end: 200, score: 1.0, type: PERSON, start: 0, end: 8, score: 0.85, type: DATE_TIME, start: 90, end: 99, score: 0.85, type: LOCATION, start: 293, end: 300, score: 0.85, type: LOCATION, start: 302, end: 313, score: 0.85, type: PHONE_NUMBER, start: 221, end: 235, score: 0.75, type: US_ITIN, start: 134, end: 145, score: 0.5, type: URL, start: 180, end: 187, score: 0.5, type: URL, start: 189, end: 200, score: 0.5, type: US_BANK_NUMBER, start: 90, end: 99, score: 0.4, type: US_PASSPORT, start: 90, end: 99, score: 0.05, type: US_DRIVER_LICENSE, start: 90, end: 99, score: 0.01]   \n",
              "58                                                                                                                                                                                                                                                                  [type: EMAIL_ADDRESS, start: 212, end: 230, score: 1.0, type: PERSON, start: 0, end: 10, score: 0.85, type: LOCATION, start: 144, end: 150, score: 0.85, type: LOCATION, start: 152, end: 158, score: 0.85, type: DATE_TIME, start: 163, end: 168, score: 0.85, type: URL, start: 222, end: 230, score: 0.5, type: PHONE_NUMBER, start: 234, end: 248, score: 0.4]   \n",
              "59                                                                                                                                                                                                                                                                                                                                                                                                                           [type: PERSON, start: 0, end: 8, score: 0.85, type: PERSON, start: 49, end: 54, score: 0.85, type: DATE_TIME, start: 59, end: 75, score: 0.85, type: US_DRIVER_LICENSE, start: 170, end: 180, score: 0.3]   \n",
              "60                                                                                                                                                                                                                                                                                                                                                                                                                        [type: PERSON, start: 0, end: 17, score: 0.85, type: DATE_TIME, start: 114, end: 132, score: 0.85, type: PERSON, start: 191, end: 201, score: 0.85, type: US_DRIVER_LICENSE, start: 48, end: 58, score: 0.3]   \n",
              "61                                                                                                                                                                                                                                                                                                                                                                                                                                                                                  [type: PERSON, start: 0, end: 8, score: 0.85, type: DATE_TIME, start: 132, end: 138, score: 0.85, type: PERSON, start: 248, end: 252, score: 0.85]   \n",
              "62                                                                                                                                                                                                                                                                                                                                                                                                                                                                                 [type: PERSON, start: 0, end: 11, score: 0.85, type: PERSON, start: 238, end: 243, score: 0.85, type: DATE_TIME, start: 279, end: 289, score: 0.85]   \n",
              "63                                                                                                                                                                                                                                                                                                                                                                                                                                                                                                                                                                                       [type: PERSON, start: 0, end: 8, score: 0.85]   \n",
              "64                                                                                                                                         [type: PERSON, start: 0, end: 10, score: 0.85, type: LOCATION, start: 27, end: 43, score: 0.85, type: LOCATION, start: 117, end: 127, score: 0.85, type: LOCATION, start: 246, end: 254, score: 0.85, type: US_BANK_NUMBER, start: 229, end: 238, score: 0.4, type: US_DRIVER_LICENSE, start: 117, end: 127, score: 0.3, type: US_ITIN, start: 229, end: 238, score: 0.3, type: US_PASSPORT, start: 229, end: 238, score: 0.05, type: US_DRIVER_LICENSE, start: 229, end: 238, score: 0.01]   \n",
              "65                                                                                                                                                                                                                                                                                                                                                                                                                                  [type: PERSON, start: 0, end: 8, score: 0.85, type: PERSON, start: 30, end: 42, score: 0.85, type: DATE_TIME, start: 51, end: 57, score: 0.85, type: DATE_TIME, start: 183, end: 197, score: 0.85]   \n",
              "66                                                                                                                                                                                                                                                                                                                                                                                                                                                                                  [type: PERSON, start: 0, end: 13, score: 0.85, type: DATE_TIME, start: 175, end: 189, score: 0.85, type: US_ITIN, start: 55, end: 65, score: 0.05]   \n",
              "67                                                                                                                                                                                                                                                                                                                                                                                                                                   [type: PERSON, start: 0, end: 13, score: 0.85, type: PERSON, start: 45, end: 54, score: 0.85, type: DATE_TIME, start: 165, end: 181, score: 0.85, type: US_SSN, start: 90, end: 100, score: 0.05]   \n",
              "68                                                                                                                                                                                                                                                                                                                                                                                                                                 [type: PERSON, start: 0, end: 10, score: 0.85, type: DATE_TIME, start: 23, end: 39, score: 0.85, type: DATE_TIME, start: 77, end: 92, score: 0.85, type: PERSON, start: 249, end: 262, score: 0.85]   \n",
              "69                                                                                                                                                                                                                                                                                                                                                                                                                                 [type: PERSON, start: 0, end: 12, score: 0.85, type: DATE_TIME, start: 22, end: 35, score: 0.85, type: DATE_TIME, start: 67, end: 80, score: 0.85, type: PERSON, start: 142, end: 154, score: 0.85]   \n",
              "70                                                                                                                                                                                                                                                                                                                                                                           [type: PERSON, start: 0, end: 12, score: 0.85, type: DATE_TIME, start: 25, end: 39, score: 0.85, type: DATE_TIME, start: 236, end: 240, score: 0.85, type: PERSON, start: 242, end: 246, score: 0.85, type: DATE_TIME, start: 286, end: 290, score: 0.85]   \n",
              "71                                                                                                                                                                                                                                                                                                                                                                                                                                                                                 [type: PERSON, start: 0, end: 22, score: 0.85, type: DATE_TIME, start: 32, end: 46, score: 0.85, type: DATE_TIME, start: 87, end: 102, score: 0.85]   \n",
              "72                                                                                                                                                                                                                                                                                                                                                                                                                              [type: PERSON, start: 0, end: 22, score: 0.85, type: DATE_TIME, start: 40, end: 57, score: 0.85, type: DATE_TIME, start: 96, end: 110, score: 0.85, type: LOCATION, start: 128, end: 138, score: 0.85]   \n",
              "73                                                                                                                                                                                                                                                                                                                                                                                                                                 [type: DATE_TIME, start: 3, end: 20, score: 0.85, type: PERSON, start: 43, end: 54, score: 0.85, type: DATE_TIME, start: 64, end: 78, score: 0.85, type: PERSON, start: 117, end: 122, score: 0.85]   \n",
              "74                                                                                                                                                                                                                                                                                                                                                                                                                                                                                                                                    [type: PERSON, start: 0, end: 12, score: 0.85, type: DATE_TIME, start: 22, end: 36, score: 0.85]   \n",
              "75                                                                                                                                                                                                                                                                                                                                                                                                                                                                                                                                    [type: PERSON, start: 0, end: 12, score: 0.85, type: DATE_TIME, start: 37, end: 54, score: 0.85]   \n",
              "76                                                                                                                                                                                                                                                                                                                                                                                                                                                                                                                                    [type: DATE_TIME, start: 3, end: 15, score: 0.85, type: PERSON, start: 17, end: 28, score: 0.85]   \n",
              "77                                                                                                                                                                                                                                                                                                                                                                                                                                                                                                                                    [type: PERSON, start: 0, end: 15, score: 0.85, type: DATE_TIME, start: 33, end: 50, score: 0.85]   \n",
              "78                                                                                                                                                                                                                                                                                                                                                                                                                                  [type: PERSON, start: 0, end: 22, score: 0.85, type: DATE_TIME, start: 35, end: 48, score: 0.85, type: LOCATION, start: 53, end: 60, score: 0.85, type: LOCATION, start: 62, end: 72, score: 0.85]   \n",
              "79                                                                                                                                                                                                                   [type: EMAIL_ADDRESS, start: 242, end: 271, score: 1.0, type: PERSON, start: 4, end: 17, score: 0.85, type: LOCATION, start: 131, end: 145, score: 0.85, type: LOCATION, start: 147, end: 158, score: 0.85, type: PHONE_NUMBER, start: 358, end: 370, score: 0.75, type: URL, start: 242, end: 249, score: 0.5, type: URL, start: 256, end: 271, score: 0.5, type: PHONE_NUMBER, start: 90, end: 104, score: 0.4]   \n",
              "80                                                                                                                                                                                                                  [type: EMAIL_ADDRESS, start: 306, end: 336, score: 1.0, type: PERSON, start: 71, end: 86, score: 0.85, type: LOCATION, start: 137, end: 153, score: 0.85, type: LOCATION, start: 155, end: 162, score: 0.85, type: PHONE_NUMBER, start: 227, end: 239, score: 0.75, type: URL, start: 306, end: 311, score: 0.5, type: URL, start: 319, end: 336, score: 0.5, type: PHONE_NUMBER, start: 90, end: 104, score: 0.4]   \n",
              "81                                                                                                                                                                                                                                                                                                                                                                                                                                                                                       [type: PERSON, start: 0, end: 4, score: 0.85, type: PERSON, start: 49, end: 62, score: 0.85, type: PERSON, start: 122, end: 126, score: 0.85]   \n",
              "82                                                                                                                                                                                                                                                                                                                                                                                                                                                                                                                                        [type: PERSON, start: 0, end: 5, score: 0.85, type: PERSON, start: 34, end: 47, score: 0.85]   \n",
              "83                                                                                                                                                                                                                                                                                                                                                                                                                                                                                                                                        [type: PERSON, start: 0, end: 5, score: 0.85, type: PERSON, start: 22, end: 36, score: 0.85]   \n",
              "84                                                                                                                                                                                                                                                                                                                                                                             [type: DATE_TIME, start: 3, end: 19, score: 0.85, type: PERSON, start: 21, end: 31, score: 0.85, type: PERSON, start: 160, end: 164, score: 0.85, type: LOCATION, start: 176, end: 192, score: 0.85, type: LOCATION, start: 194, end: 205, score: 0.85]   \n",
              "85                                                                                                                                                                                                                                                                                                                                                   [type: PERSON, start: 18, end: 29, score: 0.85, type: PHONE_NUMBER, start: 109, end: 119, score: 0.75, type: PHONE_NUMBER, start: 177, end: 192, score: 0.75, type: US_BANK_NUMBER, start: 109, end: 119, score: 0.4, type: US_DRIVER_LICENSE, start: 109, end: 119, score: 0.01]   \n",
              "86                                                                                                                                                                                                                                                                                                                                                                                                                           [type: PERSON, start: 12, end: 20, score: 0.85, type: LOCATION, start: 97, end: 110, score: 0.85, type: LOCATION, start: 112, end: 122, score: 0.85, type: PHONE_NUMBER, start: 73, end: 85, score: 0.75]   \n",
              "\n",
              "                                                                                                                                             detectedtext  \\\n",
              "56                                 [Jane Doe, Maple Street, Springfield, John Smith, 456 Elm Street, Springfield, August 1, 2023, 2023-CV-001234, 001234]   \n",
              "57  [jane.doe@example.com, Jane Doe, 123456789, Main St, Springfield, (555) 123-4567, 987-65-4321, jane.do, example.com, 123456789, 123456789, 123456789]   \n",
              "58                                                                      [johnsmith@mail.com, John Smith, Elm St, Denver, 80203, mail.com, (303) 987-6543]   \n",
              "59                                                                                                        [Jane Doe, Smith, October 15, 2023, A123456789]   \n",
              "60                                                                                        [Michael Johnson's, September 20, 2023, Emily Wong, B987654321]   \n",
              "61                                                                                                                               [John Doe, annual, John]   \n",
              "62                                                                                                                       [Emily Clark, Emily, five years]   \n",
              "63                                                                                                                                             [John Doe]   \n",
              "64                                           [John Smith, 123 Maple Avenue, H123456789, New York, 987654321, H123456789, 987654321, 987654321, 987654321]   \n",
              "65                                                                                                       [John Doe, Amelia Clark, annual, March 15, 2023]   \n",
              "66                                                                                                            [Emily Johnson, April 10, 2023, 98765-4321]   \n",
              "67                                                                                               [Michael Smith, Sarah Lee, January 21, 2023, 11223-4455]   \n",
              "68                                                                                         [John Smith, January 15, 1980, August 25, 2022, Emily Johnson]   \n",
              "69                                                                                             [Sarah Miller, March 3, 1992, July 10, 2021, James Wilson]   \n",
              "70                                                                                                       [Emma Johnson, April 17, 1985, 2010, Emma, 2007]   \n",
              "71                                                                                              [Jessica Marie Thompson, April 15, 1980, January 3, 2023]   \n",
              "72                                                                                [Michael Jonathan White, December 12, 1975, March 22, 2022, California]   \n",
              "73                                                                                                [February 14, 2021, Ethan Clark, August 9, 1990, Ethan]   \n",
              "74                                                                                                                         [James Bryant, April 15, 1980]   \n",
              "75                                                                                                                      [Linda Foster, February 28, 1975]   \n",
              "76                                                                                                                            [June 3, 1985, David Green]   \n",
              "77                                                                                                                   [Jennifer Watson, December 12, 1990]   \n",
              "78                                                                                           [Jessica Marie Thompson, July 18, 1985, Seattle, Washington]   \n",
              "79                    [lisa.thompson@riverbendmc.com, Lisa Thompson, 123 Elm Street, Springfield, 555-987-6543, lisa.th, riverbendmc.com, (555) 123-4567]   \n",
              "80                   [am.assistant@seattleclinic.com, Andrew Mitchell, 456 Maple Avenue, Seattle, 555-654-3210, am.as, seattleclinic.com, (555) 987-1234]   \n",
              "81                                                                                                                            [John, Mary Thompson, Mary]   \n",
              "82                                                                                                                                 [Sarah, Michael Green]   \n",
              "83                                                                                                                                [David, Jennifer White]   \n",
              "84                                                                                    [January 12, 2022, John Smith, John, 123 Maple Street, Springfield]   \n",
              "85                                                                                     [Sarah Jones, 1234567890, +1-234-567-8901, 1234567890, 1234567890]   \n",
              "86                                                                                                    [John Doe, San Francisco, California, 555-123-4567]   \n",
              "\n",
              "    piidetected  \\\n",
              "56         True   \n",
              "57         True   \n",
              "58         True   \n",
              "59         True   \n",
              "60         True   \n",
              "61         True   \n",
              "62         True   \n",
              "63         True   \n",
              "64         True   \n",
              "65         True   \n",
              "66         True   \n",
              "67         True   \n",
              "68         True   \n",
              "69         True   \n",
              "70         True   \n",
              "71         True   \n",
              "72         True   \n",
              "73         True   \n",
              "74         True   \n",
              "75         True   \n",
              "76         True   \n",
              "77         True   \n",
              "78         True   \n",
              "79         True   \n",
              "80         True   \n",
              "81         True   \n",
              "82         True   \n",
              "83         True   \n",
              "84         True   \n",
              "85         True   \n",
              "86         True   \n",
              "\n",
              "                                                                                                                                                                                                                                                                                                                                                                                                                  contextstr  \n",
              "56  Jane Doe, residing at 123 Maple Street, Springfield, IL 62704, applied for a legal name change. Her social security number is 123-45-6789. As part of the application process, her attorney, John Smith, from Smith & Associates, located at 456 Elm Street, Springfield, IL 62701, submitted the required forms on August 1, 2023. The case was filed in the Springfield County Court, with case number 2023-CV-001234.  \n",
              "57                                                                                      Jane Doe recently updated her contact details with Bank of America. Her account number is 123456789 and her social security number is 987-65-4321. She can be reached at her email, jane.doe@example.com, or on her phone at (555) 123-4567. For correspondence, please use her mailing address: 123 Main St, Springfield, IL 62701.  \n",
              "58                                                                                                                                                                 John Smith has applied for a new credit card from Chase Bank. His social security number is 123-45-6789, and his current mailing address is 456 Elm St, Denver, CO 80203. For any questions, he can be contacted at johnsmith@mail.com or (303) 987-6543.  \n",
              "59                                                                                                                                                                                                    Jane Doe visited her primary care physician, Dr. Smith, on October 15, 2023, for a routine check-up. During the appointment, she provided her health insurance ID number, A123456789, issued by HealthFirst Insurance.  \n",
              "60                                                                                                                                                                    Michael Johnson's health insurance ID number is B987654321, issued by United Health Group. He was hospitalized on September 20, 2023, due to a severe case of pneumonia and was treated by Dr. Emily Wong in the critical care unit at Mercy Hospital.  \n",
              "61                        John Doe, a finance manager at BlueCorp Investments, recently updated his health insurance ID to 9821-745-1234 during the company's annual benefits review. His primary role involves managing client portfolios and advising on investment strategies. John ensures that his family is also covered under the comprehensive plan provided by their health insurance provider, UnitedHealth Group.  \n",
              "62                                                       Emily Clark, who works as an accountant for SilverFinances, recently discovered an error in her health insurance ID number, 2345-678-9012, when processing her family's claims. She swiftly contacted the HR department to rectify the issue. Emily has been with the company for over five years and handles the preparation of financial statements and auditing.  \n",
              "63                                                             John Doe visited his lawyer to discuss a potential lawsuit related to his recent car accident. He presented his health insurance ID number, which is HI123456789, to cover his medical expenses. The lawyer advised that they could pursue compensation for his injuries and would require all relevant documentation including the health insurance details.  \n",
              "64                                                                                                                                                    John Smith, who resides at 123 Maple Avenue, took a new loan from Bank of America. His health insurance ID number is H123456789 issued by UnitedHealth Group. He made an initial deposit of $10,000 into his checking account number 987654321 at the New York branch.  \n",
              "65                                                                                                                                                                                                                    John Doe recently visited Dr. Amelia Clark for his annual check-up. His health insurance ID number is 12345-6789 and he is insured with Blue Shield. The appointment was scheduled for March 15, 2023.  \n",
              "66                                                                                                                                                                                                                            Emily Johnson, carrying the health insurance ID number 98765-4321, visited the clinic for a routine blood test. She is covered by United HealthCare and her appointment was on April 10, 2023.  \n",
              "67                                                                                                                                                                                                                                    Michael Smith booked an appointment with Dr. Sarah Lee. His health insurance ID number is 11223-4455, and he holds a policy with Aetna. The consultation was set for January 21, 2023.  \n",
              "68                                                                                                John Smith was born on January 15, 1980. During his visit to the hospital on August 25, 2022, he was diagnosed with hypertension and prescribed medication. His blood pressure readings at that time were consistently above 140/90 mmHg. He visited Dr. Emily Johnson at the City Health Clinic for his routine check-up.  \n",
              "69                                                                                                                                     Sarah Miller, born on March 3, 1992, came to the emergency room on July 10, 2021, with severe abdominal pain. She was quickly assessed by Dr. James Wilson and underwent an ultrasound that revealed gallstones. She was admitted to the Green Valley Hospital for further treatment.  \n",
              "70                                                                                   Emma Johnson was born on April 17, 1985, and currently works as a financial analyst at Morgan Stanley. She holds a Bachelor's degree in Economics from Harvard University and obtained her Certified Financial Planner (CFP) designation in 2010. Emma started her career at Goldman Sachs in 2007, specializing in investment banking.  \n",
              "71                                                                                                                                                                                                                      Jessica Marie Thompson, born on April 15, 1980, is a plaintiff in the lawsuit filed on January 3, 2023, against Smith & Associates Law Firm. She claims the firm neglected her personal injury case.  \n",
              "72                                                                                                                                                                                                                                                                               Michael Jonathan White, who was born on December 12, 1975, has been charged with tax evasion on March 22, 2022, in the state of California.  \n",
              "73                                                                                                                                                                                                                                                             On February 14, 2021, the contract between Ethan Clark, born on August 9, 1990, and Greenfield Corp. was terminated. Ethan claims the termination was unjust.  \n",
              "74                                                                                                                                                                                                                                                                                                       James Bryant, born on April 15, 1980, visited the main branch of First National Bank to open a new savings account.  \n",
              "75                                                                                                                                                                                                                                                                                                                 Linda Foster, whose date of birth is February 28, 1975, recently applied for a personal loan at CitiBank.  \n",
              "76                                                                                                                                                                                                                                                                                                                           On June 3, 1985, David Green was born. He currently manages his checking account at Chase Bank.  \n",
              "77                                                                                                                                                                                                                                                                                                            Jennifer Watson, who was born on December 12, 1990, transferred funds from her savings account at Wells Fargo.  \n",
              "78                                                                                                                                                                                              Jessica Marie Thompson was born on July 18, 1985, in Seattle, Washington. She currently works as a software engineer at TechInnovate Inc. She graduated from the University of Washington with a degree in Computer Science.  \n",
              "79                                       Dr. Lisa Thompson, a renowned cardiologist at Riverbend Medical Center, can be reached at (555) 123-4567. Her office is located at 123 Elm Street, Springfield. If you need to book an appointment, please call her office number or email her at lisa.thompson@riverbendmc.com. In case of emergencies, you can directly contact her through her mobile phone number 555-987-6543.  \n",
              "80                                                                         For any queries regarding your recent lab results, you can contact Dr. Andrew Mitchell at (555) 987-1234, or visit his clinic located at 456 Maple Avenue, Seattle. Alternatively, you can reach him on his personal mobile number 555-654-3210. For more detailed inquiries, you may also email his assistant at am.assistant@seattleclinic.com.  \n",
              "81                                                                                                                                                                                                                    John received a call from his financial advisor, Mary Thompson, regarding the recent changes in his investment portfolio. Mary can be reached at +1-555-123-4567 for further queries about his assets.  \n",
              "82                                                                                                                                                                                                                                                                                             Sarah contacted her bank manager, Michael Green, on +1-555-987-6543 to discuss the interest rates on her new savings account.  \n",
              "83                                                                                                                                                                                                                                                                                      David's loan officer, Jennifer White, informed him via phone call at +1-555-321-6789 about the approval of his mortgage application.  \n",
              "84                                                                                                                                                                                                  On January 12, 2022, John Smith contacted our law firm via his mobile phone number +1-555-123-4567. He requested legal assistance regarding a property dispute. John resides at 123 Maple Street, Springfield, IL 62704.  \n",
              "85                                                                                                                                                                                                                         Hello, my name is Sarah Jones and I recently opened a new account with Bank of America. My account number is 1234567890 and if you need to contact me, my mobile phone number is +1-234-567-8901.  \n",
              "86                                                                                                                                                                                                                                                                     Hi, this is John Doe. If you need to reach me, my mobile phone number is 555-123-4567. I live in San Francisco, California, and work at TechCorp Inc.  "
            ],
            "text/html": [
              "\n",
              "  <div id=\"df-c91b3016-335b-49b5-82b2-cb865d158dda\" class=\"colab-df-container\">\n",
              "    <div>\n",
              "<style scoped>\n",
              "    .dataframe tbody tr th:only-of-type {\n",
              "        vertical-align: middle;\n",
              "    }\n",
              "\n",
              "    .dataframe tbody tr th {\n",
              "        vertical-align: top;\n",
              "    }\n",
              "\n",
              "    .dataframe thead th {\n",
              "        text-align: right;\n",
              "    }\n",
              "</style>\n",
              "<table border=\"1\" class=\"dataframe\">\n",
              "  <thead>\n",
              "    <tr style=\"text-align: right;\">\n",
              "      <th></th>\n",
              "      <th>text</th>\n",
              "      <th>eval</th>\n",
              "      <th>result</th>\n",
              "      <th>detectedtext</th>\n",
              "      <th>piidetected</th>\n",
              "      <th>contextstr</th>\n",
              "    </tr>\n",
              "  </thead>\n",
              "  <tbody>\n",
              "    <tr>\n",
              "      <th>56</th>\n",
              "      <td>Jane Doe, residing at 123 Maple Street, Springfield, IL 62704, applied for a legal name change. Her social security number is 123-45-6789. As part of the application process, her attorney, John Smith, from Smith &amp; Associates, located at 456 Elm Street, Springfield, IL 62701, submitted the required forms on August 1, 2023. The case was filed in the Springfield County Court, with case number 2023-CV-001234.</td>\n",
              "      <td>{'result': [type: PERSON, start: 0, end: 8, score: 0.85, type: LOCATION, start: 26, end: 38, score: 0.85, type: LOCATION, start: 40, end: 51, score: 0.85, type: PERSON, start: 189, end: 199, score: 0.85, type: LOCATION, start: 237, end: 251, score: 0.85, type: LOCATION, start: 253, end: 264, score: 0.85, type: DATE_TIME, start: 308, end: 322, score: 0.85, type: DATE_TIME, start: 393, end: 407, score: 0.85, type: US_DRIVER_LICENSE, start: 401, end: 407, score: 0.01], 'piidetected': True, 'contextstr': 'Jane Doe, residing at 123 Maple Street, Springfield, IL 62704, applied for a legal name change. Her social security number is 123-45-6789. As part of the application process, her attorney, John Smith, from Smith &amp; Associates, located at 456 Elm Street, Springfield, IL 62701, submitted the required forms on August 1, 2023. The case was filed in the Springfield County Court, with case number 2023-CV-001234.', 'detectedtext': ['Jane Doe', 'Maple Street', 'Springfield', 'John Smith', '456 Elm Street', 'Springfield', 'August 1, 2023', '2023-CV-001234', '001234']}</td>\n",
              "      <td>[type: PERSON, start: 0, end: 8, score: 0.85, type: LOCATION, start: 26, end: 38, score: 0.85, type: LOCATION, start: 40, end: 51, score: 0.85, type: PERSON, start: 189, end: 199, score: 0.85, type: LOCATION, start: 237, end: 251, score: 0.85, type: LOCATION, start: 253, end: 264, score: 0.85, type: DATE_TIME, start: 308, end: 322, score: 0.85, type: DATE_TIME, start: 393, end: 407, score: 0.85, type: US_DRIVER_LICENSE, start: 401, end: 407, score: 0.01]</td>\n",
              "      <td>[Jane Doe, Maple Street, Springfield, John Smith, 456 Elm Street, Springfield, August 1, 2023, 2023-CV-001234, 001234]</td>\n",
              "      <td>True</td>\n",
              "      <td>Jane Doe, residing at 123 Maple Street, Springfield, IL 62704, applied for a legal name change. Her social security number is 123-45-6789. As part of the application process, her attorney, John Smith, from Smith &amp; Associates, located at 456 Elm Street, Springfield, IL 62701, submitted the required forms on August 1, 2023. The case was filed in the Springfield County Court, with case number 2023-CV-001234.</td>\n",
              "    </tr>\n",
              "    <tr>\n",
              "      <th>57</th>\n",
              "      <td>Jane Doe recently updated her contact details with Bank of America. Her account number is 123456789 and her social security number is 987-65-4321. She can be reached at her email, jane.doe@example.com, or on her phone at (555) 123-4567. For correspondence, please use her mailing address: 123 Main St, Springfield, IL 62701.</td>\n",
              "      <td>{'result': [type: EMAIL_ADDRESS, start: 180, end: 200, score: 1.0, type: PERSON, start: 0, end: 8, score: 0.85, type: DATE_TIME, start: 90, end: 99, score: 0.85, type: LOCATION, start: 293, end: 300, score: 0.85, type: LOCATION, start: 302, end: 313, score: 0.85, type: PHONE_NUMBER, start: 221, end: 235, score: 0.75, type: US_ITIN, start: 134, end: 145, score: 0.5, type: URL, start: 180, end: 187, score: 0.5, type: URL, start: 189, end: 200, score: 0.5, type: US_BANK_NUMBER, start: 90, end: 99, score: 0.4, type: US_PASSPORT, start: 90, end: 99, score: 0.05, type: US_DRIVER_LICENSE, start: 90, end: 99, score: 0.01], 'piidetected': True, 'contextstr': 'Jane Doe recently updated her contact details with Bank of America. Her account number is 123456789 and her social security number is 987-65-4321. She can be reached at her email, jane.doe@example.com, or on her phone at (555) 123-4567. For correspondence, please use her mailing address: 123 Main St, Springfield, IL 62701.', 'detectedtext': ['jane.doe@example.com', 'Jane Doe', '123456789', 'Main St', 'Springfield', '(555) 123-4567', '987-65-4321', 'jane.do', 'example.com', '123456789', '123456789', '123456789']}</td>\n",
              "      <td>[type: EMAIL_ADDRESS, start: 180, end: 200, score: 1.0, type: PERSON, start: 0, end: 8, score: 0.85, type: DATE_TIME, start: 90, end: 99, score: 0.85, type: LOCATION, start: 293, end: 300, score: 0.85, type: LOCATION, start: 302, end: 313, score: 0.85, type: PHONE_NUMBER, start: 221, end: 235, score: 0.75, type: US_ITIN, start: 134, end: 145, score: 0.5, type: URL, start: 180, end: 187, score: 0.5, type: URL, start: 189, end: 200, score: 0.5, type: US_BANK_NUMBER, start: 90, end: 99, score: 0.4, type: US_PASSPORT, start: 90, end: 99, score: 0.05, type: US_DRIVER_LICENSE, start: 90, end: 99, score: 0.01]</td>\n",
              "      <td>[jane.doe@example.com, Jane Doe, 123456789, Main St, Springfield, (555) 123-4567, 987-65-4321, jane.do, example.com, 123456789, 123456789, 123456789]</td>\n",
              "      <td>True</td>\n",
              "      <td>Jane Doe recently updated her contact details with Bank of America. Her account number is 123456789 and her social security number is 987-65-4321. She can be reached at her email, jane.doe@example.com, or on her phone at (555) 123-4567. For correspondence, please use her mailing address: 123 Main St, Springfield, IL 62701.</td>\n",
              "    </tr>\n",
              "    <tr>\n",
              "      <th>58</th>\n",
              "      <td>John Smith has applied for a new credit card from Chase Bank. His social security number is 123-45-6789, and his current mailing address is 456 Elm St, Denver, CO 80203. For any questions, he can be contacted at johnsmith@mail.com or (303) 987-6543.</td>\n",
              "      <td>{'result': [type: EMAIL_ADDRESS, start: 212, end: 230, score: 1.0, type: PERSON, start: 0, end: 10, score: 0.85, type: LOCATION, start: 144, end: 150, score: 0.85, type: LOCATION, start: 152, end: 158, score: 0.85, type: DATE_TIME, start: 163, end: 168, score: 0.85, type: URL, start: 222, end: 230, score: 0.5, type: PHONE_NUMBER, start: 234, end: 248, score: 0.4], 'piidetected': True, 'contextstr': 'John Smith has applied for a new credit card from Chase Bank. His social security number is 123-45-6789, and his current mailing address is 456 Elm St, Denver, CO 80203. For any questions, he can be contacted at johnsmith@mail.com or (303) 987-6543.', 'detectedtext': ['johnsmith@mail.com', 'John Smith', 'Elm St', 'Denver', '80203', 'mail.com', '(303) 987-6543']}</td>\n",
              "      <td>[type: EMAIL_ADDRESS, start: 212, end: 230, score: 1.0, type: PERSON, start: 0, end: 10, score: 0.85, type: LOCATION, start: 144, end: 150, score: 0.85, type: LOCATION, start: 152, end: 158, score: 0.85, type: DATE_TIME, start: 163, end: 168, score: 0.85, type: URL, start: 222, end: 230, score: 0.5, type: PHONE_NUMBER, start: 234, end: 248, score: 0.4]</td>\n",
              "      <td>[johnsmith@mail.com, John Smith, Elm St, Denver, 80203, mail.com, (303) 987-6543]</td>\n",
              "      <td>True</td>\n",
              "      <td>John Smith has applied for a new credit card from Chase Bank. His social security number is 123-45-6789, and his current mailing address is 456 Elm St, Denver, CO 80203. For any questions, he can be contacted at johnsmith@mail.com or (303) 987-6543.</td>\n",
              "    </tr>\n",
              "    <tr>\n",
              "      <th>59</th>\n",
              "      <td>Jane Doe visited her primary care physician, Dr. Smith, on October 15, 2023, for a routine check-up. During the appointment, she provided her health insurance ID number, A123456789, issued by HealthFirst Insurance.</td>\n",
              "      <td>{'result': [type: PERSON, start: 0, end: 8, score: 0.85, type: PERSON, start: 49, end: 54, score: 0.85, type: DATE_TIME, start: 59, end: 75, score: 0.85, type: US_DRIVER_LICENSE, start: 170, end: 180, score: 0.3], 'piidetected': True, 'contextstr': 'Jane Doe visited her primary care physician, Dr. Smith, on October 15, 2023, for a routine check-up. During the appointment, she provided her health insurance ID number, A123456789, issued by HealthFirst Insurance.', 'detectedtext': ['Jane Doe', 'Smith', 'October 15, 2023', 'A123456789']}</td>\n",
              "      <td>[type: PERSON, start: 0, end: 8, score: 0.85, type: PERSON, start: 49, end: 54, score: 0.85, type: DATE_TIME, start: 59, end: 75, score: 0.85, type: US_DRIVER_LICENSE, start: 170, end: 180, score: 0.3]</td>\n",
              "      <td>[Jane Doe, Smith, October 15, 2023, A123456789]</td>\n",
              "      <td>True</td>\n",
              "      <td>Jane Doe visited her primary care physician, Dr. Smith, on October 15, 2023, for a routine check-up. During the appointment, she provided her health insurance ID number, A123456789, issued by HealthFirst Insurance.</td>\n",
              "    </tr>\n",
              "    <tr>\n",
              "      <th>60</th>\n",
              "      <td>Michael Johnson's health insurance ID number is B987654321, issued by United Health Group. He was hospitalized on September 20, 2023, due to a severe case of pneumonia and was treated by Dr. Emily Wong in the critical care unit at Mercy Hospital.</td>\n",
              "      <td>{'result': [type: PERSON, start: 0, end: 17, score: 0.85, type: DATE_TIME, start: 114, end: 132, score: 0.85, type: PERSON, start: 191, end: 201, score: 0.85, type: US_DRIVER_LICENSE, start: 48, end: 58, score: 0.3], 'piidetected': True, 'contextstr': 'Michael Johnson's health insurance ID number is B987654321, issued by United Health Group. He was hospitalized on September 20, 2023, due to a severe case of pneumonia and was treated by Dr. Emily Wong in the critical care unit at Mercy Hospital.', 'detectedtext': ['Michael Johnson's', 'September 20, 2023', 'Emily Wong', 'B987654321']}</td>\n",
              "      <td>[type: PERSON, start: 0, end: 17, score: 0.85, type: DATE_TIME, start: 114, end: 132, score: 0.85, type: PERSON, start: 191, end: 201, score: 0.85, type: US_DRIVER_LICENSE, start: 48, end: 58, score: 0.3]</td>\n",
              "      <td>[Michael Johnson's, September 20, 2023, Emily Wong, B987654321]</td>\n",
              "      <td>True</td>\n",
              "      <td>Michael Johnson's health insurance ID number is B987654321, issued by United Health Group. He was hospitalized on September 20, 2023, due to a severe case of pneumonia and was treated by Dr. Emily Wong in the critical care unit at Mercy Hospital.</td>\n",
              "    </tr>\n",
              "    <tr>\n",
              "      <th>61</th>\n",
              "      <td>John Doe, a finance manager at BlueCorp Investments, recently updated his health insurance ID to 9821-745-1234 during the company's annual benefits review. His primary role involves managing client portfolios and advising on investment strategies. John ensures that his family is also covered under the comprehensive plan provided by their health insurance provider, UnitedHealth Group.</td>\n",
              "      <td>{'result': [type: PERSON, start: 0, end: 8, score: 0.85, type: DATE_TIME, start: 132, end: 138, score: 0.85, type: PERSON, start: 248, end: 252, score: 0.85], 'piidetected': True, 'contextstr': 'John Doe, a finance manager at BlueCorp Investments, recently updated his health insurance ID to 9821-745-1234 during the company's annual benefits review. His primary role involves managing client portfolios and advising on investment strategies. John ensures that his family is also covered under the comprehensive plan provided by their health insurance provider, UnitedHealth Group.', 'detectedtext': ['John Doe', 'annual', 'John']}</td>\n",
              "      <td>[type: PERSON, start: 0, end: 8, score: 0.85, type: DATE_TIME, start: 132, end: 138, score: 0.85, type: PERSON, start: 248, end: 252, score: 0.85]</td>\n",
              "      <td>[John Doe, annual, John]</td>\n",
              "      <td>True</td>\n",
              "      <td>John Doe, a finance manager at BlueCorp Investments, recently updated his health insurance ID to 9821-745-1234 during the company's annual benefits review. His primary role involves managing client portfolios and advising on investment strategies. John ensures that his family is also covered under the comprehensive plan provided by their health insurance provider, UnitedHealth Group.</td>\n",
              "    </tr>\n",
              "    <tr>\n",
              "      <th>62</th>\n",
              "      <td>Emily Clark, who works as an accountant for SilverFinances, recently discovered an error in her health insurance ID number, 2345-678-9012, when processing her family's claims. She swiftly contacted the HR department to rectify the issue. Emily has been with the company for over five years and handles the preparation of financial statements and auditing.</td>\n",
              "      <td>{'result': [type: PERSON, start: 0, end: 11, score: 0.85, type: PERSON, start: 238, end: 243, score: 0.85, type: DATE_TIME, start: 279, end: 289, score: 0.85], 'piidetected': True, 'contextstr': 'Emily Clark, who works as an accountant for SilverFinances, recently discovered an error in her health insurance ID number, 2345-678-9012, when processing her family's claims. She swiftly contacted the HR department to rectify the issue. Emily has been with the company for over five years and handles the preparation of financial statements and auditing.', 'detectedtext': ['Emily Clark', 'Emily', 'five years']}</td>\n",
              "      <td>[type: PERSON, start: 0, end: 11, score: 0.85, type: PERSON, start: 238, end: 243, score: 0.85, type: DATE_TIME, start: 279, end: 289, score: 0.85]</td>\n",
              "      <td>[Emily Clark, Emily, five years]</td>\n",
              "      <td>True</td>\n",
              "      <td>Emily Clark, who works as an accountant for SilverFinances, recently discovered an error in her health insurance ID number, 2345-678-9012, when processing her family's claims. She swiftly contacted the HR department to rectify the issue. Emily has been with the company for over five years and handles the preparation of financial statements and auditing.</td>\n",
              "    </tr>\n",
              "    <tr>\n",
              "      <th>63</th>\n",
              "      <td>John Doe visited his lawyer to discuss a potential lawsuit related to his recent car accident. He presented his health insurance ID number, which is HI123456789, to cover his medical expenses. The lawyer advised that they could pursue compensation for his injuries and would require all relevant documentation including the health insurance details.</td>\n",
              "      <td>{'result': [type: PERSON, start: 0, end: 8, score: 0.85], 'piidetected': True, 'contextstr': 'John Doe visited his lawyer to discuss a potential lawsuit related to his recent car accident. He presented his health insurance ID number, which is HI123456789, to cover his medical expenses. The lawyer advised that they could pursue compensation for his injuries and would require all relevant documentation including the health insurance details.', 'detectedtext': ['John Doe']}</td>\n",
              "      <td>[type: PERSON, start: 0, end: 8, score: 0.85]</td>\n",
              "      <td>[John Doe]</td>\n",
              "      <td>True</td>\n",
              "      <td>John Doe visited his lawyer to discuss a potential lawsuit related to his recent car accident. He presented his health insurance ID number, which is HI123456789, to cover his medical expenses. The lawyer advised that they could pursue compensation for his injuries and would require all relevant documentation including the health insurance details.</td>\n",
              "    </tr>\n",
              "    <tr>\n",
              "      <th>64</th>\n",
              "      <td>John Smith, who resides at 123 Maple Avenue, took a new loan from Bank of America. His health insurance ID number is H123456789 issued by UnitedHealth Group. He made an initial deposit of $10,000 into his checking account number 987654321 at the New York branch.</td>\n",
              "      <td>{'result': [type: PERSON, start: 0, end: 10, score: 0.85, type: LOCATION, start: 27, end: 43, score: 0.85, type: LOCATION, start: 117, end: 127, score: 0.85, type: LOCATION, start: 246, end: 254, score: 0.85, type: US_BANK_NUMBER, start: 229, end: 238, score: 0.4, type: US_DRIVER_LICENSE, start: 117, end: 127, score: 0.3, type: US_ITIN, start: 229, end: 238, score: 0.3, type: US_PASSPORT, start: 229, end: 238, score: 0.05, type: US_DRIVER_LICENSE, start: 229, end: 238, score: 0.01], 'piidetected': True, 'contextstr': 'John Smith, who resides at 123 Maple Avenue, took a new loan from Bank of America. His health insurance ID number is H123456789 issued by UnitedHealth Group. He made an initial deposit of $10,000 into his checking account number 987654321 at the New York branch.', 'detectedtext': ['John Smith', '123 Maple Avenue', 'H123456789', 'New York', '987654321', 'H123456789', '987654321', '987654321', '987654321']}</td>\n",
              "      <td>[type: PERSON, start: 0, end: 10, score: 0.85, type: LOCATION, start: 27, end: 43, score: 0.85, type: LOCATION, start: 117, end: 127, score: 0.85, type: LOCATION, start: 246, end: 254, score: 0.85, type: US_BANK_NUMBER, start: 229, end: 238, score: 0.4, type: US_DRIVER_LICENSE, start: 117, end: 127, score: 0.3, type: US_ITIN, start: 229, end: 238, score: 0.3, type: US_PASSPORT, start: 229, end: 238, score: 0.05, type: US_DRIVER_LICENSE, start: 229, end: 238, score: 0.01]</td>\n",
              "      <td>[John Smith, 123 Maple Avenue, H123456789, New York, 987654321, H123456789, 987654321, 987654321, 987654321]</td>\n",
              "      <td>True</td>\n",
              "      <td>John Smith, who resides at 123 Maple Avenue, took a new loan from Bank of America. His health insurance ID number is H123456789 issued by UnitedHealth Group. He made an initial deposit of $10,000 into his checking account number 987654321 at the New York branch.</td>\n",
              "    </tr>\n",
              "    <tr>\n",
              "      <th>65</th>\n",
              "      <td>John Doe recently visited Dr. Amelia Clark for his annual check-up. His health insurance ID number is 12345-6789 and he is insured with Blue Shield. The appointment was scheduled for March 15, 2023.</td>\n",
              "      <td>{'result': [type: PERSON, start: 0, end: 8, score: 0.85, type: PERSON, start: 30, end: 42, score: 0.85, type: DATE_TIME, start: 51, end: 57, score: 0.85, type: DATE_TIME, start: 183, end: 197, score: 0.85], 'piidetected': True, 'contextstr': 'John Doe recently visited Dr. Amelia Clark for his annual check-up. His health insurance ID number is 12345-6789 and he is insured with Blue Shield. The appointment was scheduled for March 15, 2023.', 'detectedtext': ['John Doe', 'Amelia Clark', 'annual', 'March 15, 2023']}</td>\n",
              "      <td>[type: PERSON, start: 0, end: 8, score: 0.85, type: PERSON, start: 30, end: 42, score: 0.85, type: DATE_TIME, start: 51, end: 57, score: 0.85, type: DATE_TIME, start: 183, end: 197, score: 0.85]</td>\n",
              "      <td>[John Doe, Amelia Clark, annual, March 15, 2023]</td>\n",
              "      <td>True</td>\n",
              "      <td>John Doe recently visited Dr. Amelia Clark for his annual check-up. His health insurance ID number is 12345-6789 and he is insured with Blue Shield. The appointment was scheduled for March 15, 2023.</td>\n",
              "    </tr>\n",
              "    <tr>\n",
              "      <th>66</th>\n",
              "      <td>Emily Johnson, carrying the health insurance ID number 98765-4321, visited the clinic for a routine blood test. She is covered by United HealthCare and her appointment was on April 10, 2023.</td>\n",
              "      <td>{'result': [type: PERSON, start: 0, end: 13, score: 0.85, type: DATE_TIME, start: 175, end: 189, score: 0.85, type: US_ITIN, start: 55, end: 65, score: 0.05], 'piidetected': True, 'contextstr': 'Emily Johnson, carrying the health insurance ID number 98765-4321, visited the clinic for a routine blood test. She is covered by United HealthCare and her appointment was on April 10, 2023.', 'detectedtext': ['Emily Johnson', 'April 10, 2023', '98765-4321']}</td>\n",
              "      <td>[type: PERSON, start: 0, end: 13, score: 0.85, type: DATE_TIME, start: 175, end: 189, score: 0.85, type: US_ITIN, start: 55, end: 65, score: 0.05]</td>\n",
              "      <td>[Emily Johnson, April 10, 2023, 98765-4321]</td>\n",
              "      <td>True</td>\n",
              "      <td>Emily Johnson, carrying the health insurance ID number 98765-4321, visited the clinic for a routine blood test. She is covered by United HealthCare and her appointment was on April 10, 2023.</td>\n",
              "    </tr>\n",
              "    <tr>\n",
              "      <th>67</th>\n",
              "      <td>Michael Smith booked an appointment with Dr. Sarah Lee. His health insurance ID number is 11223-4455, and he holds a policy with Aetna. The consultation was set for January 21, 2023.</td>\n",
              "      <td>{'result': [type: PERSON, start: 0, end: 13, score: 0.85, type: PERSON, start: 45, end: 54, score: 0.85, type: DATE_TIME, start: 165, end: 181, score: 0.85, type: US_SSN, start: 90, end: 100, score: 0.05], 'piidetected': True, 'contextstr': 'Michael Smith booked an appointment with Dr. Sarah Lee. His health insurance ID number is 11223-4455, and he holds a policy with Aetna. The consultation was set for January 21, 2023.', 'detectedtext': ['Michael Smith', 'Sarah Lee', 'January 21, 2023', '11223-4455']}</td>\n",
              "      <td>[type: PERSON, start: 0, end: 13, score: 0.85, type: PERSON, start: 45, end: 54, score: 0.85, type: DATE_TIME, start: 165, end: 181, score: 0.85, type: US_SSN, start: 90, end: 100, score: 0.05]</td>\n",
              "      <td>[Michael Smith, Sarah Lee, January 21, 2023, 11223-4455]</td>\n",
              "      <td>True</td>\n",
              "      <td>Michael Smith booked an appointment with Dr. Sarah Lee. His health insurance ID number is 11223-4455, and he holds a policy with Aetna. The consultation was set for January 21, 2023.</td>\n",
              "    </tr>\n",
              "    <tr>\n",
              "      <th>68</th>\n",
              "      <td>John Smith was born on January 15, 1980. During his visit to the hospital on August 25, 2022, he was diagnosed with hypertension and prescribed medication. His blood pressure readings at that time were consistently above 140/90 mmHg. He visited Dr. Emily Johnson at the City Health Clinic for his routine check-up.</td>\n",
              "      <td>{'result': [type: PERSON, start: 0, end: 10, score: 0.85, type: DATE_TIME, start: 23, end: 39, score: 0.85, type: DATE_TIME, start: 77, end: 92, score: 0.85, type: PERSON, start: 249, end: 262, score: 0.85], 'piidetected': True, 'contextstr': 'John Smith was born on January 15, 1980. During his visit to the hospital on August 25, 2022, he was diagnosed with hypertension and prescribed medication. His blood pressure readings at that time were consistently above 140/90 mmHg. He visited Dr. Emily Johnson at the City Health Clinic for his routine check-up.', 'detectedtext': ['John Smith', 'January 15, 1980', 'August 25, 2022', 'Emily Johnson']}</td>\n",
              "      <td>[type: PERSON, start: 0, end: 10, score: 0.85, type: DATE_TIME, start: 23, end: 39, score: 0.85, type: DATE_TIME, start: 77, end: 92, score: 0.85, type: PERSON, start: 249, end: 262, score: 0.85]</td>\n",
              "      <td>[John Smith, January 15, 1980, August 25, 2022, Emily Johnson]</td>\n",
              "      <td>True</td>\n",
              "      <td>John Smith was born on January 15, 1980. During his visit to the hospital on August 25, 2022, he was diagnosed with hypertension and prescribed medication. His blood pressure readings at that time were consistently above 140/90 mmHg. He visited Dr. Emily Johnson at the City Health Clinic for his routine check-up.</td>\n",
              "    </tr>\n",
              "    <tr>\n",
              "      <th>69</th>\n",
              "      <td>Sarah Miller, born on March 3, 1992, came to the emergency room on July 10, 2021, with severe abdominal pain. She was quickly assessed by Dr. James Wilson and underwent an ultrasound that revealed gallstones. She was admitted to the Green Valley Hospital for further treatment.</td>\n",
              "      <td>{'result': [type: PERSON, start: 0, end: 12, score: 0.85, type: DATE_TIME, start: 22, end: 35, score: 0.85, type: DATE_TIME, start: 67, end: 80, score: 0.85, type: PERSON, start: 142, end: 154, score: 0.85], 'piidetected': True, 'contextstr': 'Sarah Miller, born on March 3, 1992, came to the emergency room on July 10, 2021, with severe abdominal pain. She was quickly assessed by Dr. James Wilson and underwent an ultrasound that revealed gallstones. She was admitted to the Green Valley Hospital for further treatment.', 'detectedtext': ['Sarah Miller', 'March 3, 1992', 'July 10, 2021', 'James Wilson']}</td>\n",
              "      <td>[type: PERSON, start: 0, end: 12, score: 0.85, type: DATE_TIME, start: 22, end: 35, score: 0.85, type: DATE_TIME, start: 67, end: 80, score: 0.85, type: PERSON, start: 142, end: 154, score: 0.85]</td>\n",
              "      <td>[Sarah Miller, March 3, 1992, July 10, 2021, James Wilson]</td>\n",
              "      <td>True</td>\n",
              "      <td>Sarah Miller, born on March 3, 1992, came to the emergency room on July 10, 2021, with severe abdominal pain. She was quickly assessed by Dr. James Wilson and underwent an ultrasound that revealed gallstones. She was admitted to the Green Valley Hospital for further treatment.</td>\n",
              "    </tr>\n",
              "    <tr>\n",
              "      <th>70</th>\n",
              "      <td>Emma Johnson was born on April 17, 1985, and currently works as a financial analyst at Morgan Stanley. She holds a Bachelor's degree in Economics from Harvard University and obtained her Certified Financial Planner (CFP) designation in 2010. Emma started her career at Goldman Sachs in 2007, specializing in investment banking.</td>\n",
              "      <td>{'result': [type: PERSON, start: 0, end: 12, score: 0.85, type: DATE_TIME, start: 25, end: 39, score: 0.85, type: DATE_TIME, start: 236, end: 240, score: 0.85, type: PERSON, start: 242, end: 246, score: 0.85, type: DATE_TIME, start: 286, end: 290, score: 0.85], 'piidetected': True, 'contextstr': 'Emma Johnson was born on April 17, 1985, and currently works as a financial analyst at Morgan Stanley. She holds a Bachelor's degree in Economics from Harvard University and obtained her Certified Financial Planner (CFP) designation in 2010. Emma started her career at Goldman Sachs in 2007, specializing in investment banking.', 'detectedtext': ['Emma Johnson', 'April 17, 1985', '2010', 'Emma', '2007']}</td>\n",
              "      <td>[type: PERSON, start: 0, end: 12, score: 0.85, type: DATE_TIME, start: 25, end: 39, score: 0.85, type: DATE_TIME, start: 236, end: 240, score: 0.85, type: PERSON, start: 242, end: 246, score: 0.85, type: DATE_TIME, start: 286, end: 290, score: 0.85]</td>\n",
              "      <td>[Emma Johnson, April 17, 1985, 2010, Emma, 2007]</td>\n",
              "      <td>True</td>\n",
              "      <td>Emma Johnson was born on April 17, 1985, and currently works as a financial analyst at Morgan Stanley. She holds a Bachelor's degree in Economics from Harvard University and obtained her Certified Financial Planner (CFP) designation in 2010. Emma started her career at Goldman Sachs in 2007, specializing in investment banking.</td>\n",
              "    </tr>\n",
              "    <tr>\n",
              "      <th>71</th>\n",
              "      <td>Jessica Marie Thompson, born on April 15, 1980, is a plaintiff in the lawsuit filed on January 3, 2023, against Smith &amp; Associates Law Firm. She claims the firm neglected her personal injury case.</td>\n",
              "      <td>{'result': [type: PERSON, start: 0, end: 22, score: 0.85, type: DATE_TIME, start: 32, end: 46, score: 0.85, type: DATE_TIME, start: 87, end: 102, score: 0.85], 'piidetected': True, 'contextstr': 'Jessica Marie Thompson, born on April 15, 1980, is a plaintiff in the lawsuit filed on January 3, 2023, against Smith &amp; Associates Law Firm. She claims the firm neglected her personal injury case.', 'detectedtext': ['Jessica Marie Thompson', 'April 15, 1980', 'January 3, 2023']}</td>\n",
              "      <td>[type: PERSON, start: 0, end: 22, score: 0.85, type: DATE_TIME, start: 32, end: 46, score: 0.85, type: DATE_TIME, start: 87, end: 102, score: 0.85]</td>\n",
              "      <td>[Jessica Marie Thompson, April 15, 1980, January 3, 2023]</td>\n",
              "      <td>True</td>\n",
              "      <td>Jessica Marie Thompson, born on April 15, 1980, is a plaintiff in the lawsuit filed on January 3, 2023, against Smith &amp; Associates Law Firm. She claims the firm neglected her personal injury case.</td>\n",
              "    </tr>\n",
              "    <tr>\n",
              "      <th>72</th>\n",
              "      <td>Michael Jonathan White, who was born on December 12, 1975, has been charged with tax evasion on March 22, 2022, in the state of California.</td>\n",
              "      <td>{'result': [type: PERSON, start: 0, end: 22, score: 0.85, type: DATE_TIME, start: 40, end: 57, score: 0.85, type: DATE_TIME, start: 96, end: 110, score: 0.85, type: LOCATION, start: 128, end: 138, score: 0.85], 'piidetected': True, 'contextstr': 'Michael Jonathan White, who was born on December 12, 1975, has been charged with tax evasion on March 22, 2022, in the state of California.', 'detectedtext': ['Michael Jonathan White', 'December 12, 1975', 'March 22, 2022', 'California']}</td>\n",
              "      <td>[type: PERSON, start: 0, end: 22, score: 0.85, type: DATE_TIME, start: 40, end: 57, score: 0.85, type: DATE_TIME, start: 96, end: 110, score: 0.85, type: LOCATION, start: 128, end: 138, score: 0.85]</td>\n",
              "      <td>[Michael Jonathan White, December 12, 1975, March 22, 2022, California]</td>\n",
              "      <td>True</td>\n",
              "      <td>Michael Jonathan White, who was born on December 12, 1975, has been charged with tax evasion on March 22, 2022, in the state of California.</td>\n",
              "    </tr>\n",
              "    <tr>\n",
              "      <th>73</th>\n",
              "      <td>On February 14, 2021, the contract between Ethan Clark, born on August 9, 1990, and Greenfield Corp. was terminated. Ethan claims the termination was unjust.</td>\n",
              "      <td>{'result': [type: DATE_TIME, start: 3, end: 20, score: 0.85, type: PERSON, start: 43, end: 54, score: 0.85, type: DATE_TIME, start: 64, end: 78, score: 0.85, type: PERSON, start: 117, end: 122, score: 0.85], 'piidetected': True, 'contextstr': 'On February 14, 2021, the contract between Ethan Clark, born on August 9, 1990, and Greenfield Corp. was terminated. Ethan claims the termination was unjust.', 'detectedtext': ['February 14, 2021', 'Ethan Clark', 'August 9, 1990', 'Ethan']}</td>\n",
              "      <td>[type: DATE_TIME, start: 3, end: 20, score: 0.85, type: PERSON, start: 43, end: 54, score: 0.85, type: DATE_TIME, start: 64, end: 78, score: 0.85, type: PERSON, start: 117, end: 122, score: 0.85]</td>\n",
              "      <td>[February 14, 2021, Ethan Clark, August 9, 1990, Ethan]</td>\n",
              "      <td>True</td>\n",
              "      <td>On February 14, 2021, the contract between Ethan Clark, born on August 9, 1990, and Greenfield Corp. was terminated. Ethan claims the termination was unjust.</td>\n",
              "    </tr>\n",
              "    <tr>\n",
              "      <th>74</th>\n",
              "      <td>James Bryant, born on April 15, 1980, visited the main branch of First National Bank to open a new savings account.</td>\n",
              "      <td>{'result': [type: PERSON, start: 0, end: 12, score: 0.85, type: DATE_TIME, start: 22, end: 36, score: 0.85], 'piidetected': True, 'contextstr': 'James Bryant, born on April 15, 1980, visited the main branch of First National Bank to open a new savings account.', 'detectedtext': ['James Bryant', 'April 15, 1980']}</td>\n",
              "      <td>[type: PERSON, start: 0, end: 12, score: 0.85, type: DATE_TIME, start: 22, end: 36, score: 0.85]</td>\n",
              "      <td>[James Bryant, April 15, 1980]</td>\n",
              "      <td>True</td>\n",
              "      <td>James Bryant, born on April 15, 1980, visited the main branch of First National Bank to open a new savings account.</td>\n",
              "    </tr>\n",
              "    <tr>\n",
              "      <th>75</th>\n",
              "      <td>Linda Foster, whose date of birth is February 28, 1975, recently applied for a personal loan at CitiBank.</td>\n",
              "      <td>{'result': [type: PERSON, start: 0, end: 12, score: 0.85, type: DATE_TIME, start: 37, end: 54, score: 0.85], 'piidetected': True, 'contextstr': 'Linda Foster, whose date of birth is February 28, 1975, recently applied for a personal loan at CitiBank.', 'detectedtext': ['Linda Foster', 'February 28, 1975']}</td>\n",
              "      <td>[type: PERSON, start: 0, end: 12, score: 0.85, type: DATE_TIME, start: 37, end: 54, score: 0.85]</td>\n",
              "      <td>[Linda Foster, February 28, 1975]</td>\n",
              "      <td>True</td>\n",
              "      <td>Linda Foster, whose date of birth is February 28, 1975, recently applied for a personal loan at CitiBank.</td>\n",
              "    </tr>\n",
              "    <tr>\n",
              "      <th>76</th>\n",
              "      <td>On June 3, 1985, David Green was born. He currently manages his checking account at Chase Bank.</td>\n",
              "      <td>{'result': [type: DATE_TIME, start: 3, end: 15, score: 0.85, type: PERSON, start: 17, end: 28, score: 0.85], 'piidetected': True, 'contextstr': 'On June 3, 1985, David Green was born. He currently manages his checking account at Chase Bank.', 'detectedtext': ['June 3, 1985', 'David Green']}</td>\n",
              "      <td>[type: DATE_TIME, start: 3, end: 15, score: 0.85, type: PERSON, start: 17, end: 28, score: 0.85]</td>\n",
              "      <td>[June 3, 1985, David Green]</td>\n",
              "      <td>True</td>\n",
              "      <td>On June 3, 1985, David Green was born. He currently manages his checking account at Chase Bank.</td>\n",
              "    </tr>\n",
              "    <tr>\n",
              "      <th>77</th>\n",
              "      <td>Jennifer Watson, who was born on December 12, 1990, transferred funds from her savings account at Wells Fargo.</td>\n",
              "      <td>{'result': [type: PERSON, start: 0, end: 15, score: 0.85, type: DATE_TIME, start: 33, end: 50, score: 0.85], 'piidetected': True, 'contextstr': 'Jennifer Watson, who was born on December 12, 1990, transferred funds from her savings account at Wells Fargo.', 'detectedtext': ['Jennifer Watson', 'December 12, 1990']}</td>\n",
              "      <td>[type: PERSON, start: 0, end: 15, score: 0.85, type: DATE_TIME, start: 33, end: 50, score: 0.85]</td>\n",
              "      <td>[Jennifer Watson, December 12, 1990]</td>\n",
              "      <td>True</td>\n",
              "      <td>Jennifer Watson, who was born on December 12, 1990, transferred funds from her savings account at Wells Fargo.</td>\n",
              "    </tr>\n",
              "    <tr>\n",
              "      <th>78</th>\n",
              "      <td>Jessica Marie Thompson was born on July 18, 1985, in Seattle, Washington. She currently works as a software engineer at TechInnovate Inc. She graduated from the University of Washington with a degree in Computer Science.</td>\n",
              "      <td>{'result': [type: PERSON, start: 0, end: 22, score: 0.85, type: DATE_TIME, start: 35, end: 48, score: 0.85, type: LOCATION, start: 53, end: 60, score: 0.85, type: LOCATION, start: 62, end: 72, score: 0.85], 'piidetected': True, 'contextstr': 'Jessica Marie Thompson was born on July 18, 1985, in Seattle, Washington. She currently works as a software engineer at TechInnovate Inc. She graduated from the University of Washington with a degree in Computer Science.', 'detectedtext': ['Jessica Marie Thompson', 'July 18, 1985', 'Seattle', 'Washington']}</td>\n",
              "      <td>[type: PERSON, start: 0, end: 22, score: 0.85, type: DATE_TIME, start: 35, end: 48, score: 0.85, type: LOCATION, start: 53, end: 60, score: 0.85, type: LOCATION, start: 62, end: 72, score: 0.85]</td>\n",
              "      <td>[Jessica Marie Thompson, July 18, 1985, Seattle, Washington]</td>\n",
              "      <td>True</td>\n",
              "      <td>Jessica Marie Thompson was born on July 18, 1985, in Seattle, Washington. She currently works as a software engineer at TechInnovate Inc. She graduated from the University of Washington with a degree in Computer Science.</td>\n",
              "    </tr>\n",
              "    <tr>\n",
              "      <th>79</th>\n",
              "      <td>Dr. Lisa Thompson, a renowned cardiologist at Riverbend Medical Center, can be reached at (555) 123-4567. Her office is located at 123 Elm Street, Springfield. If you need to book an appointment, please call her office number or email her at lisa.thompson@riverbendmc.com. In case of emergencies, you can directly contact her through her mobile phone number 555-987-6543.</td>\n",
              "      <td>{'result': [type: EMAIL_ADDRESS, start: 242, end: 271, score: 1.0, type: PERSON, start: 4, end: 17, score: 0.85, type: LOCATION, start: 131, end: 145, score: 0.85, type: LOCATION, start: 147, end: 158, score: 0.85, type: PHONE_NUMBER, start: 358, end: 370, score: 0.75, type: URL, start: 242, end: 249, score: 0.5, type: URL, start: 256, end: 271, score: 0.5, type: PHONE_NUMBER, start: 90, end: 104, score: 0.4], 'piidetected': True, 'contextstr': 'Dr. Lisa Thompson, a renowned cardiologist at Riverbend Medical Center, can be reached at (555) 123-4567. Her office is located at 123 Elm Street, Springfield. If you need to book an appointment, please call her office number or email her at lisa.thompson@riverbendmc.com. In case of emergencies, you can directly contact her through her mobile phone number 555-987-6543.', 'detectedtext': ['lisa.thompson@riverbendmc.com', 'Lisa Thompson', '123 Elm Street', 'Springfield', '555-987-6543', 'lisa.th', 'riverbendmc.com', '(555) 123-4567']}</td>\n",
              "      <td>[type: EMAIL_ADDRESS, start: 242, end: 271, score: 1.0, type: PERSON, start: 4, end: 17, score: 0.85, type: LOCATION, start: 131, end: 145, score: 0.85, type: LOCATION, start: 147, end: 158, score: 0.85, type: PHONE_NUMBER, start: 358, end: 370, score: 0.75, type: URL, start: 242, end: 249, score: 0.5, type: URL, start: 256, end: 271, score: 0.5, type: PHONE_NUMBER, start: 90, end: 104, score: 0.4]</td>\n",
              "      <td>[lisa.thompson@riverbendmc.com, Lisa Thompson, 123 Elm Street, Springfield, 555-987-6543, lisa.th, riverbendmc.com, (555) 123-4567]</td>\n",
              "      <td>True</td>\n",
              "      <td>Dr. Lisa Thompson, a renowned cardiologist at Riverbend Medical Center, can be reached at (555) 123-4567. Her office is located at 123 Elm Street, Springfield. If you need to book an appointment, please call her office number or email her at lisa.thompson@riverbendmc.com. In case of emergencies, you can directly contact her through her mobile phone number 555-987-6543.</td>\n",
              "    </tr>\n",
              "    <tr>\n",
              "      <th>80</th>\n",
              "      <td>For any queries regarding your recent lab results, you can contact Dr. Andrew Mitchell at (555) 987-1234, or visit his clinic located at 456 Maple Avenue, Seattle. Alternatively, you can reach him on his personal mobile number 555-654-3210. For more detailed inquiries, you may also email his assistant at am.assistant@seattleclinic.com.</td>\n",
              "      <td>{'result': [type: EMAIL_ADDRESS, start: 306, end: 336, score: 1.0, type: PERSON, start: 71, end: 86, score: 0.85, type: LOCATION, start: 137, end: 153, score: 0.85, type: LOCATION, start: 155, end: 162, score: 0.85, type: PHONE_NUMBER, start: 227, end: 239, score: 0.75, type: URL, start: 306, end: 311, score: 0.5, type: URL, start: 319, end: 336, score: 0.5, type: PHONE_NUMBER, start: 90, end: 104, score: 0.4], 'piidetected': True, 'contextstr': 'For any queries regarding your recent lab results, you can contact Dr. Andrew Mitchell at (555) 987-1234, or visit his clinic located at 456 Maple Avenue, Seattle. Alternatively, you can reach him on his personal mobile number 555-654-3210. For more detailed inquiries, you may also email his assistant at am.assistant@seattleclinic.com.', 'detectedtext': ['am.assistant@seattleclinic.com', 'Andrew Mitchell', '456 Maple Avenue', 'Seattle', '555-654-3210', 'am.as', 'seattleclinic.com', '(555) 987-1234']}</td>\n",
              "      <td>[type: EMAIL_ADDRESS, start: 306, end: 336, score: 1.0, type: PERSON, start: 71, end: 86, score: 0.85, type: LOCATION, start: 137, end: 153, score: 0.85, type: LOCATION, start: 155, end: 162, score: 0.85, type: PHONE_NUMBER, start: 227, end: 239, score: 0.75, type: URL, start: 306, end: 311, score: 0.5, type: URL, start: 319, end: 336, score: 0.5, type: PHONE_NUMBER, start: 90, end: 104, score: 0.4]</td>\n",
              "      <td>[am.assistant@seattleclinic.com, Andrew Mitchell, 456 Maple Avenue, Seattle, 555-654-3210, am.as, seattleclinic.com, (555) 987-1234]</td>\n",
              "      <td>True</td>\n",
              "      <td>For any queries regarding your recent lab results, you can contact Dr. Andrew Mitchell at (555) 987-1234, or visit his clinic located at 456 Maple Avenue, Seattle. Alternatively, you can reach him on his personal mobile number 555-654-3210. For more detailed inquiries, you may also email his assistant at am.assistant@seattleclinic.com.</td>\n",
              "    </tr>\n",
              "    <tr>\n",
              "      <th>81</th>\n",
              "      <td>John received a call from his financial advisor, Mary Thompson, regarding the recent changes in his investment portfolio. Mary can be reached at +1-555-123-4567 for further queries about his assets.</td>\n",
              "      <td>{'result': [type: PERSON, start: 0, end: 4, score: 0.85, type: PERSON, start: 49, end: 62, score: 0.85, type: PERSON, start: 122, end: 126, score: 0.85], 'piidetected': True, 'contextstr': 'John received a call from his financial advisor, Mary Thompson, regarding the recent changes in his investment portfolio. Mary can be reached at +1-555-123-4567 for further queries about his assets.', 'detectedtext': ['John', 'Mary Thompson', 'Mary']}</td>\n",
              "      <td>[type: PERSON, start: 0, end: 4, score: 0.85, type: PERSON, start: 49, end: 62, score: 0.85, type: PERSON, start: 122, end: 126, score: 0.85]</td>\n",
              "      <td>[John, Mary Thompson, Mary]</td>\n",
              "      <td>True</td>\n",
              "      <td>John received a call from his financial advisor, Mary Thompson, regarding the recent changes in his investment portfolio. Mary can be reached at +1-555-123-4567 for further queries about his assets.</td>\n",
              "    </tr>\n",
              "    <tr>\n",
              "      <th>82</th>\n",
              "      <td>Sarah contacted her bank manager, Michael Green, on +1-555-987-6543 to discuss the interest rates on her new savings account.</td>\n",
              "      <td>{'result': [type: PERSON, start: 0, end: 5, score: 0.85, type: PERSON, start: 34, end: 47, score: 0.85], 'piidetected': True, 'contextstr': 'Sarah contacted her bank manager, Michael Green, on +1-555-987-6543 to discuss the interest rates on her new savings account.', 'detectedtext': ['Sarah', 'Michael Green']}</td>\n",
              "      <td>[type: PERSON, start: 0, end: 5, score: 0.85, type: PERSON, start: 34, end: 47, score: 0.85]</td>\n",
              "      <td>[Sarah, Michael Green]</td>\n",
              "      <td>True</td>\n",
              "      <td>Sarah contacted her bank manager, Michael Green, on +1-555-987-6543 to discuss the interest rates on her new savings account.</td>\n",
              "    </tr>\n",
              "    <tr>\n",
              "      <th>83</th>\n",
              "      <td>David's loan officer, Jennifer White, informed him via phone call at +1-555-321-6789 about the approval of his mortgage application.</td>\n",
              "      <td>{'result': [type: PERSON, start: 0, end: 5, score: 0.85, type: PERSON, start: 22, end: 36, score: 0.85], 'piidetected': True, 'contextstr': 'David's loan officer, Jennifer White, informed him via phone call at +1-555-321-6789 about the approval of his mortgage application.', 'detectedtext': ['David', 'Jennifer White']}</td>\n",
              "      <td>[type: PERSON, start: 0, end: 5, score: 0.85, type: PERSON, start: 22, end: 36, score: 0.85]</td>\n",
              "      <td>[David, Jennifer White]</td>\n",
              "      <td>True</td>\n",
              "      <td>David's loan officer, Jennifer White, informed him via phone call at +1-555-321-6789 about the approval of his mortgage application.</td>\n",
              "    </tr>\n",
              "    <tr>\n",
              "      <th>84</th>\n",
              "      <td>On January 12, 2022, John Smith contacted our law firm via his mobile phone number +1-555-123-4567. He requested legal assistance regarding a property dispute. John resides at 123 Maple Street, Springfield, IL 62704.</td>\n",
              "      <td>{'result': [type: DATE_TIME, start: 3, end: 19, score: 0.85, type: PERSON, start: 21, end: 31, score: 0.85, type: PERSON, start: 160, end: 164, score: 0.85, type: LOCATION, start: 176, end: 192, score: 0.85, type: LOCATION, start: 194, end: 205, score: 0.85], 'piidetected': True, 'contextstr': 'On January 12, 2022, John Smith contacted our law firm via his mobile phone number +1-555-123-4567. He requested legal assistance regarding a property dispute. John resides at 123 Maple Street, Springfield, IL 62704.', 'detectedtext': ['January 12, 2022', 'John Smith', 'John', '123 Maple Street', 'Springfield']}</td>\n",
              "      <td>[type: DATE_TIME, start: 3, end: 19, score: 0.85, type: PERSON, start: 21, end: 31, score: 0.85, type: PERSON, start: 160, end: 164, score: 0.85, type: LOCATION, start: 176, end: 192, score: 0.85, type: LOCATION, start: 194, end: 205, score: 0.85]</td>\n",
              "      <td>[January 12, 2022, John Smith, John, 123 Maple Street, Springfield]</td>\n",
              "      <td>True</td>\n",
              "      <td>On January 12, 2022, John Smith contacted our law firm via his mobile phone number +1-555-123-4567. He requested legal assistance regarding a property dispute. John resides at 123 Maple Street, Springfield, IL 62704.</td>\n",
              "    </tr>\n",
              "    <tr>\n",
              "      <th>85</th>\n",
              "      <td>Hello, my name is Sarah Jones and I recently opened a new account with Bank of America. My account number is 1234567890 and if you need to contact me, my mobile phone number is +1-234-567-8901.</td>\n",
              "      <td>{'result': [type: PERSON, start: 18, end: 29, score: 0.85, type: PHONE_NUMBER, start: 109, end: 119, score: 0.75, type: PHONE_NUMBER, start: 177, end: 192, score: 0.75, type: US_BANK_NUMBER, start: 109, end: 119, score: 0.4, type: US_DRIVER_LICENSE, start: 109, end: 119, score: 0.01], 'piidetected': True, 'contextstr': 'Hello, my name is Sarah Jones and I recently opened a new account with Bank of America. My account number is 1234567890 and if you need to contact me, my mobile phone number is +1-234-567-8901.', 'detectedtext': ['Sarah Jones', '1234567890', '+1-234-567-8901', '1234567890', '1234567890']}</td>\n",
              "      <td>[type: PERSON, start: 18, end: 29, score: 0.85, type: PHONE_NUMBER, start: 109, end: 119, score: 0.75, type: PHONE_NUMBER, start: 177, end: 192, score: 0.75, type: US_BANK_NUMBER, start: 109, end: 119, score: 0.4, type: US_DRIVER_LICENSE, start: 109, end: 119, score: 0.01]</td>\n",
              "      <td>[Sarah Jones, 1234567890, +1-234-567-8901, 1234567890, 1234567890]</td>\n",
              "      <td>True</td>\n",
              "      <td>Hello, my name is Sarah Jones and I recently opened a new account with Bank of America. My account number is 1234567890 and if you need to contact me, my mobile phone number is +1-234-567-8901.</td>\n",
              "    </tr>\n",
              "    <tr>\n",
              "      <th>86</th>\n",
              "      <td>Hi, this is John Doe. If you need to reach me, my mobile phone number is 555-123-4567. I live in San Francisco, California, and work at TechCorp Inc.</td>\n",
              "      <td>{'result': [type: PERSON, start: 12, end: 20, score: 0.85, type: LOCATION, start: 97, end: 110, score: 0.85, type: LOCATION, start: 112, end: 122, score: 0.85, type: PHONE_NUMBER, start: 73, end: 85, score: 0.75], 'piidetected': True, 'contextstr': 'Hi, this is John Doe. If you need to reach me, my mobile phone number is 555-123-4567. I live in San Francisco, California, and work at TechCorp Inc.', 'detectedtext': ['John Doe', 'San Francisco', 'California', '555-123-4567']}</td>\n",
              "      <td>[type: PERSON, start: 12, end: 20, score: 0.85, type: LOCATION, start: 97, end: 110, score: 0.85, type: LOCATION, start: 112, end: 122, score: 0.85, type: PHONE_NUMBER, start: 73, end: 85, score: 0.75]</td>\n",
              "      <td>[John Doe, San Francisco, California, 555-123-4567]</td>\n",
              "      <td>True</td>\n",
              "      <td>Hi, this is John Doe. If you need to reach me, my mobile phone number is 555-123-4567. I live in San Francisco, California, and work at TechCorp Inc.</td>\n",
              "    </tr>\n",
              "  </tbody>\n",
              "</table>\n",
              "</div>\n",
              "    <div class=\"colab-df-buttons\">\n",
              "\n",
              "  <div class=\"colab-df-container\">\n",
              "    <button class=\"colab-df-convert\" onclick=\"convertToInteractive('df-c91b3016-335b-49b5-82b2-cb865d158dda')\"\n",
              "            title=\"Convert this dataframe to an interactive table.\"\n",
              "            style=\"display:none;\">\n",
              "\n",
              "  <svg xmlns=\"http://www.w3.org/2000/svg\" height=\"24px\" viewBox=\"0 -960 960 960\">\n",
              "    <path d=\"M120-120v-720h720v720H120Zm60-500h600v-160H180v160Zm220 220h160v-160H400v160Zm0 220h160v-160H400v160ZM180-400h160v-160H180v160Zm440 0h160v-160H620v160ZM180-180h160v-160H180v160Zm440 0h160v-160H620v160Z\"/>\n",
              "  </svg>\n",
              "    </button>\n",
              "\n",
              "  <style>\n",
              "    .colab-df-container {\n",
              "      display:flex;\n",
              "      gap: 12px;\n",
              "    }\n",
              "\n",
              "    .colab-df-convert {\n",
              "      background-color: #E8F0FE;\n",
              "      border: none;\n",
              "      border-radius: 50%;\n",
              "      cursor: pointer;\n",
              "      display: none;\n",
              "      fill: #1967D2;\n",
              "      height: 32px;\n",
              "      padding: 0 0 0 0;\n",
              "      width: 32px;\n",
              "    }\n",
              "\n",
              "    .colab-df-convert:hover {\n",
              "      background-color: #E2EBFA;\n",
              "      box-shadow: 0px 1px 2px rgba(60, 64, 67, 0.3), 0px 1px 3px 1px rgba(60, 64, 67, 0.15);\n",
              "      fill: #174EA6;\n",
              "    }\n",
              "\n",
              "    .colab-df-buttons div {\n",
              "      margin-bottom: 4px;\n",
              "    }\n",
              "\n",
              "    [theme=dark] .colab-df-convert {\n",
              "      background-color: #3B4455;\n",
              "      fill: #D2E3FC;\n",
              "    }\n",
              "\n",
              "    [theme=dark] .colab-df-convert:hover {\n",
              "      background-color: #434B5C;\n",
              "      box-shadow: 0px 1px 3px 1px rgba(0, 0, 0, 0.15);\n",
              "      filter: drop-shadow(0px 1px 2px rgba(0, 0, 0, 0.3));\n",
              "      fill: #FFFFFF;\n",
              "    }\n",
              "  </style>\n",
              "\n",
              "    <script>\n",
              "      const buttonEl =\n",
              "        document.querySelector('#df-c91b3016-335b-49b5-82b2-cb865d158dda button.colab-df-convert');\n",
              "      buttonEl.style.display =\n",
              "        google.colab.kernel.accessAllowed ? 'block' : 'none';\n",
              "\n",
              "      async function convertToInteractive(key) {\n",
              "        const element = document.querySelector('#df-c91b3016-335b-49b5-82b2-cb865d158dda');\n",
              "        const dataTable =\n",
              "          await google.colab.kernel.invokeFunction('convertToInteractive',\n",
              "                                                    [key], {});\n",
              "        if (!dataTable) return;\n",
              "\n",
              "        const docLinkHtml = 'Like what you see? Visit the ' +\n",
              "          '<a target=\"_blank\" href=https://colab.research.google.com/notebooks/data_table.ipynb>data table notebook</a>'\n",
              "          + ' to learn more about interactive tables.';\n",
              "        element.innerHTML = '';\n",
              "        dataTable['output_type'] = 'display_data';\n",
              "        await google.colab.output.renderOutput(dataTable, element);\n",
              "        const docLink = document.createElement('div');\n",
              "        docLink.innerHTML = docLinkHtml;\n",
              "        element.appendChild(docLink);\n",
              "      }\n",
              "    </script>\n",
              "  </div>\n",
              "\n",
              "\n",
              "<div id=\"df-f98636a4-247c-413d-96a4-6553ea8898df\">\n",
              "  <button class=\"colab-df-quickchart\" onclick=\"quickchart('df-f98636a4-247c-413d-96a4-6553ea8898df')\"\n",
              "            title=\"Suggest charts\"\n",
              "            style=\"display:none;\">\n",
              "\n",
              "<svg xmlns=\"http://www.w3.org/2000/svg\" height=\"24px\"viewBox=\"0 0 24 24\"\n",
              "     width=\"24px\">\n",
              "    <g>\n",
              "        <path d=\"M19 3H5c-1.1 0-2 .9-2 2v14c0 1.1.9 2 2 2h14c1.1 0 2-.9 2-2V5c0-1.1-.9-2-2-2zM9 17H7v-7h2v7zm4 0h-2V7h2v10zm4 0h-2v-4h2v4z\"/>\n",
              "    </g>\n",
              "</svg>\n",
              "  </button>\n",
              "\n",
              "<style>\n",
              "  .colab-df-quickchart {\n",
              "      --bg-color: #E8F0FE;\n",
              "      --fill-color: #1967D2;\n",
              "      --hover-bg-color: #E2EBFA;\n",
              "      --hover-fill-color: #174EA6;\n",
              "      --disabled-fill-color: #AAA;\n",
              "      --disabled-bg-color: #DDD;\n",
              "  }\n",
              "\n",
              "  [theme=dark] .colab-df-quickchart {\n",
              "      --bg-color: #3B4455;\n",
              "      --fill-color: #D2E3FC;\n",
              "      --hover-bg-color: #434B5C;\n",
              "      --hover-fill-color: #FFFFFF;\n",
              "      --disabled-bg-color: #3B4455;\n",
              "      --disabled-fill-color: #666;\n",
              "  }\n",
              "\n",
              "  .colab-df-quickchart {\n",
              "    background-color: var(--bg-color);\n",
              "    border: none;\n",
              "    border-radius: 50%;\n",
              "    cursor: pointer;\n",
              "    display: none;\n",
              "    fill: var(--fill-color);\n",
              "    height: 32px;\n",
              "    padding: 0;\n",
              "    width: 32px;\n",
              "  }\n",
              "\n",
              "  .colab-df-quickchart:hover {\n",
              "    background-color: var(--hover-bg-color);\n",
              "    box-shadow: 0 1px 2px rgba(60, 64, 67, 0.3), 0 1px 3px 1px rgba(60, 64, 67, 0.15);\n",
              "    fill: var(--button-hover-fill-color);\n",
              "  }\n",
              "\n",
              "  .colab-df-quickchart-complete:disabled,\n",
              "  .colab-df-quickchart-complete:disabled:hover {\n",
              "    background-color: var(--disabled-bg-color);\n",
              "    fill: var(--disabled-fill-color);\n",
              "    box-shadow: none;\n",
              "  }\n",
              "\n",
              "  .colab-df-spinner {\n",
              "    border: 2px solid var(--fill-color);\n",
              "    border-color: transparent;\n",
              "    border-bottom-color: var(--fill-color);\n",
              "    animation:\n",
              "      spin 1s steps(1) infinite;\n",
              "  }\n",
              "\n",
              "  @keyframes spin {\n",
              "    0% {\n",
              "      border-color: transparent;\n",
              "      border-bottom-color: var(--fill-color);\n",
              "      border-left-color: var(--fill-color);\n",
              "    }\n",
              "    20% {\n",
              "      border-color: transparent;\n",
              "      border-left-color: var(--fill-color);\n",
              "      border-top-color: var(--fill-color);\n",
              "    }\n",
              "    30% {\n",
              "      border-color: transparent;\n",
              "      border-left-color: var(--fill-color);\n",
              "      border-top-color: var(--fill-color);\n",
              "      border-right-color: var(--fill-color);\n",
              "    }\n",
              "    40% {\n",
              "      border-color: transparent;\n",
              "      border-right-color: var(--fill-color);\n",
              "      border-top-color: var(--fill-color);\n",
              "    }\n",
              "    60% {\n",
              "      border-color: transparent;\n",
              "      border-right-color: var(--fill-color);\n",
              "    }\n",
              "    80% {\n",
              "      border-color: transparent;\n",
              "      border-right-color: var(--fill-color);\n",
              "      border-bottom-color: var(--fill-color);\n",
              "    }\n",
              "    90% {\n",
              "      border-color: transparent;\n",
              "      border-bottom-color: var(--fill-color);\n",
              "    }\n",
              "  }\n",
              "</style>\n",
              "\n",
              "  <script>\n",
              "    async function quickchart(key) {\n",
              "      const quickchartButtonEl =\n",
              "        document.querySelector('#' + key + ' button');\n",
              "      quickchartButtonEl.disabled = true;  // To prevent multiple clicks.\n",
              "      quickchartButtonEl.classList.add('colab-df-spinner');\n",
              "      try {\n",
              "        const charts = await google.colab.kernel.invokeFunction(\n",
              "            'suggestCharts', [key], {});\n",
              "      } catch (error) {\n",
              "        console.error('Error during call to suggestCharts:', error);\n",
              "      }\n",
              "      quickchartButtonEl.classList.remove('colab-df-spinner');\n",
              "      quickchartButtonEl.classList.add('colab-df-quickchart-complete');\n",
              "    }\n",
              "    (() => {\n",
              "      let quickchartButtonEl =\n",
              "        document.querySelector('#df-f98636a4-247c-413d-96a4-6553ea8898df button');\n",
              "      quickchartButtonEl.style.display =\n",
              "        google.colab.kernel.accessAllowed ? 'block' : 'none';\n",
              "    })();\n",
              "  </script>\n",
              "</div>\n",
              "\n",
              "    </div>\n",
              "  </div>\n"
            ],
            "application/vnd.google.colaboratory.intrinsic+json": {
              "type": "dataframe",
              "summary": "{\n  \"name\": \"result[56:87]\",\n  \"rows\": 31,\n  \"fields\": [\n    {\n      \"column\": \"text\",\n      \"properties\": {\n        \"dtype\": \"string\",\n        \"num_unique_values\": 31,\n        \"samples\": [\n          \"David's loan officer, Jennifer White, informed him via phone call at +1-555-321-6789 about the approval of his mortgage application.\",\n          \"Jessica Marie Thompson, born on April 15, 1980, is a plaintiff in the lawsuit filed on January 3, 2023, against Smith & Associates Law Firm. She claims the firm neglected her personal injury case.\",\n          \"Dr. Lisa Thompson, a renowned cardiologist at Riverbend Medical Center, can be reached at (555) 123-4567. Her office is located at 123 Elm Street, Springfield. If you need to book an appointment, please call her office number or email her at lisa.thompson@riverbendmc.com. In case of emergencies, you can directly contact her through her mobile phone number 555-987-6543.\"\n        ],\n        \"semantic_type\": \"\",\n        \"description\": \"\"\n      }\n    },\n    {\n      \"column\": \"eval\",\n      \"properties\": {\n        \"dtype\": \"object\",\n        \"semantic_type\": \"\",\n        \"description\": \"\"\n      }\n    },\n    {\n      \"column\": \"result\",\n      \"properties\": {\n        \"dtype\": \"object\",\n        \"semantic_type\": \"\",\n        \"description\": \"\"\n      }\n    },\n    {\n      \"column\": \"detectedtext\",\n      \"properties\": {\n        \"dtype\": \"object\",\n        \"semantic_type\": \"\",\n        \"description\": \"\"\n      }\n    },\n    {\n      \"column\": \"piidetected\",\n      \"properties\": {\n        \"dtype\": \"boolean\",\n        \"num_unique_values\": 1,\n        \"samples\": [\n          true\n        ],\n        \"semantic_type\": \"\",\n        \"description\": \"\"\n      }\n    },\n    {\n      \"column\": \"contextstr\",\n      \"properties\": {\n        \"dtype\": \"string\",\n        \"num_unique_values\": 31,\n        \"samples\": [\n          \"David's loan officer, Jennifer White, informed him via phone call at +1-555-321-6789 about the approval of his mortgage application.\"\n        ],\n        \"semantic_type\": \"\",\n        \"description\": \"\"\n      }\n    }\n  ]\n}"
            }
          },
          "metadata": {},
          "execution_count": 70
        }
      ]
    },
    {
      "cell_type": "code",
      "source": [
        "pd.set_option('display.max_colwidth', None)\n",
        "result"
      ],
      "metadata": {
        "colab": {
          "base_uri": "https://localhost:8080/",
          "height": 1000
        },
        "id": "qOXVSq96yDIb",
        "outputId": "a980981e-83bd-4aaf-e961-a78d1e6ab80a"
      },
      "execution_count": 61,
      "outputs": [
        {
          "output_type": "execute_result",
          "data": {
            "text/plain": [
              "                                                                                                                                                                                                                                                                                                                                                                                                                                                                                            text  \\\n",
              "0                                                                                                                                                                                                                                                          Dr. Emily Carter, a pediatrician at Mercy Hospital, diagnosed 7-year-old Olivia Johnson with asthma last week. Olivia's mother, Sarah Johnson, mentioned that Olivia had been experiencing frequent wheezing and shortness of breath.   \n",
              "1    John Smith, a senior financial analyst at Global Investments, recently published a report on the economic outlook for 2024. He projects a moderate increase in GDP growth, emphasizing the impact of technological advancements on the market. John's insights were particularly focused on the tech sector, predicting a 10% rise in stocks for companies like Apple and Microsoft. His report was highly regarded by fellow analysts and has prompted a review by the board of directors.   \n",
              "2                                                                                                                                   John Doe, a resident of New York City, filed a lawsuit against Acme Corporation on May 15, 2022. Represented by attorney Sarah Connor from Connor & Associates, he alleges that Acme Corporation breached their contract signed on January 10, 2021. The case is being heard in the Supreme Court of New York County, and Judge Leonard Wright is presiding.   \n",
              "3                                                                                                                                                                                                             John Doe visited the Main Street branch of First National Bank yesterday. He spoke with Maria Johnson, the senior account manager, about opening a new savings account. His current account number is 1234567890, and he was interested in transferring $5,000 to his new account.   \n",
              "4                                                                                                                                                                                                                                                                                                  Emily Carter received a call from her bank, Greenfield Savings, about suspicious activity on her credit card ending in 6789. The call came at 2 PM while she was at her office on Elm Street.   \n",
              "..                                                                                                                                                                                                                                                                                                                                                                                                                                                                                           ...   \n",
              "447                                                                                                                                                                                                                                      Michael Johnson visited GlobalTrust Bank to open a new savings account. During the process, he provided his passport, which has an expiration date of 2024-09-12. He was assisted by Ms. Sarah Lee, one of the bank's customer service representatives.   \n",
              "448                                                                                                                                                                                                                                                                                                                                          Johnathan Marcus received his renewed passport on March 3, 2023, which is set to expire on March 3, 2033. He plans to travel to Europe next summer.   \n",
              "449                                                                                                                                                                                                                                                                                                                                                     Maria Lopez's current passport, issued on May 15, 2018, will expire on May 15, 2028. She is considering a trip to Australia in the fall.   \n",
              "450                                                                                                                                                                                                                                                                                                                                     Albert Kim's passport, which he got on December 10, 2020, will expire on December 10, 2030. He is planning to visit Japan for the cherry blossom season.   \n",
              "451                                                                                                                                                                                                                                                                                                                                       Samantha O'Brien is worried that her passport, which expires on January 25, 2025, might not be valid long enough for her upcoming trip to New Zealand.   \n",
              "\n",
              "                                                                                                                                                                                                                                                                                                                                                                                                                                                                                                                                                                                                                                                                                                                                                                                                                                           eval  \\\n",
              "0                                                                            {'result': [type: PERSON, start: 4, end: 16, score: 0.85, type: DATE_TIME, start: 62, end: 72, score: 0.85, type: PERSON, start: 73, end: 87, score: 0.85, type: DATE_TIME, start: 100, end: 109, score: 0.85, type: PERSON, start: 111, end: 117, score: 0.85, type: PERSON, start: 128, end: 141, score: 0.85, type: PERSON, start: 158, end: 164, score: 0.85], 'piidetected': True, 'contextstr': 'Dr. Emily Carter, a pediatrician at Mercy Hospital, diagnosed 7-year-old Olivia Johnson with asthma last week. Olivia's mother, Sarah Johnson, mentioned that Olivia had been experiencing frequent wheezing and shortness of breath.', 'detectedtext': ['Emily Carter', '7-year-old', 'Olivia Johnson', 'last week', 'Olivia', 'Sarah Johnson', 'Olivia']}   \n",
              "1                                                                                             {'result': [type: PERSON, start: 0, end: 10, score: 0.85, type: DATE_TIME, start: 118, end: 122, score: 0.85, type: PERSON, start: 239, end: 243, score: 0.85], 'piidetected': True, 'contextstr': 'John Smith, a senior financial analyst at Global Investments, recently published a report on the economic outlook for 2024. He projects a moderate increase in GDP growth, emphasizing the impact of technological advancements on the market. John's insights were particularly focused on the tech sector, predicting a 10% rise in stocks for companies like Apple and Microsoft. His report was highly regarded by fellow analysts and has prompted a review by the board of directors.', 'detectedtext': ['John Smith', '2024', 'John']}   \n",
              "2    {'result': [type: PERSON, start: 0, end: 8, score: 0.85, type: LOCATION, start: 24, end: 37, score: 0.85, type: DATE_TIME, start: 83, end: 95, score: 0.85, type: PERSON, start: 121, end: 133, score: 0.85, type: DATE_TIME, start: 227, end: 243, score: 0.85, type: PERSON, start: 320, end: 334, score: 0.85], 'piidetected': True, 'contextstr': 'John Doe, a resident of New York City, filed a lawsuit against Acme Corporation on May 15, 2022. Represented by attorney Sarah Connor from Connor & Associates, he alleges that Acme Corporation breached their contract signed on January 10, 2021. The case is being heard in the Supreme Court of New York County, and Judge Leonard Wright is presiding.', 'detectedtext': ['John Doe', 'New York City', 'May 15, 2022', 'Sarah Connor', 'January 10, 2021', 'Leonard Wright']}   \n",
              "3         {'result': [type: PERSON, start: 0, end: 8, score: 0.85, type: LOCATION, start: 21, end: 32, score: 0.85, type: DATE_TIME, start: 63, end: 72, score: 0.85, type: PERSON, start: 88, end: 101, score: 0.85, type: PHONE_NUMBER, start: 198, end: 208, score: 0.75, type: US_BANK_NUMBER, start: 198, end: 208, score: 0.4, type: US_DRIVER_LICENSE, start: 198, end: 208, score: 0.01], 'piidetected': True, 'contextstr': 'John Doe visited the Main Street branch of First National Bank yesterday. He spoke with Maria Johnson, the senior account manager, about opening a new savings account. His current account number is 1234567890, and he was interested in transferring $5,000 to his new account.', 'detectedtext': ['John Doe', 'Main Street', 'yesterday', 'Maria Johnson', '1234567890', '1234567890', '1234567890']}   \n",
              "4                                                                                                                                                                                                                                                                                                                                                                                 {'result': [type: PERSON, start: 0, end: 12, score: 0.85, type: DATE_TIME, start: 142, end: 146, score: 0.85, type: LOCATION, start: 178, end: 188, score: 0.85], 'piidetected': True, 'contextstr': 'Emily Carter received a call from her bank, Greenfield Savings, about suspicious activity on her credit card ending in 6789. The call came at 2 PM while she was at her office on Elm Street.', 'detectedtext': ['Emily Carter', '2 PM', 'Elm Street']}   \n",
              "..                                                                                                                                                                                                                                                                                                                                                                                                                                                                                                                                                                                                                                                                                                                                                                                                                                          ...   \n",
              "447                                                                                                                                                                                                                                                                                                               {'result': [type: DATE_TIME, start: 150, end: 160, score: 0.95, type: PERSON, start: 0, end: 15, score: 0.85, type: PERSON, start: 185, end: 194, score: 0.85], 'piidetected': True, 'contextstr': 'Michael Johnson visited GlobalTrust Bank to open a new savings account. During the process, he provided his passport, which has an expiration date of 2024-09-12. He was assisted by Ms. Sarah Lee, one of the bank's customer service representatives.', 'detectedtext': ['2024-09-12', 'Michael Johnson', 'Sarah Lee']}   \n",
              "448                                                                                                                                                                                                                                                                                  {'result': [type: PERSON, start: 0, end: 16, score: 0.85, type: DATE_TIME, start: 50, end: 63, score: 0.85, type: DATE_TIME, start: 91, end: 98, score: 0.85, type: LOCATION, start: 128, end: 134, score: 0.85, type: DATE_TIME, start: 135, end: 146, score: 0.85], 'piidetected': True, 'contextstr': 'Johnathan Marcus received his renewed passport on March 3, 2023, which is set to expire on March 3, 2033. He plans to travel to Europe next summer.', 'detectedtext': ['Johnathan Marcus', 'March 3, 2023', 'March 3', 'Europe', 'next summer']}   \n",
              "449                                                                                                                                                                                                                                       {'result': [type: PERSON, start: 0, end: 13, score: 0.85, type: DATE_TIME, start: 42, end: 54, score: 0.85, type: DATE_TIME, start: 71, end: 78, score: 0.85, type: DATE_TIME, start: 79, end: 83, score: 0.85, type: LOCATION, start: 114, end: 123, score: 0.85, type: DATE_TIME, start: 127, end: 135, score: 0.85], 'piidetected': True, 'contextstr': 'Maria Lopez's current passport, issued on May 15, 2018, will expire on May 15, 2028. She is considering a trip to Australia in the fall.', 'detectedtext': ['Maria Lopez's', 'May 15, 2018', 'May 15,', '2028', 'Australia', 'the fall']}   \n",
              "450                                                                                                                                                                                                                                                                         {'result': [type: PERSON, start: 0, end: 12, score: 0.85, type: DATE_TIME, start: 39, end: 56, score: 0.85, type: DATE_TIME, start: 73, end: 90, score: 0.85, type: LOCATION, start: 116, end: 121, score: 0.85, type: DATE_TIME, start: 145, end: 151, score: 0.85], 'piidetected': True, 'contextstr': 'Albert Kim's passport, which he got on December 10, 2020, will expire on December 10, 2030. He is planning to visit Japan for the cherry blossom season.', 'detectedtext': ['Albert Kim's', 'December 10, 2020', 'December 10, 2030', 'Japan', 'season']}   \n",
              "451                                                                                                                                                                                                                                                                                                                                                                                                       {'result': [type: PERSON, start: 0, end: 16, score: 0.85, type: DATE_TIME, start: 64, end: 80, score: 0.85, type: LOCATION, start: 138, end: 149, score: 0.85], 'piidetected': True, 'contextstr': 'Samantha O'Brien is worried that her passport, which expires on January 25, 2025, might not be valid long enough for her upcoming trip to New Zealand.', 'detectedtext': ['Samantha O'Brien', 'January 25, 2025', 'New Zealand']}   \n",
              "\n",
              "                                                                                                                                                                                                                                                                                                                                                                          result  \\\n",
              "0                         [type: PERSON, start: 4, end: 16, score: 0.85, type: DATE_TIME, start: 62, end: 72, score: 0.85, type: PERSON, start: 73, end: 87, score: 0.85, type: DATE_TIME, start: 100, end: 109, score: 0.85, type: PERSON, start: 111, end: 117, score: 0.85, type: PERSON, start: 128, end: 141, score: 0.85, type: PERSON, start: 158, end: 164, score: 0.85]   \n",
              "1                                                                                                                                                                                                                            [type: PERSON, start: 0, end: 10, score: 0.85, type: DATE_TIME, start: 118, end: 122, score: 0.85, type: PERSON, start: 239, end: 243, score: 0.85]   \n",
              "2                                                                         [type: PERSON, start: 0, end: 8, score: 0.85, type: LOCATION, start: 24, end: 37, score: 0.85, type: DATE_TIME, start: 83, end: 95, score: 0.85, type: PERSON, start: 121, end: 133, score: 0.85, type: DATE_TIME, start: 227, end: 243, score: 0.85, type: PERSON, start: 320, end: 334, score: 0.85]   \n",
              "3    [type: PERSON, start: 0, end: 8, score: 0.85, type: LOCATION, start: 21, end: 32, score: 0.85, type: DATE_TIME, start: 63, end: 72, score: 0.85, type: PERSON, start: 88, end: 101, score: 0.85, type: PHONE_NUMBER, start: 198, end: 208, score: 0.75, type: US_BANK_NUMBER, start: 198, end: 208, score: 0.4, type: US_DRIVER_LICENSE, start: 198, end: 208, score: 0.01]   \n",
              "4                                                                                                                                                                                                                          [type: PERSON, start: 0, end: 12, score: 0.85, type: DATE_TIME, start: 142, end: 146, score: 0.85, type: LOCATION, start: 178, end: 188, score: 0.85]   \n",
              "..                                                                                                                                                                                                                                                                                                                                                                           ...   \n",
              "447                                                                                                                                                                                                                          [type: DATE_TIME, start: 150, end: 160, score: 0.95, type: PERSON, start: 0, end: 15, score: 0.85, type: PERSON, start: 185, end: 194, score: 0.85]   \n",
              "448                                                                                                                    [type: PERSON, start: 0, end: 16, score: 0.85, type: DATE_TIME, start: 50, end: 63, score: 0.85, type: DATE_TIME, start: 91, end: 98, score: 0.85, type: LOCATION, start: 128, end: 134, score: 0.85, type: DATE_TIME, start: 135, end: 146, score: 0.85]   \n",
              "449                                                                  [type: PERSON, start: 0, end: 13, score: 0.85, type: DATE_TIME, start: 42, end: 54, score: 0.85, type: DATE_TIME, start: 71, end: 78, score: 0.85, type: DATE_TIME, start: 79, end: 83, score: 0.85, type: LOCATION, start: 114, end: 123, score: 0.85, type: DATE_TIME, start: 127, end: 135, score: 0.85]   \n",
              "450                                                                                                                    [type: PERSON, start: 0, end: 12, score: 0.85, type: DATE_TIME, start: 39, end: 56, score: 0.85, type: DATE_TIME, start: 73, end: 90, score: 0.85, type: LOCATION, start: 116, end: 121, score: 0.85, type: DATE_TIME, start: 145, end: 151, score: 0.85]   \n",
              "451                                                                                                                                                                                                                          [type: PERSON, start: 0, end: 16, score: 0.85, type: DATE_TIME, start: 64, end: 80, score: 0.85, type: LOCATION, start: 138, end: 149, score: 0.85]   \n",
              "\n",
              "                                                                                detectedtext  \\\n",
              "0       [Emily Carter, 7-year-old, Olivia Johnson, last week, Olivia, Sarah Johnson, Olivia]   \n",
              "1                                                                   [John Smith, 2024, John]   \n",
              "2    [John Doe, New York City, May 15, 2022, Sarah Connor, January 10, 2021, Leonard Wright]   \n",
              "3      [John Doe, Main Street, yesterday, Maria Johnson, 1234567890, 1234567890, 1234567890]   \n",
              "4                                                           [Emily Carter, 2 PM, Elm Street]   \n",
              "..                                                                                       ...   \n",
              "447                                                 [2024-09-12, Michael Johnson, Sarah Lee]   \n",
              "448                          [Johnathan Marcus, March 3, 2023, March 3, Europe, next summer]   \n",
              "449                        [Maria Lopez's, May 15, 2018, May 15,, 2028, Australia, the fall]   \n",
              "450                      [Albert Kim's, December 10, 2020, December 10, 2030, Japan, season]   \n",
              "451                                        [Samantha O'Brien, January 25, 2025, New Zealand]   \n",
              "\n",
              "     piidetected  \\\n",
              "0           True   \n",
              "1           True   \n",
              "2           True   \n",
              "3           True   \n",
              "4           True   \n",
              "..           ...   \n",
              "447         True   \n",
              "448         True   \n",
              "449         True   \n",
              "450         True   \n",
              "451         True   \n",
              "\n",
              "                                                                                                                                                                                                                                                                                                                                                                                                                                                                                      contextstr  \n",
              "0                                                                                                                                                                                                                                                          Dr. Emily Carter, a pediatrician at Mercy Hospital, diagnosed 7-year-old Olivia Johnson with asthma last week. Olivia's mother, Sarah Johnson, mentioned that Olivia had been experiencing frequent wheezing and shortness of breath.  \n",
              "1    John Smith, a senior financial analyst at Global Investments, recently published a report on the economic outlook for 2024. He projects a moderate increase in GDP growth, emphasizing the impact of technological advancements on the market. John's insights were particularly focused on the tech sector, predicting a 10% rise in stocks for companies like Apple and Microsoft. His report was highly regarded by fellow analysts and has prompted a review by the board of directors.  \n",
              "2                                                                                                                                   John Doe, a resident of New York City, filed a lawsuit against Acme Corporation on May 15, 2022. Represented by attorney Sarah Connor from Connor & Associates, he alleges that Acme Corporation breached their contract signed on January 10, 2021. The case is being heard in the Supreme Court of New York County, and Judge Leonard Wright is presiding.  \n",
              "3                                                                                                                                                                                                             John Doe visited the Main Street branch of First National Bank yesterday. He spoke with Maria Johnson, the senior account manager, about opening a new savings account. His current account number is 1234567890, and he was interested in transferring $5,000 to his new account.  \n",
              "4                                                                                                                                                                                                                                                                                                  Emily Carter received a call from her bank, Greenfield Savings, about suspicious activity on her credit card ending in 6789. The call came at 2 PM while she was at her office on Elm Street.  \n",
              "..                                                                                                                                                                                                                                                                                                                                                                                                                                                                                           ...  \n",
              "447                                                                                                                                                                                                                                      Michael Johnson visited GlobalTrust Bank to open a new savings account. During the process, he provided his passport, which has an expiration date of 2024-09-12. He was assisted by Ms. Sarah Lee, one of the bank's customer service representatives.  \n",
              "448                                                                                                                                                                                                                                                                                                                                          Johnathan Marcus received his renewed passport on March 3, 2023, which is set to expire on March 3, 2033. He plans to travel to Europe next summer.  \n",
              "449                                                                                                                                                                                                                                                                                                                                                     Maria Lopez's current passport, issued on May 15, 2018, will expire on May 15, 2028. She is considering a trip to Australia in the fall.  \n",
              "450                                                                                                                                                                                                                                                                                                                                     Albert Kim's passport, which he got on December 10, 2020, will expire on December 10, 2030. He is planning to visit Japan for the cherry blossom season.  \n",
              "451                                                                                                                                                                                                                                                                                                                                       Samantha O'Brien is worried that her passport, which expires on January 25, 2025, might not be valid long enough for her upcoming trip to New Zealand.  \n",
              "\n",
              "[452 rows x 6 columns]"
            ],
            "text/html": [
              "\n",
              "  <div id=\"df-66a939ec-9d84-4853-ae4c-51fe08cb1757\" class=\"colab-df-container\">\n",
              "    <div>\n",
              "<style scoped>\n",
              "    .dataframe tbody tr th:only-of-type {\n",
              "        vertical-align: middle;\n",
              "    }\n",
              "\n",
              "    .dataframe tbody tr th {\n",
              "        vertical-align: top;\n",
              "    }\n",
              "\n",
              "    .dataframe thead th {\n",
              "        text-align: right;\n",
              "    }\n",
              "</style>\n",
              "<table border=\"1\" class=\"dataframe\">\n",
              "  <thead>\n",
              "    <tr style=\"text-align: right;\">\n",
              "      <th></th>\n",
              "      <th>text</th>\n",
              "      <th>eval</th>\n",
              "      <th>result</th>\n",
              "      <th>detectedtext</th>\n",
              "      <th>piidetected</th>\n",
              "      <th>contextstr</th>\n",
              "    </tr>\n",
              "  </thead>\n",
              "  <tbody>\n",
              "    <tr>\n",
              "      <th>0</th>\n",
              "      <td>Dr. Emily Carter, a pediatrician at Mercy Hospital, diagnosed 7-year-old Olivia Johnson with asthma last week. Olivia's mother, Sarah Johnson, mentioned that Olivia had been experiencing frequent wheezing and shortness of breath.</td>\n",
              "      <td>{'result': [type: PERSON, start: 4, end: 16, score: 0.85, type: DATE_TIME, start: 62, end: 72, score: 0.85, type: PERSON, start: 73, end: 87, score: 0.85, type: DATE_TIME, start: 100, end: 109, score: 0.85, type: PERSON, start: 111, end: 117, score: 0.85, type: PERSON, start: 128, end: 141, score: 0.85, type: PERSON, start: 158, end: 164, score: 0.85], 'piidetected': True, 'contextstr': 'Dr. Emily Carter, a pediatrician at Mercy Hospital, diagnosed 7-year-old Olivia Johnson with asthma last week. Olivia's mother, Sarah Johnson, mentioned that Olivia had been experiencing frequent wheezing and shortness of breath.', 'detectedtext': ['Emily Carter', '7-year-old', 'Olivia Johnson', 'last week', 'Olivia', 'Sarah Johnson', 'Olivia']}</td>\n",
              "      <td>[type: PERSON, start: 4, end: 16, score: 0.85, type: DATE_TIME, start: 62, end: 72, score: 0.85, type: PERSON, start: 73, end: 87, score: 0.85, type: DATE_TIME, start: 100, end: 109, score: 0.85, type: PERSON, start: 111, end: 117, score: 0.85, type: PERSON, start: 128, end: 141, score: 0.85, type: PERSON, start: 158, end: 164, score: 0.85]</td>\n",
              "      <td>[Emily Carter, 7-year-old, Olivia Johnson, last week, Olivia, Sarah Johnson, Olivia]</td>\n",
              "      <td>True</td>\n",
              "      <td>Dr. Emily Carter, a pediatrician at Mercy Hospital, diagnosed 7-year-old Olivia Johnson with asthma last week. Olivia's mother, Sarah Johnson, mentioned that Olivia had been experiencing frequent wheezing and shortness of breath.</td>\n",
              "    </tr>\n",
              "    <tr>\n",
              "      <th>1</th>\n",
              "      <td>John Smith, a senior financial analyst at Global Investments, recently published a report on the economic outlook for 2024. He projects a moderate increase in GDP growth, emphasizing the impact of technological advancements on the market. John's insights were particularly focused on the tech sector, predicting a 10% rise in stocks for companies like Apple and Microsoft. His report was highly regarded by fellow analysts and has prompted a review by the board of directors.</td>\n",
              "      <td>{'result': [type: PERSON, start: 0, end: 10, score: 0.85, type: DATE_TIME, start: 118, end: 122, score: 0.85, type: PERSON, start: 239, end: 243, score: 0.85], 'piidetected': True, 'contextstr': 'John Smith, a senior financial analyst at Global Investments, recently published a report on the economic outlook for 2024. He projects a moderate increase in GDP growth, emphasizing the impact of technological advancements on the market. John's insights were particularly focused on the tech sector, predicting a 10% rise in stocks for companies like Apple and Microsoft. His report was highly regarded by fellow analysts and has prompted a review by the board of directors.', 'detectedtext': ['John Smith', '2024', 'John']}</td>\n",
              "      <td>[type: PERSON, start: 0, end: 10, score: 0.85, type: DATE_TIME, start: 118, end: 122, score: 0.85, type: PERSON, start: 239, end: 243, score: 0.85]</td>\n",
              "      <td>[John Smith, 2024, John]</td>\n",
              "      <td>True</td>\n",
              "      <td>John Smith, a senior financial analyst at Global Investments, recently published a report on the economic outlook for 2024. He projects a moderate increase in GDP growth, emphasizing the impact of technological advancements on the market. John's insights were particularly focused on the tech sector, predicting a 10% rise in stocks for companies like Apple and Microsoft. His report was highly regarded by fellow analysts and has prompted a review by the board of directors.</td>\n",
              "    </tr>\n",
              "    <tr>\n",
              "      <th>2</th>\n",
              "      <td>John Doe, a resident of New York City, filed a lawsuit against Acme Corporation on May 15, 2022. Represented by attorney Sarah Connor from Connor &amp; Associates, he alleges that Acme Corporation breached their contract signed on January 10, 2021. The case is being heard in the Supreme Court of New York County, and Judge Leonard Wright is presiding.</td>\n",
              "      <td>{'result': [type: PERSON, start: 0, end: 8, score: 0.85, type: LOCATION, start: 24, end: 37, score: 0.85, type: DATE_TIME, start: 83, end: 95, score: 0.85, type: PERSON, start: 121, end: 133, score: 0.85, type: DATE_TIME, start: 227, end: 243, score: 0.85, type: PERSON, start: 320, end: 334, score: 0.85], 'piidetected': True, 'contextstr': 'John Doe, a resident of New York City, filed a lawsuit against Acme Corporation on May 15, 2022. Represented by attorney Sarah Connor from Connor &amp; Associates, he alleges that Acme Corporation breached their contract signed on January 10, 2021. The case is being heard in the Supreme Court of New York County, and Judge Leonard Wright is presiding.', 'detectedtext': ['John Doe', 'New York City', 'May 15, 2022', 'Sarah Connor', 'January 10, 2021', 'Leonard Wright']}</td>\n",
              "      <td>[type: PERSON, start: 0, end: 8, score: 0.85, type: LOCATION, start: 24, end: 37, score: 0.85, type: DATE_TIME, start: 83, end: 95, score: 0.85, type: PERSON, start: 121, end: 133, score: 0.85, type: DATE_TIME, start: 227, end: 243, score: 0.85, type: PERSON, start: 320, end: 334, score: 0.85]</td>\n",
              "      <td>[John Doe, New York City, May 15, 2022, Sarah Connor, January 10, 2021, Leonard Wright]</td>\n",
              "      <td>True</td>\n",
              "      <td>John Doe, a resident of New York City, filed a lawsuit against Acme Corporation on May 15, 2022. Represented by attorney Sarah Connor from Connor &amp; Associates, he alleges that Acme Corporation breached their contract signed on January 10, 2021. The case is being heard in the Supreme Court of New York County, and Judge Leonard Wright is presiding.</td>\n",
              "    </tr>\n",
              "    <tr>\n",
              "      <th>3</th>\n",
              "      <td>John Doe visited the Main Street branch of First National Bank yesterday. He spoke with Maria Johnson, the senior account manager, about opening a new savings account. His current account number is 1234567890, and he was interested in transferring $5,000 to his new account.</td>\n",
              "      <td>{'result': [type: PERSON, start: 0, end: 8, score: 0.85, type: LOCATION, start: 21, end: 32, score: 0.85, type: DATE_TIME, start: 63, end: 72, score: 0.85, type: PERSON, start: 88, end: 101, score: 0.85, type: PHONE_NUMBER, start: 198, end: 208, score: 0.75, type: US_BANK_NUMBER, start: 198, end: 208, score: 0.4, type: US_DRIVER_LICENSE, start: 198, end: 208, score: 0.01], 'piidetected': True, 'contextstr': 'John Doe visited the Main Street branch of First National Bank yesterday. He spoke with Maria Johnson, the senior account manager, about opening a new savings account. His current account number is 1234567890, and he was interested in transferring $5,000 to his new account.', 'detectedtext': ['John Doe', 'Main Street', 'yesterday', 'Maria Johnson', '1234567890', '1234567890', '1234567890']}</td>\n",
              "      <td>[type: PERSON, start: 0, end: 8, score: 0.85, type: LOCATION, start: 21, end: 32, score: 0.85, type: DATE_TIME, start: 63, end: 72, score: 0.85, type: PERSON, start: 88, end: 101, score: 0.85, type: PHONE_NUMBER, start: 198, end: 208, score: 0.75, type: US_BANK_NUMBER, start: 198, end: 208, score: 0.4, type: US_DRIVER_LICENSE, start: 198, end: 208, score: 0.01]</td>\n",
              "      <td>[John Doe, Main Street, yesterday, Maria Johnson, 1234567890, 1234567890, 1234567890]</td>\n",
              "      <td>True</td>\n",
              "      <td>John Doe visited the Main Street branch of First National Bank yesterday. He spoke with Maria Johnson, the senior account manager, about opening a new savings account. His current account number is 1234567890, and he was interested in transferring $5,000 to his new account.</td>\n",
              "    </tr>\n",
              "    <tr>\n",
              "      <th>4</th>\n",
              "      <td>Emily Carter received a call from her bank, Greenfield Savings, about suspicious activity on her credit card ending in 6789. The call came at 2 PM while she was at her office on Elm Street.</td>\n",
              "      <td>{'result': [type: PERSON, start: 0, end: 12, score: 0.85, type: DATE_TIME, start: 142, end: 146, score: 0.85, type: LOCATION, start: 178, end: 188, score: 0.85], 'piidetected': True, 'contextstr': 'Emily Carter received a call from her bank, Greenfield Savings, about suspicious activity on her credit card ending in 6789. The call came at 2 PM while she was at her office on Elm Street.', 'detectedtext': ['Emily Carter', '2 PM', 'Elm Street']}</td>\n",
              "      <td>[type: PERSON, start: 0, end: 12, score: 0.85, type: DATE_TIME, start: 142, end: 146, score: 0.85, type: LOCATION, start: 178, end: 188, score: 0.85]</td>\n",
              "      <td>[Emily Carter, 2 PM, Elm Street]</td>\n",
              "      <td>True</td>\n",
              "      <td>Emily Carter received a call from her bank, Greenfield Savings, about suspicious activity on her credit card ending in 6789. The call came at 2 PM while she was at her office on Elm Street.</td>\n",
              "    </tr>\n",
              "    <tr>\n",
              "      <th>...</th>\n",
              "      <td>...</td>\n",
              "      <td>...</td>\n",
              "      <td>...</td>\n",
              "      <td>...</td>\n",
              "      <td>...</td>\n",
              "      <td>...</td>\n",
              "    </tr>\n",
              "    <tr>\n",
              "      <th>447</th>\n",
              "      <td>Michael Johnson visited GlobalTrust Bank to open a new savings account. During the process, he provided his passport, which has an expiration date of 2024-09-12. He was assisted by Ms. Sarah Lee, one of the bank's customer service representatives.</td>\n",
              "      <td>{'result': [type: DATE_TIME, start: 150, end: 160, score: 0.95, type: PERSON, start: 0, end: 15, score: 0.85, type: PERSON, start: 185, end: 194, score: 0.85], 'piidetected': True, 'contextstr': 'Michael Johnson visited GlobalTrust Bank to open a new savings account. During the process, he provided his passport, which has an expiration date of 2024-09-12. He was assisted by Ms. Sarah Lee, one of the bank's customer service representatives.', 'detectedtext': ['2024-09-12', 'Michael Johnson', 'Sarah Lee']}</td>\n",
              "      <td>[type: DATE_TIME, start: 150, end: 160, score: 0.95, type: PERSON, start: 0, end: 15, score: 0.85, type: PERSON, start: 185, end: 194, score: 0.85]</td>\n",
              "      <td>[2024-09-12, Michael Johnson, Sarah Lee]</td>\n",
              "      <td>True</td>\n",
              "      <td>Michael Johnson visited GlobalTrust Bank to open a new savings account. During the process, he provided his passport, which has an expiration date of 2024-09-12. He was assisted by Ms. Sarah Lee, one of the bank's customer service representatives.</td>\n",
              "    </tr>\n",
              "    <tr>\n",
              "      <th>448</th>\n",
              "      <td>Johnathan Marcus received his renewed passport on March 3, 2023, which is set to expire on March 3, 2033. He plans to travel to Europe next summer.</td>\n",
              "      <td>{'result': [type: PERSON, start: 0, end: 16, score: 0.85, type: DATE_TIME, start: 50, end: 63, score: 0.85, type: DATE_TIME, start: 91, end: 98, score: 0.85, type: LOCATION, start: 128, end: 134, score: 0.85, type: DATE_TIME, start: 135, end: 146, score: 0.85], 'piidetected': True, 'contextstr': 'Johnathan Marcus received his renewed passport on March 3, 2023, which is set to expire on March 3, 2033. He plans to travel to Europe next summer.', 'detectedtext': ['Johnathan Marcus', 'March 3, 2023', 'March 3', 'Europe', 'next summer']}</td>\n",
              "      <td>[type: PERSON, start: 0, end: 16, score: 0.85, type: DATE_TIME, start: 50, end: 63, score: 0.85, type: DATE_TIME, start: 91, end: 98, score: 0.85, type: LOCATION, start: 128, end: 134, score: 0.85, type: DATE_TIME, start: 135, end: 146, score: 0.85]</td>\n",
              "      <td>[Johnathan Marcus, March 3, 2023, March 3, Europe, next summer]</td>\n",
              "      <td>True</td>\n",
              "      <td>Johnathan Marcus received his renewed passport on March 3, 2023, which is set to expire on March 3, 2033. He plans to travel to Europe next summer.</td>\n",
              "    </tr>\n",
              "    <tr>\n",
              "      <th>449</th>\n",
              "      <td>Maria Lopez's current passport, issued on May 15, 2018, will expire on May 15, 2028. She is considering a trip to Australia in the fall.</td>\n",
              "      <td>{'result': [type: PERSON, start: 0, end: 13, score: 0.85, type: DATE_TIME, start: 42, end: 54, score: 0.85, type: DATE_TIME, start: 71, end: 78, score: 0.85, type: DATE_TIME, start: 79, end: 83, score: 0.85, type: LOCATION, start: 114, end: 123, score: 0.85, type: DATE_TIME, start: 127, end: 135, score: 0.85], 'piidetected': True, 'contextstr': 'Maria Lopez's current passport, issued on May 15, 2018, will expire on May 15, 2028. She is considering a trip to Australia in the fall.', 'detectedtext': ['Maria Lopez's', 'May 15, 2018', 'May 15,', '2028', 'Australia', 'the fall']}</td>\n",
              "      <td>[type: PERSON, start: 0, end: 13, score: 0.85, type: DATE_TIME, start: 42, end: 54, score: 0.85, type: DATE_TIME, start: 71, end: 78, score: 0.85, type: DATE_TIME, start: 79, end: 83, score: 0.85, type: LOCATION, start: 114, end: 123, score: 0.85, type: DATE_TIME, start: 127, end: 135, score: 0.85]</td>\n",
              "      <td>[Maria Lopez's, May 15, 2018, May 15,, 2028, Australia, the fall]</td>\n",
              "      <td>True</td>\n",
              "      <td>Maria Lopez's current passport, issued on May 15, 2018, will expire on May 15, 2028. She is considering a trip to Australia in the fall.</td>\n",
              "    </tr>\n",
              "    <tr>\n",
              "      <th>450</th>\n",
              "      <td>Albert Kim's passport, which he got on December 10, 2020, will expire on December 10, 2030. He is planning to visit Japan for the cherry blossom season.</td>\n",
              "      <td>{'result': [type: PERSON, start: 0, end: 12, score: 0.85, type: DATE_TIME, start: 39, end: 56, score: 0.85, type: DATE_TIME, start: 73, end: 90, score: 0.85, type: LOCATION, start: 116, end: 121, score: 0.85, type: DATE_TIME, start: 145, end: 151, score: 0.85], 'piidetected': True, 'contextstr': 'Albert Kim's passport, which he got on December 10, 2020, will expire on December 10, 2030. He is planning to visit Japan for the cherry blossom season.', 'detectedtext': ['Albert Kim's', 'December 10, 2020', 'December 10, 2030', 'Japan', 'season']}</td>\n",
              "      <td>[type: PERSON, start: 0, end: 12, score: 0.85, type: DATE_TIME, start: 39, end: 56, score: 0.85, type: DATE_TIME, start: 73, end: 90, score: 0.85, type: LOCATION, start: 116, end: 121, score: 0.85, type: DATE_TIME, start: 145, end: 151, score: 0.85]</td>\n",
              "      <td>[Albert Kim's, December 10, 2020, December 10, 2030, Japan, season]</td>\n",
              "      <td>True</td>\n",
              "      <td>Albert Kim's passport, which he got on December 10, 2020, will expire on December 10, 2030. He is planning to visit Japan for the cherry blossom season.</td>\n",
              "    </tr>\n",
              "    <tr>\n",
              "      <th>451</th>\n",
              "      <td>Samantha O'Brien is worried that her passport, which expires on January 25, 2025, might not be valid long enough for her upcoming trip to New Zealand.</td>\n",
              "      <td>{'result': [type: PERSON, start: 0, end: 16, score: 0.85, type: DATE_TIME, start: 64, end: 80, score: 0.85, type: LOCATION, start: 138, end: 149, score: 0.85], 'piidetected': True, 'contextstr': 'Samantha O'Brien is worried that her passport, which expires on January 25, 2025, might not be valid long enough for her upcoming trip to New Zealand.', 'detectedtext': ['Samantha O'Brien', 'January 25, 2025', 'New Zealand']}</td>\n",
              "      <td>[type: PERSON, start: 0, end: 16, score: 0.85, type: DATE_TIME, start: 64, end: 80, score: 0.85, type: LOCATION, start: 138, end: 149, score: 0.85]</td>\n",
              "      <td>[Samantha O'Brien, January 25, 2025, New Zealand]</td>\n",
              "      <td>True</td>\n",
              "      <td>Samantha O'Brien is worried that her passport, which expires on January 25, 2025, might not be valid long enough for her upcoming trip to New Zealand.</td>\n",
              "    </tr>\n",
              "  </tbody>\n",
              "</table>\n",
              "<p>452 rows × 6 columns</p>\n",
              "</div>\n",
              "    <div class=\"colab-df-buttons\">\n",
              "\n",
              "  <div class=\"colab-df-container\">\n",
              "    <button class=\"colab-df-convert\" onclick=\"convertToInteractive('df-66a939ec-9d84-4853-ae4c-51fe08cb1757')\"\n",
              "            title=\"Convert this dataframe to an interactive table.\"\n",
              "            style=\"display:none;\">\n",
              "\n",
              "  <svg xmlns=\"http://www.w3.org/2000/svg\" height=\"24px\" viewBox=\"0 -960 960 960\">\n",
              "    <path d=\"M120-120v-720h720v720H120Zm60-500h600v-160H180v160Zm220 220h160v-160H400v160Zm0 220h160v-160H400v160ZM180-400h160v-160H180v160Zm440 0h160v-160H620v160ZM180-180h160v-160H180v160Zm440 0h160v-160H620v160Z\"/>\n",
              "  </svg>\n",
              "    </button>\n",
              "\n",
              "  <style>\n",
              "    .colab-df-container {\n",
              "      display:flex;\n",
              "      gap: 12px;\n",
              "    }\n",
              "\n",
              "    .colab-df-convert {\n",
              "      background-color: #E8F0FE;\n",
              "      border: none;\n",
              "      border-radius: 50%;\n",
              "      cursor: pointer;\n",
              "      display: none;\n",
              "      fill: #1967D2;\n",
              "      height: 32px;\n",
              "      padding: 0 0 0 0;\n",
              "      width: 32px;\n",
              "    }\n",
              "\n",
              "    .colab-df-convert:hover {\n",
              "      background-color: #E2EBFA;\n",
              "      box-shadow: 0px 1px 2px rgba(60, 64, 67, 0.3), 0px 1px 3px 1px rgba(60, 64, 67, 0.15);\n",
              "      fill: #174EA6;\n",
              "    }\n",
              "\n",
              "    .colab-df-buttons div {\n",
              "      margin-bottom: 4px;\n",
              "    }\n",
              "\n",
              "    [theme=dark] .colab-df-convert {\n",
              "      background-color: #3B4455;\n",
              "      fill: #D2E3FC;\n",
              "    }\n",
              "\n",
              "    [theme=dark] .colab-df-convert:hover {\n",
              "      background-color: #434B5C;\n",
              "      box-shadow: 0px 1px 3px 1px rgba(0, 0, 0, 0.15);\n",
              "      filter: drop-shadow(0px 1px 2px rgba(0, 0, 0, 0.3));\n",
              "      fill: #FFFFFF;\n",
              "    }\n",
              "  </style>\n",
              "\n",
              "    <script>\n",
              "      const buttonEl =\n",
              "        document.querySelector('#df-66a939ec-9d84-4853-ae4c-51fe08cb1757 button.colab-df-convert');\n",
              "      buttonEl.style.display =\n",
              "        google.colab.kernel.accessAllowed ? 'block' : 'none';\n",
              "\n",
              "      async function convertToInteractive(key) {\n",
              "        const element = document.querySelector('#df-66a939ec-9d84-4853-ae4c-51fe08cb1757');\n",
              "        const dataTable =\n",
              "          await google.colab.kernel.invokeFunction('convertToInteractive',\n",
              "                                                    [key], {});\n",
              "        if (!dataTable) return;\n",
              "\n",
              "        const docLinkHtml = 'Like what you see? Visit the ' +\n",
              "          '<a target=\"_blank\" href=https://colab.research.google.com/notebooks/data_table.ipynb>data table notebook</a>'\n",
              "          + ' to learn more about interactive tables.';\n",
              "        element.innerHTML = '';\n",
              "        dataTable['output_type'] = 'display_data';\n",
              "        await google.colab.output.renderOutput(dataTable, element);\n",
              "        const docLink = document.createElement('div');\n",
              "        docLink.innerHTML = docLinkHtml;\n",
              "        element.appendChild(docLink);\n",
              "      }\n",
              "    </script>\n",
              "  </div>\n",
              "\n",
              "\n",
              "<div id=\"df-3f25e7cb-5325-4e29-8a51-3f00422b7b53\">\n",
              "  <button class=\"colab-df-quickchart\" onclick=\"quickchart('df-3f25e7cb-5325-4e29-8a51-3f00422b7b53')\"\n",
              "            title=\"Suggest charts\"\n",
              "            style=\"display:none;\">\n",
              "\n",
              "<svg xmlns=\"http://www.w3.org/2000/svg\" height=\"24px\"viewBox=\"0 0 24 24\"\n",
              "     width=\"24px\">\n",
              "    <g>\n",
              "        <path d=\"M19 3H5c-1.1 0-2 .9-2 2v14c0 1.1.9 2 2 2h14c1.1 0 2-.9 2-2V5c0-1.1-.9-2-2-2zM9 17H7v-7h2v7zm4 0h-2V7h2v10zm4 0h-2v-4h2v4z\"/>\n",
              "    </g>\n",
              "</svg>\n",
              "  </button>\n",
              "\n",
              "<style>\n",
              "  .colab-df-quickchart {\n",
              "      --bg-color: #E8F0FE;\n",
              "      --fill-color: #1967D2;\n",
              "      --hover-bg-color: #E2EBFA;\n",
              "      --hover-fill-color: #174EA6;\n",
              "      --disabled-fill-color: #AAA;\n",
              "      --disabled-bg-color: #DDD;\n",
              "  }\n",
              "\n",
              "  [theme=dark] .colab-df-quickchart {\n",
              "      --bg-color: #3B4455;\n",
              "      --fill-color: #D2E3FC;\n",
              "      --hover-bg-color: #434B5C;\n",
              "      --hover-fill-color: #FFFFFF;\n",
              "      --disabled-bg-color: #3B4455;\n",
              "      --disabled-fill-color: #666;\n",
              "  }\n",
              "\n",
              "  .colab-df-quickchart {\n",
              "    background-color: var(--bg-color);\n",
              "    border: none;\n",
              "    border-radius: 50%;\n",
              "    cursor: pointer;\n",
              "    display: none;\n",
              "    fill: var(--fill-color);\n",
              "    height: 32px;\n",
              "    padding: 0;\n",
              "    width: 32px;\n",
              "  }\n",
              "\n",
              "  .colab-df-quickchart:hover {\n",
              "    background-color: var(--hover-bg-color);\n",
              "    box-shadow: 0 1px 2px rgba(60, 64, 67, 0.3), 0 1px 3px 1px rgba(60, 64, 67, 0.15);\n",
              "    fill: var(--button-hover-fill-color);\n",
              "  }\n",
              "\n",
              "  .colab-df-quickchart-complete:disabled,\n",
              "  .colab-df-quickchart-complete:disabled:hover {\n",
              "    background-color: var(--disabled-bg-color);\n",
              "    fill: var(--disabled-fill-color);\n",
              "    box-shadow: none;\n",
              "  }\n",
              "\n",
              "  .colab-df-spinner {\n",
              "    border: 2px solid var(--fill-color);\n",
              "    border-color: transparent;\n",
              "    border-bottom-color: var(--fill-color);\n",
              "    animation:\n",
              "      spin 1s steps(1) infinite;\n",
              "  }\n",
              "\n",
              "  @keyframes spin {\n",
              "    0% {\n",
              "      border-color: transparent;\n",
              "      border-bottom-color: var(--fill-color);\n",
              "      border-left-color: var(--fill-color);\n",
              "    }\n",
              "    20% {\n",
              "      border-color: transparent;\n",
              "      border-left-color: var(--fill-color);\n",
              "      border-top-color: var(--fill-color);\n",
              "    }\n",
              "    30% {\n",
              "      border-color: transparent;\n",
              "      border-left-color: var(--fill-color);\n",
              "      border-top-color: var(--fill-color);\n",
              "      border-right-color: var(--fill-color);\n",
              "    }\n",
              "    40% {\n",
              "      border-color: transparent;\n",
              "      border-right-color: var(--fill-color);\n",
              "      border-top-color: var(--fill-color);\n",
              "    }\n",
              "    60% {\n",
              "      border-color: transparent;\n",
              "      border-right-color: var(--fill-color);\n",
              "    }\n",
              "    80% {\n",
              "      border-color: transparent;\n",
              "      border-right-color: var(--fill-color);\n",
              "      border-bottom-color: var(--fill-color);\n",
              "    }\n",
              "    90% {\n",
              "      border-color: transparent;\n",
              "      border-bottom-color: var(--fill-color);\n",
              "    }\n",
              "  }\n",
              "</style>\n",
              "\n",
              "  <script>\n",
              "    async function quickchart(key) {\n",
              "      const quickchartButtonEl =\n",
              "        document.querySelector('#' + key + ' button');\n",
              "      quickchartButtonEl.disabled = true;  // To prevent multiple clicks.\n",
              "      quickchartButtonEl.classList.add('colab-df-spinner');\n",
              "      try {\n",
              "        const charts = await google.colab.kernel.invokeFunction(\n",
              "            'suggestCharts', [key], {});\n",
              "      } catch (error) {\n",
              "        console.error('Error during call to suggestCharts:', error);\n",
              "      }\n",
              "      quickchartButtonEl.classList.remove('colab-df-spinner');\n",
              "      quickchartButtonEl.classList.add('colab-df-quickchart-complete');\n",
              "    }\n",
              "    (() => {\n",
              "      let quickchartButtonEl =\n",
              "        document.querySelector('#df-3f25e7cb-5325-4e29-8a51-3f00422b7b53 button');\n",
              "      quickchartButtonEl.style.display =\n",
              "        google.colab.kernel.accessAllowed ? 'block' : 'none';\n",
              "    })();\n",
              "  </script>\n",
              "</div>\n",
              "\n",
              "  <div id=\"id_27dd9f58-f222-4d59-bf49-e5caa2eed08c\">\n",
              "    <style>\n",
              "      .colab-df-generate {\n",
              "        background-color: #E8F0FE;\n",
              "        border: none;\n",
              "        border-radius: 50%;\n",
              "        cursor: pointer;\n",
              "        display: none;\n",
              "        fill: #1967D2;\n",
              "        height: 32px;\n",
              "        padding: 0 0 0 0;\n",
              "        width: 32px;\n",
              "      }\n",
              "\n",
              "      .colab-df-generate:hover {\n",
              "        background-color: #E2EBFA;\n",
              "        box-shadow: 0px 1px 2px rgba(60, 64, 67, 0.3), 0px 1px 3px 1px rgba(60, 64, 67, 0.15);\n",
              "        fill: #174EA6;\n",
              "      }\n",
              "\n",
              "      [theme=dark] .colab-df-generate {\n",
              "        background-color: #3B4455;\n",
              "        fill: #D2E3FC;\n",
              "      }\n",
              "\n",
              "      [theme=dark] .colab-df-generate:hover {\n",
              "        background-color: #434B5C;\n",
              "        box-shadow: 0px 1px 3px 1px rgba(0, 0, 0, 0.15);\n",
              "        filter: drop-shadow(0px 1px 2px rgba(0, 0, 0, 0.3));\n",
              "        fill: #FFFFFF;\n",
              "      }\n",
              "    </style>\n",
              "    <button class=\"colab-df-generate\" onclick=\"generateWithVariable('result')\"\n",
              "            title=\"Generate code using this dataframe.\"\n",
              "            style=\"display:none;\">\n",
              "\n",
              "  <svg xmlns=\"http://www.w3.org/2000/svg\" height=\"24px\"viewBox=\"0 0 24 24\"\n",
              "       width=\"24px\">\n",
              "    <path d=\"M7,19H8.4L18.45,9,17,7.55,7,17.6ZM5,21V16.75L18.45,3.32a2,2,0,0,1,2.83,0l1.4,1.43a1.91,1.91,0,0,1,.58,1.4,1.91,1.91,0,0,1-.58,1.4L9.25,21ZM18.45,9,17,7.55Zm-12,3A5.31,5.31,0,0,0,4.9,8.1,5.31,5.31,0,0,0,1,6.5,5.31,5.31,0,0,0,4.9,4.9,5.31,5.31,0,0,0,6.5,1,5.31,5.31,0,0,0,8.1,4.9,5.31,5.31,0,0,0,12,6.5,5.46,5.46,0,0,0,6.5,12Z\"/>\n",
              "  </svg>\n",
              "    </button>\n",
              "    <script>\n",
              "      (() => {\n",
              "      const buttonEl =\n",
              "        document.querySelector('#id_27dd9f58-f222-4d59-bf49-e5caa2eed08c button.colab-df-generate');\n",
              "      buttonEl.style.display =\n",
              "        google.colab.kernel.accessAllowed ? 'block' : 'none';\n",
              "\n",
              "      buttonEl.onclick = () => {\n",
              "        google.colab.notebook.generateWithVariable('result');\n",
              "      }\n",
              "      })();\n",
              "    </script>\n",
              "  </div>\n",
              "\n",
              "    </div>\n",
              "  </div>\n"
            ],
            "application/vnd.google.colaboratory.intrinsic+json": {
              "type": "dataframe",
              "variable_name": "result",
              "summary": "{\n  \"name\": \"result\",\n  \"rows\": 452,\n  \"fields\": [\n    {\n      \"column\": \"text\",\n      \"properties\": {\n        \"dtype\": \"string\",\n        \"num_unique_values\": 452,\n        \"samples\": [\n          \"Greetings! I am Emily Clark, a fitness coach from Austin. Follow my journey on Facebook at @emilyfitnessjourney.\",\n          \"During the trial, Mr. James Foster's credibility was questioned when the opposing counsel presented evidence of his criminal record. The judge examined Mr. Foster's passport, bearing the number N12345678, which was issued by the United Kingdom on April 15, 2017.\",\n          \"The case between John Doe (Plaintiff) and ABC Corporation (Defendant) was filed on March 14, 2023, under the docket number 5:23-CV-678. The Plaintiff claims that the Defendant violated the terms of the contract signed on January 5, 2022.\"\n        ],\n        \"semantic_type\": \"\",\n        \"description\": \"\"\n      }\n    },\n    {\n      \"column\": \"eval\",\n      \"properties\": {\n        \"dtype\": \"object\",\n        \"semantic_type\": \"\",\n        \"description\": \"\"\n      }\n    },\n    {\n      \"column\": \"result\",\n      \"properties\": {\n        \"dtype\": \"object\",\n        \"semantic_type\": \"\",\n        \"description\": \"\"\n      }\n    },\n    {\n      \"column\": \"detectedtext\",\n      \"properties\": {\n        \"dtype\": \"object\",\n        \"semantic_type\": \"\",\n        \"description\": \"\"\n      }\n    },\n    {\n      \"column\": \"piidetected\",\n      \"properties\": {\n        \"dtype\": \"boolean\",\n        \"num_unique_values\": 2,\n        \"samples\": [\n          false,\n          true\n        ],\n        \"semantic_type\": \"\",\n        \"description\": \"\"\n      }\n    },\n    {\n      \"column\": \"contextstr\",\n      \"properties\": {\n        \"dtype\": \"string\",\n        \"num_unique_values\": 452,\n        \"samples\": [\n          \"Greetings! I am Emily Clark, a fitness coach from Austin. Follow my journey on Facebook at @emilyfitnessjourney.\",\n          \"During the trial, Mr. James Foster's credibility was questioned when the opposing counsel presented evidence of his criminal record. The judge examined Mr. Foster's passport, bearing the number N12345678, which was issued by the United Kingdom on April 15, 2017.\"\n        ],\n        \"semantic_type\": \"\",\n        \"description\": \"\"\n      }\n    }\n  ]\n}"
            }
          },
          "metadata": {},
          "execution_count": 61
        }
      ]
    },
    {
      "cell_type": "code",
      "source": [
        "checksenstiveinfo(contextstr=\"what does 417a denote?\")"
      ],
      "metadata": {
        "colab": {
          "base_uri": "https://localhost:8080/"
        },
        "id": "VsXLXKzzY0nI",
        "outputId": "4d3426c6-0295-4f19-d139-b2ca8df85054"
      },
      "execution_count": 17,
      "outputs": [
        {
          "output_type": "execute_result",
          "data": {
            "text/plain": [
              "{'contextstr': 'what does 417a denote?',\n",
              " 'piidetected': False,\n",
              " 'detectedtext': 'NA'}"
            ]
          },
          "metadata": {},
          "execution_count": 17
        }
      ]
    },
    {
      "cell_type": "code",
      "source": [
        "checksenstiveinfo(contextstr=\"comment on FINRA Rule 3310?\")"
      ],
      "metadata": {
        "colab": {
          "base_uri": "https://localhost:8080/"
        },
        "id": "VIhYo-_ZZ5AR",
        "outputId": "96b2325d-3ce8-475a-d621-842300760835"
      },
      "execution_count": 18,
      "outputs": [
        {
          "output_type": "execute_result",
          "data": {
            "text/plain": [
              "{'contextstr': 'comment on FINRA Rule 3310?',\n",
              " 'piidetected': False,\n",
              " 'detectedtext': 'NA'}"
            ]
          },
          "metadata": {},
          "execution_count": 18
        }
      ]
    },
    {
      "cell_type": "code",
      "source": [
        "checksenstiveinfo(contextstr=\"comment on 3310?\")"
      ],
      "metadata": {
        "colab": {
          "base_uri": "https://localhost:8080/"
        },
        "id": "zHTP3vzQZ_YI",
        "outputId": "be0a7d23-2423-4c7d-bc23-e7364358ffb8"
      },
      "execution_count": 19,
      "outputs": [
        {
          "output_type": "execute_result",
          "data": {
            "text/plain": [
              "{'contextstr': 'comment on 3310?', 'piidetected': False, 'detectedtext': 'NA'}"
            ]
          },
          "metadata": {},
          "execution_count": 19
        }
      ]
    },
    {
      "cell_type": "code",
      "source": [
        "checksenstiveinfo(contextstr=\"what does 31 U.S.C. 5318 signify\")"
      ],
      "metadata": {
        "colab": {
          "base_uri": "https://localhost:8080/"
        },
        "id": "3PQlH9OJe5DJ",
        "outputId": "269c3ed8-6bee-4728-e3d7-2ba584300903"
      },
      "execution_count": 38,
      "outputs": [
        {
          "output_type": "execute_result",
          "data": {
            "text/plain": [
              "{'contextstr': 'what does 31 U.S.C. 5318 signify',\n",
              " 'piidetected': False,\n",
              " 'detectedtext': 'NA'}"
            ]
          },
          "metadata": {},
          "execution_count": 38
        }
      ]
    },
    {
      "cell_type": "code",
      "source": [
        "checksenstiveinfo(contextstr=\"31 U.S.C. 5318A\")"
      ],
      "metadata": {
        "colab": {
          "base_uri": "https://localhost:8080/"
        },
        "id": "gLhaJzWpecDM",
        "outputId": "88c6e2d5-238a-4d99-b134-8a8a82ce469b"
      },
      "execution_count": 31,
      "outputs": [
        {
          "output_type": "execute_result",
          "data": {
            "text/plain": [
              "{'contextstr': '31 U.S.C. 5318A', 'piidetected': False, 'detectedtext': 'NA'}"
            ]
          },
          "metadata": {},
          "execution_count": 31
        }
      ]
    },
    {
      "cell_type": "code",
      "source": [],
      "metadata": {
        "id": "mhXreCjHgXEI"
      },
      "execution_count": null,
      "outputs": []
    },
    {
      "cell_type": "markdown",
      "source": [
        "\n",
        "\n",
        "> # <font color='lightyellow'>Presidio Issues</font>\n",
        "\n",
        "\n",
        "\n",
        "\n",
        "\n"
      ],
      "metadata": {
        "id": "AL0o2cP2c2qF"
      }
    },
    {
      "cell_type": "markdown",
      "source": [
        "\n",
        "\n",
        "# <font color='orange'>DATE_TIME reports season as sensitive</font>"
      ],
      "metadata": {
        "id": "L7zPJ7L4YN2K"
      }
    },
    {
      "cell_type": "code",
      "source": [
        "checksenstiveinfo(contextstr=\"It isnt a rainy day will go out at 2 PM\")"
      ],
      "metadata": {
        "colab": {
          "base_uri": "https://localhost:8080/"
        },
        "id": "FEpyUG2PYlvJ",
        "outputId": "331eedd3-9a66-4adb-ca4b-088af1e35029"
      },
      "execution_count": 16,
      "outputs": [
        {
          "output_type": "execute_result",
          "data": {
            "text/plain": [
              "{'result': [type: DATE_TIME, start: 10, end: 19, score: 0.85,\n",
              "  type: DATE_TIME, start: 35, end: 39, score: 0.85],\n",
              " 'piidetected': True,\n",
              " 'contextstr': 'It isnt a rainy day will go out at 2 PM',\n",
              " 'detectedtext': ['rainy day', '2 PM']}"
            ]
          },
          "metadata": {},
          "execution_count": 16
        }
      ]
    },
    {
      "cell_type": "code",
      "source": [
        "checksenstiveinfo(contextstr=\"Greenfield Savings, about suspicious activity on her credit card ending in 6789. The call came at 2 PM on rainy day\")"
      ],
      "metadata": {
        "colab": {
          "base_uri": "https://localhost:8080/"
        },
        "id": "5vPM2sB3YCPa",
        "outputId": "9764ffc5-09d6-4186-9b99-09101b0e19ca"
      },
      "execution_count": 15,
      "outputs": [
        {
          "output_type": "execute_result",
          "data": {
            "text/plain": [
              "{'result': [type: DATE_TIME, start: 98, end: 102, score: 0.85,\n",
              "  type: DATE_TIME, start: 106, end: 115, score: 0.85],\n",
              " 'piidetected': True,\n",
              " 'contextstr': 'Greenfield Savings, about suspicious activity on her credit card ending in 6789. The call came at 2 PM on rainy day',\n",
              " 'detectedtext': ['2 PM', 'rainy day']}"
            ]
          },
          "metadata": {},
          "execution_count": 15
        }
      ]
    },
    {
      "cell_type": "markdown",
      "source": [
        "\n",
        "\n",
        "# <font color='orange'>Reports  US_BANK_NUMBER as PHONE_NUMBER, US_DRIVER_LICENSE</font>"
      ],
      "metadata": {
        "id": "FoQYkqEGacUm"
      }
    },
    {
      "cell_type": "code",
      "source": [
        "checksenstiveinfo(contextstr=\"John Doe visited the Main Street branch of First National Bank yesterday. He spoke with Maria Johnson, the senior account manager, about opening a new savings account. His current account number is 1234567890, and he was interested in transferring $5,000 to his new account.\")"
      ],
      "metadata": {
        "colab": {
          "base_uri": "https://localhost:8080/"
        },
        "id": "psKaLMjTaDZb",
        "outputId": "0a33cbf7-47f3-4428-c931-b11d388dce60"
      },
      "execution_count": 21,
      "outputs": [
        {
          "output_type": "execute_result",
          "data": {
            "text/plain": [
              "{'result': [type: PERSON, start: 0, end: 8, score: 0.85,\n",
              "  type: LOCATION, start: 21, end: 32, score: 0.85,\n",
              "  type: DATE_TIME, start: 63, end: 72, score: 0.85,\n",
              "  type: PERSON, start: 88, end: 101, score: 0.85,\n",
              "  type: PHONE_NUMBER, start: 198, end: 208, score: 0.75,\n",
              "  type: US_BANK_NUMBER, start: 198, end: 208, score: 0.4,\n",
              "  type: US_DRIVER_LICENSE, start: 198, end: 208, score: 0.01],\n",
              " 'piidetected': True,\n",
              " 'contextstr': 'John Doe visited the Main Street branch of First National Bank yesterday. He spoke with Maria Johnson, the senior account manager, about opening a new savings account. His current account number is 1234567890, and he was interested in transferring $5,000 to his new account.',\n",
              " 'detectedtext': ['John Doe',\n",
              "  'Main Street',\n",
              "  'yesterday',\n",
              "  'Maria Johnson',\n",
              "  '1234567890',\n",
              "  '1234567890',\n",
              "  '1234567890']}"
            ]
          },
          "metadata": {},
          "execution_count": 21
        }
      ]
    },
    {
      "cell_type": "code",
      "source": [
        "checksenstiveinfo(contextstr=\"Mary conveyed her account number as 3690859741294280\")"
      ],
      "metadata": {
        "colab": {
          "base_uri": "https://localhost:8080/"
        },
        "id": "80yCRMz8aW9K",
        "outputId": "47c9573b-e68f-4bbd-d0f9-a6464aa3944b"
      },
      "execution_count": 22,
      "outputs": [
        {
          "output_type": "execute_result",
          "data": {
            "text/plain": [
              "{'result': [type: PERSON, start: 0, end: 4, score: 0.85,\n",
              "  type: US_BANK_NUMBER, start: 36, end: 52, score: 0.4,\n",
              "  type: US_DRIVER_LICENSE, start: 36, end: 52, score: 0.01],\n",
              " 'piidetected': True,\n",
              " 'contextstr': 'Mary conveyed her account number as 3690859741294280',\n",
              " 'detectedtext': ['Mary', '3690859741294280', '3690859741294280']}"
            ]
          },
          "metadata": {},
          "execution_count": 22
        }
      ]
    },
    {
      "cell_type": "markdown",
      "source": [
        "# <font color='orange'>Fails to detect Screaming Snake Case</font>\n",
        "\n"
      ],
      "metadata": {
        "id": "PA7xq01iPOMt"
      }
    },
    {
      "cell_type": "code",
      "source": [
        "checksenstiveinfo(contextstr=\"EMILY_CARTER received a call from her bank, Greenfield Savings, about suspicious activity on her credit card ending in 6789. The call came at 2 PM while she was at her office on Elm Street.\")"
      ],
      "metadata": {
        "colab": {
          "base_uri": "https://localhost:8080/"
        },
        "id": "YU9loSUOPJF_",
        "outputId": "9e78dd36-3b0c-4623-c0f4-ceb8580b5366"
      },
      "execution_count": 8,
      "outputs": [
        {
          "output_type": "execute_result",
          "data": {
            "text/plain": [
              "{'result': [type: DATE_TIME, start: 142, end: 146, score: 0.85,\n",
              "  type: LOCATION, start: 178, end: 188, score: 0.85],\n",
              " 'piidetected': True,\n",
              " 'contextstr': 'EMILY_CARTER received a call from her bank, Greenfield Savings, about suspicious activity on her credit card ending in 6789. The call came at 2 PM while she was at her office on Elm Street.',\n",
              " 'detectedtext': ['2 PM', 'Elm Street']}"
            ]
          },
          "metadata": {},
          "execution_count": 8
        }
      ]
    },
    {
      "cell_type": "markdown",
      "source": [
        " # <font color='orange'>Detects 314b as person</font>"
      ],
      "metadata": {
        "id": "Fddm1U2feR-A"
      }
    },
    {
      "cell_type": "code",
      "source": [
        "checksenstiveinfo(contextstr=\"comment on 314b?\")"
      ],
      "metadata": {
        "colab": {
          "base_uri": "https://localhost:8080/"
        },
        "id": "tRgRzv5wd55f",
        "outputId": "f4dad750-19f6-468c-ca61-f597bce79c54"
      },
      "execution_count": 29,
      "outputs": [
        {
          "output_type": "execute_result",
          "data": {
            "text/plain": [
              "{'result': [type: PERSON, start: 11, end: 15, score: 0.85],\n",
              " 'piidetected': True,\n",
              " 'contextstr': 'comment on 314b?',\n",
              " 'detectedtext': ['314b']}"
            ]
          },
          "metadata": {},
          "execution_count": 29
        }
      ]
    },
    {
      "cell_type": "markdown",
      "source": [
        " # <font color='orange'>Issue with DATE_TIME </font>"
      ],
      "metadata": {
        "id": "jp1WwtAre12t"
      }
    },
    {
      "cell_type": "code",
      "source": [
        "checksenstiveinfo(contextstr=\"what is 31 U.S.C. 5318A ?\")"
      ],
      "metadata": {
        "colab": {
          "base_uri": "https://localhost:8080/"
        },
        "id": "eg0g6cnyeoa9",
        "outputId": "940246be-9a39-4962-e7a1-94aeae95c515"
      },
      "execution_count": 32,
      "outputs": [
        {
          "output_type": "execute_result",
          "data": {
            "text/plain": [
              "{'result': [type: DATE_TIME, start: 8, end: 10, score: 0.85],\n",
              " 'piidetected': True,\n",
              " 'contextstr': 'what is 31 U.S.C. 5318A ?',\n",
              " 'detectedtext': ['31']}"
            ]
          },
          "metadata": {},
          "execution_count": 32
        }
      ]
    },
    {
      "cell_type": "code",
      "source": [
        "checksenstiveinfo(contextstr=\"what is 31 U.S.C. 5318A\")"
      ],
      "metadata": {
        "colab": {
          "base_uri": "https://localhost:8080/"
        },
        "id": "DMVqTWfjeuQL",
        "outputId": "feab93ee-055f-4332-e0e3-64e778ebca83"
      },
      "execution_count": 33,
      "outputs": [
        {
          "output_type": "execute_result",
          "data": {
            "text/plain": [
              "{'result': [type: DATE_TIME, start: 8, end: 10, score: 0.85],\n",
              " 'piidetected': True,\n",
              " 'contextstr': 'what is 31 U.S.C. 5318A',\n",
              " 'detectedtext': ['31']}"
            ]
          },
          "metadata": {},
          "execution_count": 33
        }
      ]
    },
    {
      "cell_type": "code",
      "source": [
        "checksenstiveinfo(contextstr=\"what is 31 C.F.R. Part 1023?\")"
      ],
      "metadata": {
        "colab": {
          "base_uri": "https://localhost:8080/"
        },
        "id": "K0GLqIZ2gho2",
        "outputId": "3ff043f9-bce5-45fc-ed94-a7b811f6b660"
      },
      "execution_count": 39,
      "outputs": [
        {
          "output_type": "execute_result",
          "data": {
            "text/plain": [
              "{'contextstr': 'what is 31 C.F.R. Part 1023?',\n",
              " 'piidetected': False,\n",
              " 'detectedtext': 'NA'}"
            ]
          },
          "metadata": {},
          "execution_count": 39
        }
      ]
    },
    {
      "cell_type": "code",
      "source": [
        "checksenstiveinfo(contextstr=\"Section 314(b)\")"
      ],
      "metadata": {
        "colab": {
          "base_uri": "https://localhost:8080/"
        },
        "id": "r8b6NZhDgvKW",
        "outputId": "551bba2a-a230-406d-f9be-b451dc42836f"
      },
      "execution_count": 43,
      "outputs": [
        {
          "output_type": "execute_result",
          "data": {
            "text/plain": [
              "{'result': [type: DATE_TIME, start: 8, end: 13, score: 0.85],\n",
              " 'piidetected': True,\n",
              " 'contextstr': 'Section 314(b)',\n",
              " 'detectedtext': ['314(b']}"
            ]
          },
          "metadata": {},
          "execution_count": 43
        }
      ]
    },
    {
      "cell_type": "code",
      "source": [
        "checksenstiveinfo(contextstr=\"what is 31 C.F.R. Part 1023?\")"
      ],
      "metadata": {
        "colab": {
          "base_uri": "https://localhost:8080/"
        },
        "id": "HOs_-8F3g7ZO",
        "outputId": "1b2a3b2f-d6e7-4f11-a43b-b3c23d1fd86f"
      },
      "execution_count": 47,
      "outputs": [
        {
          "output_type": "execute_result",
          "data": {
            "text/plain": [
              "{'contextstr': 'what is 31 C.F.R. Part 1023?',\n",
              " 'piidetected': False,\n",
              " 'detectedtext': 'NA'}"
            ]
          },
          "metadata": {},
          "execution_count": 47
        }
      ]
    },
    {
      "cell_type": "code",
      "source": [
        "checksenstiveinfo(contextstr=\"31 C.F.R. Part 1023\")"
      ],
      "metadata": {
        "colab": {
          "base_uri": "https://localhost:8080/"
        },
        "id": "hGADVI65gmxa",
        "outputId": "49e5a3e6-2dae-452f-cbe1-d1cc3585ceb7"
      },
      "execution_count": 40,
      "outputs": [
        {
          "output_type": "execute_result",
          "data": {
            "text/plain": [
              "{'contextstr': '31 C.F.R. Part 1023',\n",
              " 'piidetected': False,\n",
              " 'detectedtext': 'NA'}"
            ]
          },
          "metadata": {},
          "execution_count": 40
        }
      ]
    },
    {
      "cell_type": "markdown",
      "source": [
        " # <font color='orange'>Fails to phone number Country code followed by  - </font>"
      ],
      "metadata": {
        "id": "2timSHssoh2h"
      }
    },
    {
      "cell_type": "code",
      "source": [
        "checksenstiveinfo(contextstr=\"his mobile phone number is +1-555-123-4567\")"
      ],
      "metadata": {
        "colab": {
          "base_uri": "https://localhost:8080/"
        },
        "id": "wLSA_lpcoe4E",
        "outputId": "6293319a-3d1a-4e75-bc39-a66d1b9ef9ab"
      },
      "execution_count": 74,
      "outputs": [
        {
          "output_type": "execute_result",
          "data": {
            "text/plain": [
              "{'contextstr': 'his mobile phone number is +1-555-123-4567',\n",
              " 'piidetected': False,\n",
              " 'detectedtext': 'NA'}"
            ]
          },
          "metadata": {},
          "execution_count": 74
        }
      ]
    },
    {
      "cell_type": "code",
      "source": [
        "checksenstiveinfo(contextstr=\"pls note phone number as +1-555-123-4567\")"
      ],
      "metadata": {
        "colab": {
          "base_uri": "https://localhost:8080/"
        },
        "id": "7gdil2Clp9er",
        "outputId": "a2836b2d-ff11-476f-c411-04c6999f94ab"
      },
      "execution_count": 81,
      "outputs": [
        {
          "output_type": "execute_result",
          "data": {
            "text/plain": [
              "{'contextstr': 'pls note phone number as +1-555-123-4567',\n",
              " 'piidetected': False,\n",
              " 'detectedtext': 'NA'}"
            ]
          },
          "metadata": {},
          "execution_count": 81
        }
      ]
    },
    {
      "cell_type": "code",
      "source": [
        "checksenstiveinfo(contextstr=\"pls note her phone number as +1-555-123-4567\")"
      ],
      "metadata": {
        "colab": {
          "base_uri": "https://localhost:8080/"
        },
        "id": "iqSL7wilqXs1",
        "outputId": "e5c9cfd0-24c6-45cc-d1e8-78fcc1765a2d"
      },
      "execution_count": 82,
      "outputs": [
        {
          "output_type": "execute_result",
          "data": {
            "text/plain": [
              "{'contextstr': 'pls note her phone number as +1-555-123-4567',\n",
              " 'piidetected': False,\n",
              " 'detectedtext': 'NA'}"
            ]
          },
          "metadata": {},
          "execution_count": 82
        }
      ]
    },
    {
      "cell_type": "code",
      "source": [
        "checksenstiveinfo(contextstr=\"can be contacted on +1-566-123-4567\")"
      ],
      "metadata": {
        "colab": {
          "base_uri": "https://localhost:8080/"
        },
        "id": "U0rOfoL0qarC",
        "outputId": "ed849546-63e3-4275-916d-6c171129d013"
      },
      "execution_count": 84,
      "outputs": [
        {
          "output_type": "execute_result",
          "data": {
            "text/plain": [
              "{'contextstr': 'can be contacted on +1-566-123-4567',\n",
              " 'piidetected': False,\n",
              " 'detectedtext': 'NA'}"
            ]
          },
          "metadata": {},
          "execution_count": 84
        }
      ]
    },
    {
      "cell_type": "code",
      "source": [
        "checksenstiveinfo(contextstr=\"his mobile phone number is +1 555-123-4567\")"
      ],
      "metadata": {
        "colab": {
          "base_uri": "https://localhost:8080/"
        },
        "id": "-8l5ZunJoua4",
        "outputId": "13ca780d-7501-4f6b-a45e-082693fb0ede"
      },
      "execution_count": 76,
      "outputs": [
        {
          "output_type": "execute_result",
          "data": {
            "text/plain": [
              "{'result': [type: PHONE_NUMBER, start: 30, end: 42, score: 0.75],\n",
              " 'piidetected': True,\n",
              " 'contextstr': 'his mobile phone number is +1 555-123-4567',\n",
              " 'detectedtext': ['555-123-4567']}"
            ]
          },
          "metadata": {},
          "execution_count": 76
        }
      ]
    },
    {
      "cell_type": "code",
      "source": [
        "checksenstiveinfo(contextstr=\"his mobile phone number is 555-123-4567\")"
      ],
      "metadata": {
        "colab": {
          "base_uri": "https://localhost:8080/"
        },
        "id": "gpka0tc6orEa",
        "outputId": "b3990d72-2f27-4a0e-aa98-7edfc52ba2e5"
      },
      "execution_count": 75,
      "outputs": [
        {
          "output_type": "execute_result",
          "data": {
            "text/plain": [
              "{'result': [type: PHONE_NUMBER, start: 27, end: 39, score: 0.75],\n",
              " 'piidetected': True,\n",
              " 'contextstr': 'his mobile phone number is 555-123-4567',\n",
              " 'detectedtext': ['555-123-4567']}"
            ]
          },
          "metadata": {},
          "execution_count": 75
        }
      ]
    },
    {
      "cell_type": "code",
      "source": [
        "testlist = [\"FINRA Rule 3310\", \"How suspicious transactions be reported and documented?\", \"minimum standards for CIP\", \"what are key elements of AML program\", \"What does 352 mean\",\"How financial institution should crosstrain compliance personnel\", \"What are obligatory procedures under 352\" ,\n",
        "     \"How exemptions can be requested by financial institutions under 31 U.S.C. 5318\", \"How internation transaction can affect fintech\", \"List penalities under 31 U.S.C. 5318A\", \"What documentation is crucial as per AML\", \"List mandatory risk procedures to follow under 352\", \"What are the AML requirements under 31 C.F.R. Part 1023\", \"What is considered as a violation under violations of 5318A\", \"How frequently information should be updated and maintained under FINRA Rule 3310\",\"what is 31 U.S.C. 5318A\", \"what is 314b\", \"Her passport expires on Jan 10 2026\",\n",
        "      \"he was interested in transferring $1,000 to his new account 3690859741294280.\", \"his mobile phone number is +1-555-123-4567 Steve resides at 123 Hawk Street, Springfield, IL 62704.\"]"
      ],
      "metadata": {
        "id": "9iaxLl-WhNqr"
      },
      "execution_count": 71,
      "outputs": []
    },
    {
      "cell_type": "code",
      "source": [
        "testresult = checklist(testlist)"
      ],
      "metadata": {
        "id": "_W6VqpaCl0TA"
      },
      "execution_count": 72,
      "outputs": []
    },
    {
      "cell_type": "code",
      "source": [
        "testresult"
      ],
      "metadata": {
        "colab": {
          "base_uri": "https://localhost:8080/",
          "height": 746
        },
        "id": "-Q6mvWxMm-s7",
        "outputId": "4a7d6228-4689-4be3-fd94-6f48fd1b63aa"
      },
      "execution_count": 73,
      "outputs": [
        {
          "output_type": "execute_result",
          "data": {
            "text/plain": [
              "                                                                                             contextstr  \\\n",
              "0                                                                                       FINRA Rule 3310   \n",
              "1                                               How suspicious transactions be reported and documented?   \n",
              "2                                                                             minimum standards for CIP   \n",
              "3                                                                  what are key elements of AML program   \n",
              "4                                                                                    What does 352 mean   \n",
              "5                                      How financial institution should crosstrain compliance personnel   \n",
              "6                                                              What are obligatory procedures under 352   \n",
              "7                        How exemptions can be requested by financial institutions under 31 U.S.C. 5318   \n",
              "8                                                        How internation transaction can affect fintech   \n",
              "9                                                                 List penalities under 31 U.S.C. 5318A   \n",
              "10                                                             What documentation is crucial as per AML   \n",
              "11                                                   List mandatory risk procedures to follow under 352   \n",
              "12                                              What are the AML requirements under 31 C.F.R. Part 1023   \n",
              "13                                          What is considered as a violation under violations of 5318A   \n",
              "14                    How frequently information should be updated and maintained under FINRA Rule 3310   \n",
              "15                                                                              what is 31 U.S.C. 5318A   \n",
              "16                                                                                         what is 314b   \n",
              "17                                                                  Her passport expires on Jan 10 2026   \n",
              "18                        he was interested in transferring $1,000 to his new account 3690859741294280.   \n",
              "19  his mobile phone number is +1-555-123-4567 Steve resides at 123 Hawk Street, Springfield, IL 62704.   \n",
              "\n",
              "    piidetected                          detectedtext  \\\n",
              "0         False                                    NA   \n",
              "1         False                                    NA   \n",
              "2         False                                    NA   \n",
              "3         False                                    NA   \n",
              "4         False                                    NA   \n",
              "5         False                                    NA   \n",
              "6         False                                    NA   \n",
              "7         False                                    NA   \n",
              "8         False                                    NA   \n",
              "9         False                                    NA   \n",
              "10        False                                    NA   \n",
              "11        False                                    NA   \n",
              "12        False                                    NA   \n",
              "13        False                                    NA   \n",
              "14        False                                    NA   \n",
              "15         True                                  [31]   \n",
              "16         True                                [314b]   \n",
              "17         True                         [Jan 10 2026]   \n",
              "18         True  [3690859741294280, 3690859741294280]   \n",
              "19         True        [123 Hawk Street, Springfield]   \n",
              "\n",
              "                                                                                                              result  \n",
              "0                                                                                                                 []  \n",
              "1                                                                                                                 []  \n",
              "2                                                                                                                 []  \n",
              "3                                                                                                                 []  \n",
              "4                                                                                                                 []  \n",
              "5                                                                                                                 []  \n",
              "6                                                                                                                 []  \n",
              "7                                                                                                                 []  \n",
              "8                                                                                                                 []  \n",
              "9                                                                                                                 []  \n",
              "10                                                                                                                []  \n",
              "11                                                                                                                []  \n",
              "12                                                                                                                []  \n",
              "13                                                                                                                []  \n",
              "14                                                                                                                []  \n",
              "15                                                                 [type: DATE_TIME, start: 8, end: 10, score: 0.85]  \n",
              "16                                                                    [type: PERSON, start: 8, end: 12, score: 0.85]  \n",
              "17                                                                [type: DATE_TIME, start: 24, end: 35, score: 0.85]  \n",
              "18  [type: US_BANK_NUMBER, start: 60, end: 76, score: 0.4, type: US_DRIVER_LICENSE, start: 60, end: 76, score: 0.01]  \n",
              "19                [type: LOCATION, start: 60, end: 75, score: 0.85, type: LOCATION, start: 77, end: 88, score: 0.85]  "
            ],
            "text/html": [
              "\n",
              "  <div id=\"df-03482fec-34bf-4952-a2b5-3ea7f842588f\" class=\"colab-df-container\">\n",
              "    <div>\n",
              "<style scoped>\n",
              "    .dataframe tbody tr th:only-of-type {\n",
              "        vertical-align: middle;\n",
              "    }\n",
              "\n",
              "    .dataframe tbody tr th {\n",
              "        vertical-align: top;\n",
              "    }\n",
              "\n",
              "    .dataframe thead th {\n",
              "        text-align: right;\n",
              "    }\n",
              "</style>\n",
              "<table border=\"1\" class=\"dataframe\">\n",
              "  <thead>\n",
              "    <tr style=\"text-align: right;\">\n",
              "      <th></th>\n",
              "      <th>contextstr</th>\n",
              "      <th>piidetected</th>\n",
              "      <th>detectedtext</th>\n",
              "      <th>result</th>\n",
              "    </tr>\n",
              "  </thead>\n",
              "  <tbody>\n",
              "    <tr>\n",
              "      <th>0</th>\n",
              "      <td>FINRA Rule 3310</td>\n",
              "      <td>False</td>\n",
              "      <td>NA</td>\n",
              "      <td>[]</td>\n",
              "    </tr>\n",
              "    <tr>\n",
              "      <th>1</th>\n",
              "      <td>How suspicious transactions be reported and documented?</td>\n",
              "      <td>False</td>\n",
              "      <td>NA</td>\n",
              "      <td>[]</td>\n",
              "    </tr>\n",
              "    <tr>\n",
              "      <th>2</th>\n",
              "      <td>minimum standards for CIP</td>\n",
              "      <td>False</td>\n",
              "      <td>NA</td>\n",
              "      <td>[]</td>\n",
              "    </tr>\n",
              "    <tr>\n",
              "      <th>3</th>\n",
              "      <td>what are key elements of AML program</td>\n",
              "      <td>False</td>\n",
              "      <td>NA</td>\n",
              "      <td>[]</td>\n",
              "    </tr>\n",
              "    <tr>\n",
              "      <th>4</th>\n",
              "      <td>What does 352 mean</td>\n",
              "      <td>False</td>\n",
              "      <td>NA</td>\n",
              "      <td>[]</td>\n",
              "    </tr>\n",
              "    <tr>\n",
              "      <th>5</th>\n",
              "      <td>How financial institution should crosstrain compliance personnel</td>\n",
              "      <td>False</td>\n",
              "      <td>NA</td>\n",
              "      <td>[]</td>\n",
              "    </tr>\n",
              "    <tr>\n",
              "      <th>6</th>\n",
              "      <td>What are obligatory procedures under 352</td>\n",
              "      <td>False</td>\n",
              "      <td>NA</td>\n",
              "      <td>[]</td>\n",
              "    </tr>\n",
              "    <tr>\n",
              "      <th>7</th>\n",
              "      <td>How exemptions can be requested by financial institutions under 31 U.S.C. 5318</td>\n",
              "      <td>False</td>\n",
              "      <td>NA</td>\n",
              "      <td>[]</td>\n",
              "    </tr>\n",
              "    <tr>\n",
              "      <th>8</th>\n",
              "      <td>How internation transaction can affect fintech</td>\n",
              "      <td>False</td>\n",
              "      <td>NA</td>\n",
              "      <td>[]</td>\n",
              "    </tr>\n",
              "    <tr>\n",
              "      <th>9</th>\n",
              "      <td>List penalities under 31 U.S.C. 5318A</td>\n",
              "      <td>False</td>\n",
              "      <td>NA</td>\n",
              "      <td>[]</td>\n",
              "    </tr>\n",
              "    <tr>\n",
              "      <th>10</th>\n",
              "      <td>What documentation is crucial as per AML</td>\n",
              "      <td>False</td>\n",
              "      <td>NA</td>\n",
              "      <td>[]</td>\n",
              "    </tr>\n",
              "    <tr>\n",
              "      <th>11</th>\n",
              "      <td>List mandatory risk procedures to follow under 352</td>\n",
              "      <td>False</td>\n",
              "      <td>NA</td>\n",
              "      <td>[]</td>\n",
              "    </tr>\n",
              "    <tr>\n",
              "      <th>12</th>\n",
              "      <td>What are the AML requirements under 31 C.F.R. Part 1023</td>\n",
              "      <td>False</td>\n",
              "      <td>NA</td>\n",
              "      <td>[]</td>\n",
              "    </tr>\n",
              "    <tr>\n",
              "      <th>13</th>\n",
              "      <td>What is considered as a violation under violations of 5318A</td>\n",
              "      <td>False</td>\n",
              "      <td>NA</td>\n",
              "      <td>[]</td>\n",
              "    </tr>\n",
              "    <tr>\n",
              "      <th>14</th>\n",
              "      <td>How frequently information should be updated and maintained under FINRA Rule 3310</td>\n",
              "      <td>False</td>\n",
              "      <td>NA</td>\n",
              "      <td>[]</td>\n",
              "    </tr>\n",
              "    <tr>\n",
              "      <th>15</th>\n",
              "      <td>what is 31 U.S.C. 5318A</td>\n",
              "      <td>True</td>\n",
              "      <td>[31]</td>\n",
              "      <td>[type: DATE_TIME, start: 8, end: 10, score: 0.85]</td>\n",
              "    </tr>\n",
              "    <tr>\n",
              "      <th>16</th>\n",
              "      <td>what is 314b</td>\n",
              "      <td>True</td>\n",
              "      <td>[314b]</td>\n",
              "      <td>[type: PERSON, start: 8, end: 12, score: 0.85]</td>\n",
              "    </tr>\n",
              "    <tr>\n",
              "      <th>17</th>\n",
              "      <td>Her passport expires on Jan 10 2026</td>\n",
              "      <td>True</td>\n",
              "      <td>[Jan 10 2026]</td>\n",
              "      <td>[type: DATE_TIME, start: 24, end: 35, score: 0.85]</td>\n",
              "    </tr>\n",
              "    <tr>\n",
              "      <th>18</th>\n",
              "      <td>he was interested in transferring $1,000 to his new account 3690859741294280.</td>\n",
              "      <td>True</td>\n",
              "      <td>[3690859741294280, 3690859741294280]</td>\n",
              "      <td>[type: US_BANK_NUMBER, start: 60, end: 76, score: 0.4, type: US_DRIVER_LICENSE, start: 60, end: 76, score: 0.01]</td>\n",
              "    </tr>\n",
              "    <tr>\n",
              "      <th>19</th>\n",
              "      <td>his mobile phone number is +1-555-123-4567 Steve resides at 123 Hawk Street, Springfield, IL 62704.</td>\n",
              "      <td>True</td>\n",
              "      <td>[123 Hawk Street, Springfield]</td>\n",
              "      <td>[type: LOCATION, start: 60, end: 75, score: 0.85, type: LOCATION, start: 77, end: 88, score: 0.85]</td>\n",
              "    </tr>\n",
              "  </tbody>\n",
              "</table>\n",
              "</div>\n",
              "    <div class=\"colab-df-buttons\">\n",
              "\n",
              "  <div class=\"colab-df-container\">\n",
              "    <button class=\"colab-df-convert\" onclick=\"convertToInteractive('df-03482fec-34bf-4952-a2b5-3ea7f842588f')\"\n",
              "            title=\"Convert this dataframe to an interactive table.\"\n",
              "            style=\"display:none;\">\n",
              "\n",
              "  <svg xmlns=\"http://www.w3.org/2000/svg\" height=\"24px\" viewBox=\"0 -960 960 960\">\n",
              "    <path d=\"M120-120v-720h720v720H120Zm60-500h600v-160H180v160Zm220 220h160v-160H400v160Zm0 220h160v-160H400v160ZM180-400h160v-160H180v160Zm440 0h160v-160H620v160ZM180-180h160v-160H180v160Zm440 0h160v-160H620v160Z\"/>\n",
              "  </svg>\n",
              "    </button>\n",
              "\n",
              "  <style>\n",
              "    .colab-df-container {\n",
              "      display:flex;\n",
              "      gap: 12px;\n",
              "    }\n",
              "\n",
              "    .colab-df-convert {\n",
              "      background-color: #E8F0FE;\n",
              "      border: none;\n",
              "      border-radius: 50%;\n",
              "      cursor: pointer;\n",
              "      display: none;\n",
              "      fill: #1967D2;\n",
              "      height: 32px;\n",
              "      padding: 0 0 0 0;\n",
              "      width: 32px;\n",
              "    }\n",
              "\n",
              "    .colab-df-convert:hover {\n",
              "      background-color: #E2EBFA;\n",
              "      box-shadow: 0px 1px 2px rgba(60, 64, 67, 0.3), 0px 1px 3px 1px rgba(60, 64, 67, 0.15);\n",
              "      fill: #174EA6;\n",
              "    }\n",
              "\n",
              "    .colab-df-buttons div {\n",
              "      margin-bottom: 4px;\n",
              "    }\n",
              "\n",
              "    [theme=dark] .colab-df-convert {\n",
              "      background-color: #3B4455;\n",
              "      fill: #D2E3FC;\n",
              "    }\n",
              "\n",
              "    [theme=dark] .colab-df-convert:hover {\n",
              "      background-color: #434B5C;\n",
              "      box-shadow: 0px 1px 3px 1px rgba(0, 0, 0, 0.15);\n",
              "      filter: drop-shadow(0px 1px 2px rgba(0, 0, 0, 0.3));\n",
              "      fill: #FFFFFF;\n",
              "    }\n",
              "  </style>\n",
              "\n",
              "    <script>\n",
              "      const buttonEl =\n",
              "        document.querySelector('#df-03482fec-34bf-4952-a2b5-3ea7f842588f button.colab-df-convert');\n",
              "      buttonEl.style.display =\n",
              "        google.colab.kernel.accessAllowed ? 'block' : 'none';\n",
              "\n",
              "      async function convertToInteractive(key) {\n",
              "        const element = document.querySelector('#df-03482fec-34bf-4952-a2b5-3ea7f842588f');\n",
              "        const dataTable =\n",
              "          await google.colab.kernel.invokeFunction('convertToInteractive',\n",
              "                                                    [key], {});\n",
              "        if (!dataTable) return;\n",
              "\n",
              "        const docLinkHtml = 'Like what you see? Visit the ' +\n",
              "          '<a target=\"_blank\" href=https://colab.research.google.com/notebooks/data_table.ipynb>data table notebook</a>'\n",
              "          + ' to learn more about interactive tables.';\n",
              "        element.innerHTML = '';\n",
              "        dataTable['output_type'] = 'display_data';\n",
              "        await google.colab.output.renderOutput(dataTable, element);\n",
              "        const docLink = document.createElement('div');\n",
              "        docLink.innerHTML = docLinkHtml;\n",
              "        element.appendChild(docLink);\n",
              "      }\n",
              "    </script>\n",
              "  </div>\n",
              "\n",
              "\n",
              "<div id=\"df-e4ac1568-9383-4de4-89ce-c1042c1782e5\">\n",
              "  <button class=\"colab-df-quickchart\" onclick=\"quickchart('df-e4ac1568-9383-4de4-89ce-c1042c1782e5')\"\n",
              "            title=\"Suggest charts\"\n",
              "            style=\"display:none;\">\n",
              "\n",
              "<svg xmlns=\"http://www.w3.org/2000/svg\" height=\"24px\"viewBox=\"0 0 24 24\"\n",
              "     width=\"24px\">\n",
              "    <g>\n",
              "        <path d=\"M19 3H5c-1.1 0-2 .9-2 2v14c0 1.1.9 2 2 2h14c1.1 0 2-.9 2-2V5c0-1.1-.9-2-2-2zM9 17H7v-7h2v7zm4 0h-2V7h2v10zm4 0h-2v-4h2v4z\"/>\n",
              "    </g>\n",
              "</svg>\n",
              "  </button>\n",
              "\n",
              "<style>\n",
              "  .colab-df-quickchart {\n",
              "      --bg-color: #E8F0FE;\n",
              "      --fill-color: #1967D2;\n",
              "      --hover-bg-color: #E2EBFA;\n",
              "      --hover-fill-color: #174EA6;\n",
              "      --disabled-fill-color: #AAA;\n",
              "      --disabled-bg-color: #DDD;\n",
              "  }\n",
              "\n",
              "  [theme=dark] .colab-df-quickchart {\n",
              "      --bg-color: #3B4455;\n",
              "      --fill-color: #D2E3FC;\n",
              "      --hover-bg-color: #434B5C;\n",
              "      --hover-fill-color: #FFFFFF;\n",
              "      --disabled-bg-color: #3B4455;\n",
              "      --disabled-fill-color: #666;\n",
              "  }\n",
              "\n",
              "  .colab-df-quickchart {\n",
              "    background-color: var(--bg-color);\n",
              "    border: none;\n",
              "    border-radius: 50%;\n",
              "    cursor: pointer;\n",
              "    display: none;\n",
              "    fill: var(--fill-color);\n",
              "    height: 32px;\n",
              "    padding: 0;\n",
              "    width: 32px;\n",
              "  }\n",
              "\n",
              "  .colab-df-quickchart:hover {\n",
              "    background-color: var(--hover-bg-color);\n",
              "    box-shadow: 0 1px 2px rgba(60, 64, 67, 0.3), 0 1px 3px 1px rgba(60, 64, 67, 0.15);\n",
              "    fill: var(--button-hover-fill-color);\n",
              "  }\n",
              "\n",
              "  .colab-df-quickchart-complete:disabled,\n",
              "  .colab-df-quickchart-complete:disabled:hover {\n",
              "    background-color: var(--disabled-bg-color);\n",
              "    fill: var(--disabled-fill-color);\n",
              "    box-shadow: none;\n",
              "  }\n",
              "\n",
              "  .colab-df-spinner {\n",
              "    border: 2px solid var(--fill-color);\n",
              "    border-color: transparent;\n",
              "    border-bottom-color: var(--fill-color);\n",
              "    animation:\n",
              "      spin 1s steps(1) infinite;\n",
              "  }\n",
              "\n",
              "  @keyframes spin {\n",
              "    0% {\n",
              "      border-color: transparent;\n",
              "      border-bottom-color: var(--fill-color);\n",
              "      border-left-color: var(--fill-color);\n",
              "    }\n",
              "    20% {\n",
              "      border-color: transparent;\n",
              "      border-left-color: var(--fill-color);\n",
              "      border-top-color: var(--fill-color);\n",
              "    }\n",
              "    30% {\n",
              "      border-color: transparent;\n",
              "      border-left-color: var(--fill-color);\n",
              "      border-top-color: var(--fill-color);\n",
              "      border-right-color: var(--fill-color);\n",
              "    }\n",
              "    40% {\n",
              "      border-color: transparent;\n",
              "      border-right-color: var(--fill-color);\n",
              "      border-top-color: var(--fill-color);\n",
              "    }\n",
              "    60% {\n",
              "      border-color: transparent;\n",
              "      border-right-color: var(--fill-color);\n",
              "    }\n",
              "    80% {\n",
              "      border-color: transparent;\n",
              "      border-right-color: var(--fill-color);\n",
              "      border-bottom-color: var(--fill-color);\n",
              "    }\n",
              "    90% {\n",
              "      border-color: transparent;\n",
              "      border-bottom-color: var(--fill-color);\n",
              "    }\n",
              "  }\n",
              "</style>\n",
              "\n",
              "  <script>\n",
              "    async function quickchart(key) {\n",
              "      const quickchartButtonEl =\n",
              "        document.querySelector('#' + key + ' button');\n",
              "      quickchartButtonEl.disabled = true;  // To prevent multiple clicks.\n",
              "      quickchartButtonEl.classList.add('colab-df-spinner');\n",
              "      try {\n",
              "        const charts = await google.colab.kernel.invokeFunction(\n",
              "            'suggestCharts', [key], {});\n",
              "      } catch (error) {\n",
              "        console.error('Error during call to suggestCharts:', error);\n",
              "      }\n",
              "      quickchartButtonEl.classList.remove('colab-df-spinner');\n",
              "      quickchartButtonEl.classList.add('colab-df-quickchart-complete');\n",
              "    }\n",
              "    (() => {\n",
              "      let quickchartButtonEl =\n",
              "        document.querySelector('#df-e4ac1568-9383-4de4-89ce-c1042c1782e5 button');\n",
              "      quickchartButtonEl.style.display =\n",
              "        google.colab.kernel.accessAllowed ? 'block' : 'none';\n",
              "    })();\n",
              "  </script>\n",
              "</div>\n",
              "\n",
              "  <div id=\"id_4d2a658c-6d76-4028-9e55-3a3b85390339\">\n",
              "    <style>\n",
              "      .colab-df-generate {\n",
              "        background-color: #E8F0FE;\n",
              "        border: none;\n",
              "        border-radius: 50%;\n",
              "        cursor: pointer;\n",
              "        display: none;\n",
              "        fill: #1967D2;\n",
              "        height: 32px;\n",
              "        padding: 0 0 0 0;\n",
              "        width: 32px;\n",
              "      }\n",
              "\n",
              "      .colab-df-generate:hover {\n",
              "        background-color: #E2EBFA;\n",
              "        box-shadow: 0px 1px 2px rgba(60, 64, 67, 0.3), 0px 1px 3px 1px rgba(60, 64, 67, 0.15);\n",
              "        fill: #174EA6;\n",
              "      }\n",
              "\n",
              "      [theme=dark] .colab-df-generate {\n",
              "        background-color: #3B4455;\n",
              "        fill: #D2E3FC;\n",
              "      }\n",
              "\n",
              "      [theme=dark] .colab-df-generate:hover {\n",
              "        background-color: #434B5C;\n",
              "        box-shadow: 0px 1px 3px 1px rgba(0, 0, 0, 0.15);\n",
              "        filter: drop-shadow(0px 1px 2px rgba(0, 0, 0, 0.3));\n",
              "        fill: #FFFFFF;\n",
              "      }\n",
              "    </style>\n",
              "    <button class=\"colab-df-generate\" onclick=\"generateWithVariable('testresult')\"\n",
              "            title=\"Generate code using this dataframe.\"\n",
              "            style=\"display:none;\">\n",
              "\n",
              "  <svg xmlns=\"http://www.w3.org/2000/svg\" height=\"24px\"viewBox=\"0 0 24 24\"\n",
              "       width=\"24px\">\n",
              "    <path d=\"M7,19H8.4L18.45,9,17,7.55,7,17.6ZM5,21V16.75L18.45,3.32a2,2,0,0,1,2.83,0l1.4,1.43a1.91,1.91,0,0,1,.58,1.4,1.91,1.91,0,0,1-.58,1.4L9.25,21ZM18.45,9,17,7.55Zm-12,3A5.31,5.31,0,0,0,4.9,8.1,5.31,5.31,0,0,0,1,6.5,5.31,5.31,0,0,0,4.9,4.9,5.31,5.31,0,0,0,6.5,1,5.31,5.31,0,0,0,8.1,4.9,5.31,5.31,0,0,0,12,6.5,5.46,5.46,0,0,0,6.5,12Z\"/>\n",
              "  </svg>\n",
              "    </button>\n",
              "    <script>\n",
              "      (() => {\n",
              "      const buttonEl =\n",
              "        document.querySelector('#id_4d2a658c-6d76-4028-9e55-3a3b85390339 button.colab-df-generate');\n",
              "      buttonEl.style.display =\n",
              "        google.colab.kernel.accessAllowed ? 'block' : 'none';\n",
              "\n",
              "      buttonEl.onclick = () => {\n",
              "        google.colab.notebook.generateWithVariable('testresult');\n",
              "      }\n",
              "      })();\n",
              "    </script>\n",
              "  </div>\n",
              "\n",
              "    </div>\n",
              "  </div>\n"
            ],
            "application/vnd.google.colaboratory.intrinsic+json": {
              "type": "dataframe",
              "variable_name": "testresult",
              "summary": "{\n  \"name\": \"testresult\",\n  \"rows\": 20,\n  \"fields\": [\n    {\n      \"column\": \"contextstr\",\n      \"properties\": {\n        \"dtype\": \"string\",\n        \"num_unique_values\": 20,\n        \"samples\": [\n          \"FINRA Rule 3310\",\n          \"Her passport expires on Jan 10 2026\",\n          \"what is 31 U.S.C. 5318A\"\n        ],\n        \"semantic_type\": \"\",\n        \"description\": \"\"\n      }\n    },\n    {\n      \"column\": \"piidetected\",\n      \"properties\": {\n        \"dtype\": \"boolean\",\n        \"num_unique_values\": 2,\n        \"samples\": [\n          true,\n          false\n        ],\n        \"semantic_type\": \"\",\n        \"description\": \"\"\n      }\n    },\n    {\n      \"column\": \"detectedtext\",\n      \"properties\": {\n        \"dtype\": \"object\",\n        \"semantic_type\": \"\",\n        \"description\": \"\"\n      }\n    },\n    {\n      \"column\": \"result\",\n      \"properties\": {\n        \"dtype\": \"object\",\n        \"semantic_type\": \"\",\n        \"description\": \"\"\n      }\n    }\n  ]\n}"
            }
          },
          "metadata": {},
          "execution_count": 73
        }
      ]
    }
  ]
}